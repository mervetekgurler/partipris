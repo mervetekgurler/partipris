{
 "cells": [
  {
   "cell_type": "markdown",
   "id": "8509830b",
   "metadata": {},
   "source": [
    "# Text Extraction"
   ]
  },
  {
   "cell_type": "markdown",
   "id": "d83dd758",
   "metadata": {},
   "source": [
    "Welcome! This notebook documents the workflow for extracting and validating article-level text from the Parti Pris PDF corpus using the Gemini API.\n",
    "\n",
    "It includes setup instructions, code examples, and quality control steps.  "
   ]
  },
  {
   "cell_type": "markdown",
   "id": "48d1a768",
   "metadata": {},
   "source": [
    "## Table of Contents\n",
    "\n",
    "- [Introduction](#introduction)\n",
    "- [Corpus](#corpus)\n",
    "- [Prompting Approach](#prompting-approach)\n",
    "- [Gemini API Key](#gemini-api-key)\n",
    "- [Configure Gemini API](#configure-gemini-api)\n",
    "- [Designing the Prompt for Text Extraction](#designing-the-prompt-for-text-extraction)\n",
    "- [Discussion](#discussion)\n",
    "  - [Advantages](#advantages)\n",
    "  - [Challenges](#challenges)\n",
    "- [Table of Contents Extraction](#table-of-contents-extraction)\n",
    "- [Conclusion](#conclusion)\n",
    "- [Reusability and Broader Applications](#reusability-and-broader-applications)\n",
    "- [Limitations](#limitations)\n"
   ]
  },
  {
   "cell_type": "markdown",
   "id": "b42d5a85",
   "metadata": {},
   "source": [
    "## Introduction"
   ]
  },
  {
   "cell_type": "markdown",
   "id": "90b441ce",
   "metadata": {},
   "source": [
    "The following notebook details Merve Tekgürler's approach to text extraction from the Parti Pris corpus from Summer 2025.\n",
    "\n",
    "<figure>\n",
    "    <img src=\"../img/parti_pris_cover.png\"\n",
    "         alt=\"Cover of Parti Pris's October 1963 issue\">\n",
    "    <figcaption>Cover of <a href=\"https://collections.banq.qc.ca/ark:/52327/2314782\" target=\"_blank\">Parti Pris' inaugural issue</a> from October 1963.</figcaption>\n",
    "</figure>"
   ]
  },
  {
   "cell_type": "markdown",
   "id": "1093d87f",
   "metadata": {},
   "source": [
    "In 2023-2024, Chloé Brault, Clare Chua, and Em Ho compiled the Parti Pris corpus and extracted texts from the same PDFs using ABBYY FineReader. More details about their work can be found [here](https://msuglobaldh.org/abstracts/#brault).\n",
    "\n",
    "Tekgürler and Brault revisited the project in Summer 2025. This notebook describes how we used Gemini 2.5 API to extract texts from the Parti Pris corpus. It shared the prompting code and offers some insights into the decisions that went into the designing of the prompts as well as safeguards to verify the quality of the OCR output. We "
   ]
  },
  {
   "cell_type": "markdown",
   "id": "c65d58b3",
   "metadata": {},
   "source": [
    "## Corpus"
   ]
  },
  {
   "cell_type": "markdown",
   "id": "a3eea980",
   "metadata": {},
   "source": [
    "The complete Parti Pris PDF corpus is approximately 3.48GB in size and includes all 42 issues from the magazine’s entire print run, digitized by the Bibliothèque et Archives Nationales du Québec (BAnQ).\n",
    "\n",
    "<figure>\n",
    "    <img src=\"../img/banq.png\"\n",
    "         alt=\"Screenshot showing the search page for Parti Pris on the BAnQ website\">\n",
    "    <figcaption>Searching for Parti Pris on the BAnQ website. You can find all the issues of Parti Pris and download the PDFs by following <a href=\"https://numerique.banq.qc.ca/rechercheExterne/encoded/Kg==/false/D/asc/W3sibm9tIjoiY29ycHVzIiwidmFsZXVyIjoiUGF0cmltb2luZSUyMHF1w6liw6ljb2lzIn0seyJub20iOiJ0eXBlX2RvY19mIiwidmFsZXVyIjoiUmV2dWVzJTIwZXQlMjBqb3VybmF1eCJ9LHsibm9tIjoibnVtZXJvX25vdGljZSIsInZhbGV1ciI6IjAwMDAxNjMxMjIifV0=/Toutes%20les%20ressources/true/false/\" target=\"_blank\">this search link</a>. </figcaption>\n",
    "</figure>\n",
    "\n",
    "There are three example PDFs in the data folder of this repository (../data/full_pdfs and ../data/split_pdfs), for testing the code in this notebook."
   ]
  },
  {
   "cell_type": "markdown",
   "id": "debf6731",
   "metadata": {},
   "source": [
    "You can adapt this code to your own corpus. There are details in each step describing how and why we made certain decisions. You do not need to run the entire notebook but we would recommend going over it with our data and understanding what the code does before adapting it to your corpora.\n",
    "\n",
    "This will become more clear when you see the examples but we *strongly urge* you to modify the JSON article schema for Gemini API calls to your corpus. "
   ]
  },
  {
   "cell_type": "markdown",
   "id": "bb3645a7",
   "metadata": {},
   "source": [
    "Before getting started, don't forget to **install dependencies**  \n",
    "\n",
    "Run the following in your terminal or a notebook cell:\n",
    "\n",
    "```python\n",
    "pip install google-genai python-dotenv pypdf pillow pandas matplotlib seaborn rapidfuzz\n",
    "```"
   ]
  },
  {
   "cell_type": "markdown",
   "id": "b584e539",
   "metadata": {},
   "source": [
    "## Prompting Approach"
   ]
  },
  {
   "cell_type": "markdown",
   "id": "a2d26c84",
   "metadata": {},
   "source": [
    "The previous iteration of this project experimented with OCR'ing entire issues of Parti Pris and then spliting it into small chunks of text for further analysis. This allowed us, for example, to experiment with Named Entity Recognition algorithms to identify places mentioned in this corpus or run word frequency-based analyses to discover trends across the whole corpus. It has however proven to be rather difficult to split the OCR'ed issues into individual articles.\n",
    "\n",
    "In this new iteration of the project, we revisit our approach to OCR. We use the Gemini 2.5 API to extract text and return a JSON object containing each article as a separate entry."
   ]
  },
  {
   "cell_type": "markdown",
   "id": "d98c5fab",
   "metadata": {},
   "source": [
    "### Gemini API Key\n",
    "\n",
    "To prompt Gemini for text extraction, you need to obtain an API key. [This Authentication notebook](https://github.com/google-gemini/cookbook/blob/db5e894d85ccef13cb95d65353407f4ffbcd297c/quickstarts/Authentication.ipynb) shows you how to obtain an API key. If you are new to Gemini or generally accessing LLMs through API calls, [this Getting Started notabook](https://github.com/google-gemini/cookbook/blob/main/quickstarts/Get_started.ipynb) is a great place to start experimenting.\n",
    "\n",
    "Once you have an API key, create a `.env` file in the root of your repository and add it to `.gitignore`. After pushing the changes to GitHub, spen your `.env` file and type `GEMINI_API_KEY=\"YOUR_API_KEY\"`, where \"YOUR_API_KEY\" corresponds to the actual key."
   ]
  },
  {
   "cell_type": "code",
   "execution_count": 1,
   "id": "4d7836ad",
   "metadata": {},
   "outputs": [
    {
     "name": "stdout",
     "output_type": "stream",
     "text": [
      "API key loaded successfully.\n"
     ]
    }
   ],
   "source": [
    "# Let's load our API key from the environment\n",
    "# we will use the python-dotenv package to load the .env file \n",
    "# https://pypi.org/project/python-dotenv/\n",
    "\n",
    "import os\n",
    "from dotenv import load_dotenv\n",
    "\n",
    "load_dotenv() # By default load_dotenv will look for the .env file in the current working directory\n",
    "\n",
    "api_key = os.getenv(\"GEMINI_API_KEY\")\n",
    "\n",
    "if api_key:\n",
    "    print(\"API key loaded successfully.\")"
   ]
  },
  {
   "cell_type": "markdown",
   "id": "517adf78",
   "metadata": {},
   "source": [
    "### Configure Gemini API"
   ]
  },
  {
   "cell_type": "code",
   "execution_count": 2,
   "id": "c046828e",
   "metadata": {},
   "outputs": [],
   "source": [
    "from google import genai\n",
    "from google.genai import types\n",
    "\n",
    "client = genai.Client(api_key=api_key)"
   ]
  },
  {
   "cell_type": "code",
   "execution_count": 3,
   "id": "5c9c2167",
   "metadata": {},
   "outputs": [],
   "source": [
    "# Initialize Gemini 2.5 Flash\n",
    "MODEL_ID = 'gemini-2.5-flash'"
   ]
  },
  {
   "cell_type": "code",
   "execution_count": 4,
   "id": "195cbd4a",
   "metadata": {},
   "outputs": [
    {
     "data": {
      "text/markdown": [
       "The largest planet in our solar system is **Jupiter**."
      ],
      "text/plain": [
       "<IPython.core.display.Markdown object>"
      ]
     },
     "execution_count": 4,
     "metadata": {},
     "output_type": "execute_result"
    }
   ],
   "source": [
    "# small test to make sure that the model is working\n",
    "\n",
    "from IPython.display import Markdown\n",
    "\n",
    "response = client.models.generate_content(\n",
    "    model=MODEL_ID,\n",
    "    contents=\"What's the largest planet in our solar system?\"\n",
    ")\n",
    "\n",
    "Markdown(response.text)"
   ]
  },
  {
   "cell_type": "markdown",
   "id": "4a39fecf",
   "metadata": {},
   "source": [
    "### Designing the Prompt for Text Extraction"
   ]
  },
  {
   "cell_type": "markdown",
   "id": "93bb581b",
   "metadata": {},
   "source": [
    "The goal of our project is to get high quality and accurate OCR output for each issue of Parti Pris, split by article. We also have some constraints: \n",
    "\n",
    "- We are working with PDFs, so we need to upload files with our prompt.\n",
    "- We want structured output, so JSON generation is our best option.\n",
    "- We want to control the generation, so we need to understand how the criteria for text extraction that we outline in our prompt impacts the output.\n",
    "- We need to figure out how the thinking aspect of Gemini 2.5 changes impacts prompting\n",
    "\n",
    "For further refences, please take a look at Gemini code examples and documentation.\n",
    "- Document Understanding and Processing: [documentation](https://ai.google.dev/gemini-api/docs/document-processing), [code](https://colab.research.google.com/github/GoogleCloudPlatform/generative-ai/blob/main/gemini/use-cases/document-processing/document_processing.ipynb#scrollTo=Nqwi-5ufWp_B)\n",
    "- Structured Output and JSON: [documentation](https://ai.google.dev/gemini-api/docs/structured-output), [code](https://colab.research.google.com/github/google-gemini/cookbook/blob/main/quickstarts/JSON_mode.ipynb#scrollTo=JiIxKaLl4R0f)\n",
    "- Thinking: [documentation](https://ai.google.dev/gemini-api/docs/thinking)"
   ]
  },
  {
   "cell_type": "code",
   "execution_count": 67,
   "id": "722339bd",
   "metadata": {},
   "outputs": [
    {
     "data": {
      "text/markdown": [
       "This document is the first issue of *Parti Pris*, a political and literary review published in Montreal in October 1963.\n",
       "\n",
       "Here's a summary of its key contents and philosophy:\n",
       "\n",
       "*   **Overall Mission & Stance:**\n",
       "    *   *Parti Pris* aims to be a \"political and literary review\" that \"takes a stance\" (*prendre parti*) rather than adopting a detached \"objectivity.\"\n",
       "    *   It seeks to \"demystify\" and \"create a truth\" that transforms Quebec society, viewing analysis and reflection as integral parts of action.\n",
       "    *   The ultimate goal is to achieve a \"free, secular, and socialist State\" through a \"total revolution.\"\n",
       "\n",
       "*   **Analysis of Quebec's Situation (\"Notre Perspective\"):**\n",
       "    *   **Alienation:** Quebec is described as a \"colonized and exploited\" society, suffering from alienation at political, economic, and cultural levels due to external domination (Canadian/American) and internal structures.\n",
       "    *   **Critique of Previous Generation:** The magazine criticizes older intellectuals (e.g., *Cité Libre*) for their \"abstract dialogue\" and \"objectivity,\" which failed to address the root causes of alienation and avoided radical change.\n",
       "    *   **Youth as Revolutionary Force:** The current generation is presented as having moved beyond individual \"revolt\" (like the \"Refus Global\" movement) to a collective \"revolutionary attitude,\" understanding societal alienation as a colonial problem.\n",
       "    *   **The FLQ (Front de libération du Québec):** The arrests of FLQ members are presented as a manifestation of this new, impatient youth, whose violence is seen as a \"therapeutic effect\" necessary to shake the long-stagnant society and reveal its inherent violence.\n",
       "\n",
       "*   **Historical & Sociological Context (\"Du Duplessisme au F.L.Q.\"):**\n",
       "    *   **Legacy of Conquest:** The 1760 conquest led to French Canadians being restricted to religious and cultural spheres, while political and economic control remained with others.\n",
       "    *   **\"Feudal Spirit\" & \"Agriculturism\":** The clerical and traditional elite perpetuated a \"feudal spirit\" and an \"agriculturist\" ideology, which, by devaluing industrialization and finance, effectively left the economic field open to foreign capitalists.\n",
       "    *   **Industrialization & Mass Culture:** Despite the elite's efforts, industrialization and urbanization brought American mass culture, leading to the \"assimilation\" of Quebecers and exacerbating their economic inferiority and unemployment.\n",
       "    *   **Political Evolution (1960-1963):** The Liberal victory in 1960 and the nationalization of electricity are seen as positive steps, but the fundamental struggle against Canadian Confederation and foreign economic control continues.\n",
       "\n",
       "*   **Vision for \"Total Revolution\" (\"Vers une révolution totale\"):**\n",
       "    *   **Comprehensive Change:** A \"total revolution\" is defined as a radical transformation of the entire life of the people (economy, social structures, politics, culture), going beyond mere political shifts.\n",
       "    *   **Two Fundamental Contradictions:**\n",
       "        1.  Canado-American imperialism.\n",
       "        2.  Private appropriation of national wealth and exploitation of wage labor.\n",
       "    *   **Solutions:**\n",
       "        *   **Political Independence:** Essential for Quebec (ideally a \"French Republic in America\") to gain control over its destiny.\n",
       "        *   **Economic Socialism:** Nationalization of all significant foreign-controlled enterprises is deemed necessary for genuine economic liberation, a step impossible under capitalism or within the existing Confederation.\n",
       "        *   **New Democracy:** Emphasizes \"people's power\" through the conscious participation of the working masses and a \"National Unity Government\" (Front National et Populaire), moving beyond traditional parliamentary democracy.\n",
       "    *   **Interconnectedness:** Socialism, popular democracy, and independence are presented as an inseparable trinity.\n",
       "\n",
       "*   **Cultural & Critical Sections (\"Poèmes\" & \"Chroniques\"):**\n",
       "    *   **Poetry:** Features poems by Paul Chamberland and André Brochu (and André Major) that reflect themes of identity, land, anger, hope, and the struggle for liberation.\n",
       "    *   **Critique of Information:** The magazine's \"Chroniques\" section critiques mainstream media for its \"mystification\" and biased portrayal of the FLQ and separatist movements.\n",
       "    *   **RIN & FLQ:** Discusses the RIN's (Rassemblement pour l'indépendance nationale) evolution and its eventual acceptance of the FLQ's violent actions as a necessary catalyst for the revolution.\n",
       "    *   **Cultural Criticism:** Argues that cultural production is directly linked to political and economic realities, and therefore cultural criticism must be revolutionary.\n",
       "    *   **Abrasive Tone:** The \"Vulgarités\" section explicitly states its intention to be \"vulgar and vengeful\" to express animosities and challenges, showcasing the magazine's confrontational style.\n",
       "\n",
       "The issue lays out a foundational ideology for Quebec's independence movement, intertwining political, economic, and cultural liberation, and positioning *Parti Pris* as a key intellectual driver of this \"total revolution.\""
      ],
      "text/plain": [
       "<IPython.core.display.Markdown object>"
      ]
     },
     "execution_count": 67,
     "metadata": {},
     "output_type": "execute_result"
    }
   ],
   "source": [
    "# 1. Let's upload a PDF file and ask the model to summarize it\n",
    "# This way we can test the model's ability to handle file uploads\n",
    "\n",
    "import pathlib\n",
    "\n",
    "pdf_path = pathlib.Path('../data/full_pdfs/163122_1-1963-10.pdf')\n",
    "\n",
    "file_upload = client.files.upload(file=pdf_path)\n",
    "\n",
    "response = client.models.generate_content(\n",
    "    model=MODEL_ID,\n",
    "    contents=[\n",
    "        file_upload,\n",
    "        \"Can you summarize this file as a bulleted list?\",\n",
    "    ]\n",
    ")\n",
    "\n",
    "Markdown(response.text)"
   ]
  },
  {
   "cell_type": "code",
   "execution_count": null,
   "id": "3ed41f5e",
   "metadata": {},
   "outputs": [],
   "source": [
    "print(response)"
   ]
  },
  {
   "cell_type": "markdown",
   "id": "7cfc948f",
   "metadata": {},
   "source": [
    "```python\n",
    "sdk_http_response=HttpResponse(\n",
    "  headers=<dict len=11>\n",
    ") candidates=[Candidate(\n",
    "  content=Content(\n",
    "    parts=[\n",
    "      Part(\n",
    "        text='[not shown here due to space]'\n",
    "      ),\n",
    "    ],\n",
    "    role='model'\n",
    "  ),\n",
    "  finish_reason=<FinishReason.STOP: 'STOP'>,\n",
    "  index=0\n",
    ")] create_time=None response_id=None model_version='gemini-2.5-flash' prompt_feedback=None usage_metadata=GenerateContentResponseUsageMetadata(\n",
    "  candidates_token_count=933,\n",
    "  prompt_token_count=17040,\n",
    "  prompt_tokens_details=[\n",
    "    ModalityTokenCount(\n",
    "      modality=<MediaModality.TEXT: 'TEXT'>,\n",
    "      token_count=12\n",
    "    ),\n",
    "    ModalityTokenCount(\n",
    "      modality=<MediaModality.DOCUMENT: 'DOCUMENT'>,\n",
    "      token_count=17028\n",
    "    ),\n",
    "  ],\n",
    "  thoughts_token_count=2753,\n",
    "  total_token_count=20726\n",
    ") automatic_function_calling_history=[] parsed=None\n",
    "```"
   ]
  },
  {
   "cell_type": "markdown",
   "id": "a0f0f00d",
   "metadata": {},
   "source": [
    "Based on the information contained in the whole prompt, we can see that the `prompt_token_count` has two modalities: text and document. Text is the part of the prompt that we have written and document is our PDF.\n",
    "\n",
    "`thoughts_token_count` refers to the thought token that the model used in an internal thinking process.\n",
    "\n",
    "`candidates_token_count` refers to the output tokens"
   ]
  },
  {
   "cell_type": "code",
   "execution_count": 68,
   "id": "708ad7c3",
   "metadata": {},
   "outputs": [
    {
     "name": "stdout",
     "output_type": "stream",
     "text": [
      "Prompt tokens: 17040\n",
      "Thoughts tokens: 2661\n",
      "Output tokens: 1092\n",
      "Total tokens: 20793\n"
     ]
    }
   ],
   "source": [
    "# Let's print the usage metadata\n",
    "print(\"Prompt tokens:\",response.usage_metadata.prompt_token_count)\n",
    "print(\"Thoughts tokens:\",response.usage_metadata.thoughts_token_count)\n",
    "print(\"Output tokens:\",response.usage_metadata.candidates_token_count)\n",
    "print(\"Total tokens:\",response.usage_metadata.total_token_count)"
   ]
  },
  {
   "cell_type": "markdown",
   "id": "1f9346d7",
   "metadata": {},
   "source": [
    "- Prompt tokens: 17040\n",
    "- Thoughts tokens: 2661\n",
    "- Output tokens: 1092\n",
    "- Total tokens: 20793\n",
    "\n",
    "This shows that the model used more than 2.5 times as many thinking tokens as output tokens."
   ]
  },
  {
   "cell_type": "code",
   "execution_count": null,
   "id": "0a6b2fdf",
   "metadata": {},
   "outputs": [],
   "source": [
    "# 2. Let's upload the same PDF file and ask the model to extract text from it\n",
    "# At the same time, let's also set a specific thinking budget for the model\n",
    "\n",
    "pdf_path = pathlib.Path('../data/full_pdfs/163122_1-1963-10.pdf')\n",
    "\n",
    "file_upload = client.files.upload(file=pdf_path)\n",
    "\n",
    "response = client.models.generate_content(\n",
    "    model=MODEL_ID,\n",
    "    contents=[\n",
    "        file_upload,\n",
    "        \"Transcribe the entire PDF. Do not change a word. Make sure to mark the beginnings of each section clearly.\",\n",
    "    ],\n",
    "    config=types.GenerateContentConfig(\n",
    "        thinking_config=types.ThinkingConfig(thinking_budget=1024)\n",
    "        # Turn off thinking:\n",
    "        # thinking_config=types.ThinkingConfig(thinking_budget=0)\n",
    "        # Turn on dynamic thinking:\n",
    "        # thinking_config=types.ThinkingConfig(thinking_budget=-1)\n",
    "    ),\n",
    ")\n",
    "\n",
    "Markdown(response.text)"
   ]
  },
  {
   "cell_type": "code",
   "execution_count": null,
   "id": "8f89ffe5",
   "metadata": {},
   "outputs": [],
   "source": [
    "# save response to a file\n",
    "output_path = pathlib.Path('../data/instructional/1963-10_test1.txt')\n",
    "output_path.parent.mkdir(parents=True, exist_ok=True)\n",
    "with open(output_path, 'w') as f:\n",
    "    f.write(response.text)"
   ]
  },
  {
   "cell_type": "code",
   "execution_count": null,
   "id": "b2c5d690",
   "metadata": {},
   "outputs": [],
   "source": [
    "# You can see the response by loading it from the saved file\n",
    "with open('../data/instructional/1963-10_test1.txt', 'r') as f:\n",
    "    response_text = f.read()\n",
    "print(response_text)"
   ]
  },
  {
   "cell_type": "code",
   "execution_count": 71,
   "id": "be9332f7",
   "metadata": {},
   "outputs": [
    {
     "name": "stdout",
     "output_type": "stream",
     "text": [
      "Prompt tokens: 17052\n",
      "Thoughts tokens: 1273\n",
      "Output tokens: 40650\n",
      "Total tokens: 58975\n"
     ]
    }
   ],
   "source": [
    "# Let's see the usage metadata\n",
    "print(\"Prompt tokens:\",response.usage_metadata.prompt_token_count)\n",
    "print(\"Thoughts tokens:\",response.usage_metadata.thoughts_token_count)\n",
    "print(\"Output tokens:\",response.usage_metadata.candidates_token_count)\n",
    "print(\"Total tokens:\",response.usage_metadata.total_token_count)"
   ]
  },
  {
   "cell_type": "markdown",
   "id": "8a0e4a2e",
   "metadata": {},
   "source": [
    "Hmm, our output is not that useful. It looks more like the output of an OCR software, which does not produce the same kind of structure that we need. (If you cannot run this test, please instead take a look at the text file at ../data/1963-10_test1.text)\n",
    "\n",
    "We seem to be on the right track though!"
   ]
  },
  {
   "cell_type": "markdown",
   "id": "1fe28e5a",
   "metadata": {},
   "source": [
    "There are two ways to get a model to produce JSON files.\n",
    "\n",
    "1. Describing a JSON structure in the prompt\n",
    "2. Creating a JSON schema"
   ]
  },
  {
   "cell_type": "markdown",
   "id": "3607b11d",
   "metadata": {},
   "source": [
    "This is what a prompt for a JSON structure looks like\n",
    "\n",
    "```python\n",
    "prompt = \"\"\"\n",
    "Transcribe the entire PDF as accurately as possible, preserving the original words.\n",
    "\n",
    "Fix only hyphenated words that are split across lines (e.g., “hyphen-\\nation” → “hyphenation”).\n",
    "Preserve paragraph breaks, but remove all line breaks within paragraphs.\n",
    "\n",
    "This PDF contains multiple articles. For each article, extract and return the following in a JSON format:\n",
    "\n",
    "    author: the author's name\n",
    "\n",
    "    title: the article title\n",
    "\n",
    "    pages: the page range (e.g., \"12–15\")\n",
    "\n",
    "    text: the full transcribed text\n",
    "\n",
    "Return one JSON object with all the articles.\n",
    "\"\"\"\n",
    "```"
   ]
  },
  {
   "cell_type": "markdown",
   "id": "2cbc9b40",
   "metadata": {},
   "source": [
    "This works too, but the JSON schema method turned out to be more reliable, which is what we did for extracting texts below."
   ]
  },
  {
   "cell_type": "code",
   "execution_count": null,
   "id": "5e46ee76",
   "metadata": {},
   "outputs": [
    {
     "name": "stdout",
     "output_type": "stream",
     "text": [
      "Prompt tokens: 8593\n",
      "Thoughts tokens: 1463\n",
      "Output tokens: 18799\n",
      "Total tokens: 28855\n"
     ]
    }
   ],
   "source": [
    "# 3. JSON time! Let's bring in some structure to the response\n",
    "\n",
    "import json\n",
    "import typing_extensions as typing\n",
    "\n",
    "# Define your article schema\n",
    "class Article(typing.TypedDict):\n",
    "    author: str\n",
    "    title: str\n",
    "    page_range: str\n",
    "    text: str\n",
    "\n",
    "pdf_path = pathlib.Path('../data/full_pdfs/163122_1-1963-10.pdf')\n",
    "json_filename = '../data/instructional/1963-10_test2.json'\n",
    "\n",
    "# pdf_path = pathlib.Path('/Users/mervetekgurler/Documents/partipris/pdf_corpus/split_pdfs/163122_2-1968-01-B.pdf')\n",
    "# json_filename = '../data/transcriptions/163122_2-1968-01-B.json'\n",
    "\n",
    "file_upload = client.files.upload(file=pdf_path)\n",
    "\n",
    "prompt = \"\"\"\n",
    "Transcribe the entire PDF as accurately as possible, preserving the original words.\n",
    "\n",
    "Fix only hyphenated words that are split across lines (e.g., “entrepri- se” → “entreprise”).\n",
    "Preserve paragraph breaks, but not line breaks.\n",
    "This PDF contains multiple articles.\n",
    "Return ONLY a JSON array of articles, with no extra text or explanation.\n",
    "\"\"\"\n",
    "\n",
    "response = client.models.generate_content(\n",
    "    model=MODEL_ID,\n",
    "    contents=[file_upload, prompt],\n",
    "    config={\n",
    "        'response_mime_type': 'application/json',\n",
    "        'response_schema': list[Article],\n",
    "        'thinking_config': types.ThinkingConfig(thinking_budget=2000)\n",
    "    },\n",
    ")\n",
    "\n",
    "# Parse the JSON string to a Python object\n",
    "data = json.loads(response.text)\n",
    "\n",
    "# Save the Python object as JSON\n",
    "with open(json_filename, 'w', encoding='utf-8') as f:\n",
    "    json.dump(data, f, ensure_ascii=False, indent=2)\n",
    "\n",
    "print(\"Prompt tokens:\",response.usage_metadata.prompt_token_count)\n",
    "print(\"Thoughts tokens:\",response.usage_metadata.thoughts_token_count)\n",
    "print(\"Output tokens:\",response.usage_metadata.candidates_token_count)\n",
    "print(\"Total tokens:\",response.usage_metadata.total_token_count)"
   ]
  },
  {
   "cell_type": "code",
   "execution_count": null,
   "id": "22e2b964",
   "metadata": {},
   "outputs": [],
   "source": [
    "Markdown(response.text)"
   ]
  },
  {
   "cell_type": "markdown",
   "id": "23246e60",
   "metadata": {},
   "source": [
    "Much better! We can clearly see that the model followed the schema. Each article in this issue looks like this:\n",
    "\n",
    "```python\n",
    "{\n",
    "    \"author\": \"Comité de rédaction\",\n",
    "    \"title\": \"présentation\",\n",
    "    \"pages\": \"4-6\",\n",
    "    \"text\": \"Prendre parti, essentiellement, .......\"\n",
    "}\n",
    "```\n",
    "\n",
    "Again if you cannot run this code, you can see the output by opening the JSON file (../data/1963-10_test2.json)"
   ]
  },
  {
   "cell_type": "code",
   "execution_count": null,
   "id": "4491fe01",
   "metadata": {},
   "outputs": [],
   "source": [
    "# Let's loop through the PDF corpus and extract the text from each PDF file\n",
    "# We won't actually run this code, but you can use it as a template for your own corpus\n",
    "\n",
    "import pathlib\n",
    "import json\n",
    "import typing_extensions as typing\n",
    "import csv\n",
    "from IPython.display import Markdown\n",
    "import time\n",
    "\n",
    "# Define your article schema\n",
    "class Article(typing.TypedDict):\n",
    "    author: str\n",
    "    title: str\n",
    "    page_range: str\n",
    "    text: str\n",
    "\n",
    "# Paths\n",
    "pdf_folder = pathlib.Path('your_path_here/pdfs')\n",
    "output_folder = pathlib.Path('your_path_here/gemini_transcriptions')\n",
    "output_folder.mkdir(exist_ok=True)\n",
    "csv_path = output_folder / 'transcription_usage.csv'\n",
    "\n",
    "# Prepare CSV\n",
    "csv_fields = ['pdf_filename', 'json_filename', 'prompt_tokens', 'thoughts_tokens', 'output_tokens', 'total_tokens', 'note']\n",
    "if not csv_path.exists():\n",
    "    with open(csv_path, 'w', newline='', encoding='utf-8') as csvfile:\n",
    "        writer = csv.DictWriter(csvfile, fieldnames=csv_fields)\n",
    "        writer.writeheader()\n",
    "\n",
    "# Prompt\n",
    "prompt = \"\"\"\n",
    "Transcribe the entire PDF as accurately as possible, preserving the original words.\n",
    "\n",
    "Fix only hyphenated words that are split across lines (e.g., “entrepri- se” → “entreprise”).\n",
    "Preserve paragraph breaks, but not line breaks.\n",
    "This PDF contains multiple articles.\n",
    "Return ONLY a JSON array of articles, with no extra text or explanation.\n",
    "\"\"\"\n",
    "\n",
    "# Loop over PDFs\n",
    "for pdf_path in pdf_folder.glob('*.pdf'):\n",
    "    print(pdf_path)\n",
    "    filename = pdf_path.stem\n",
    "    json_filename = filename + '.json'\n",
    "    json_path = output_folder / json_filename\n",
    "\n",
    "    # Check file size (50MB = 50 * 1024 * 1024 bytes)\n",
    "    if pdf_path.stat().st_size > 50 * 1024 * 1024:\n",
    "        # Log skipped file\n",
    "        info = {\n",
    "            'pdf_filename': pdf_path.name,\n",
    "            'json_filename': '',\n",
    "            'prompt_tokens': '',\n",
    "            'thoughts_tokens': '',\n",
    "            'output_tokens': '',\n",
    "            'total_tokens': '',\n",
    "            'note': 'SKIPPED: file too large'\n",
    "        }\n",
    "        with open(csv_path, 'a', newline='', encoding='utf-8') as csvfile:\n",
    "            writer = csv.DictWriter(csvfile, fieldnames=csv_fields)\n",
    "            writer.writerow(info)\n",
    "        print(f\"Skipped (too large): {pdf_path.name}\")\n",
    "        continue\n",
    "\n",
    "    file_upload = client.files.upload(file=pdf_path)\n",
    "\n",
    "\n",
    "    response = client.models.generate_content(\n",
    "        model=MODEL_ID,\n",
    "        contents=[file_upload, prompt],\n",
    "        config={\n",
    "            'response_mime_type': 'application/json',\n",
    "            'response_schema': list[Article],\n",
    "            'thinking_config': types.ThinkingConfig(thinking_budget=2000)\n",
    "        },\n",
    "    )\n",
    "\n",
    "    # Parse and save JSON\n",
    "    data = json.loads(response.text)\n",
    "    with open(json_path, 'w', encoding='utf-8') as f:\n",
    "        json.dump(data, f, ensure_ascii=False, indent=2)\n",
    "\n",
    "    # Gather usage info\n",
    "    info = {\n",
    "        'pdf_filename': pdf_path.name,\n",
    "        'json_filename': json_filename,\n",
    "        'prompt_tokens': response.usage_metadata.prompt_token_count,\n",
    "        'thoughts_tokens': response.usage_metadata.thoughts_token_count,\n",
    "        'output_tokens': response.usage_metadata.candidates_token_count,\n",
    "        'total_tokens': response.usage_metadata.total_token_count\n",
    "    }\n",
    "\n",
    "    # Save to CSV\n",
    "    with open(csv_path, 'a', newline='', encoding='utf-8') as csvfile:\n",
    "        writer = csv.DictWriter(csvfile, fieldnames=csv_fields)\n",
    "        writer.writerow(info)\n",
    "\n",
    "    # Print info\n",
    "    print(f\"Processed: {json_filename}\")\n",
    "    print(f\"Prompt tokens: {info['prompt_tokens']}\")\n",
    "    print(f\"Thoughts tokens: {info['thoughts_tokens']}\")\n",
    "    print(f\"Output tokens: {info['output_tokens']}\")\n",
    "    print(f\"Total tokens: {info['total_tokens']}\\n\")\n",
    "\n",
    "    # Wait before next request\n",
    "    time.sleep(30)"
   ]
  },
  {
   "cell_type": "markdown",
   "id": "7e717c16",
   "metadata": {},
   "source": [
    "While we won't be able to run the code above, we want to highlight a few things from it\n",
    "\n",
    "First of all, don't forget to add `time.sleep()` after each API call. We wait 30 seconds between calls which ensures that we won't hit the API limits.\n",
    "\n",
    "Second, we are creating a CSV and keeping track of three things:\n",
    "1. Some PDFs are over 50MB, which means that they cannot be processed in API calls. We keep track of this to return to these PDFs later\n",
    "2. We are saving the usage data, which we will use later for quality control\n",
    "3. Filenames! We are saving the name of the PDF and the name of the JSON file so that we can always find the correct files through this CSV\n",
    "\n",
    "Third, we tweaked our prompt. Since the JSON schema is uploaded with the prompt `'response_mime_type': 'application/json'` and `'response_schema': list[Article]`, we do describe the structure in the prompt. Instead we use that space for clarifying some details regarding text extraction.\n",
    "\n",
    "Four, we save each file right after it is created. This way if something goes wrong, we don't loose hours of work."
   ]
  },
  {
   "cell_type": "markdown",
   "id": "26f16177",
   "metadata": {},
   "source": [
    "## Discussion"
   ]
  },
  {
   "cell_type": "markdown",
   "id": "d817f3cb",
   "metadata": {},
   "source": [
    "### Advantages\n",
    "\n",
    "There are many advantanges to this approach. We automatically obtain texts split at article level associated with the author of that article as opposed to just with Parti Pris. Parti Pris has relatively standard layout and very few if any images or advertisement. The language is standard mid-century French. Most issues are about 60 pages long, which fits the context window of the model. The scans are in a high resolution. The model can be prompted to perform specific transformations such as making the paragraph breaks but not line breaks and joining hyphenated words back into full words. All this makes text extraction easier."
   ]
  },
  {
   "cell_type": "markdown",
   "id": "d3163dab",
   "metadata": {},
   "source": [
    "### Challenges\n",
    "\n",
    "At the same time there are some challenges inherent in prompting a Large Language Model (LLM) for OCR. These includes issues related to the size of the PDFs and difficulties with verifying the quality and the completeness the outputs. \n",
    "\n",
    "**PDF Size**\n",
    "\n",
    "the PDFs uploaded to the Gemini API cannot be larger than [50MB](https://github.com/googleapis/python-genai/issues/308). We had a total of 42 PDFs in this corpus and 18 of them were over 50MB. Some were only marginally larger, others were combined issues, reaching over 120 pages and 100MB. We could not split the PDFs automatically by size since our goal was to capture each article separately. A size or page number based approach could split up an article in the middle. This meant that we had to either reduce the size of the PDFs and risk reducing the quality of the resolution or split them manually. \n",
    "\n",
    "We had a two-part approach. First we transcribed all the PDFs, skipping the ones that were too large and making a note about that in the process. Afterwards we manually split the 18 large PDFs in Adobe Acrobat Pro, creating 42 new PDFs. We retained the filenames, adding '-A', '-B', etc to the end of the filenames. Then we ran a second pass of Gemini 2.5 transcription with the split PDFs.\n",
    "\n",
    "<figure>\n",
    "    <img src=\"../img/large_pdfs.png\"\n",
    "         alt=\"Screenshot showing the transcription token usage for API calls\">\n",
    "    <figcaption>Transcription token usage after the first pass</figcaption>\n",
    "</figure>\n",
    "\n",
    "<figure>\n",
    "    <img src=\"../img/second_pass_pdfs.png\"\n",
    "         alt=\"Screenshot showing the transcription token usage for API calls\">\n",
    "    <figcaption>Transcription token usage after the second pass</figcaption>\n",
    "</figure>"
   ]
  },
  {
   "cell_type": "markdown",
   "id": "331d6d19",
   "metadata": {},
   "source": [
    "**Quality and Completeness of the Output**\n",
    "\n",
    "*Before the API calls*\n",
    "\n",
    "Best method to check the quality of the output is to read the extracted texts and compare it to what you see on the PDF. We manually checked several examples before proceeding with the API calls. We tweaked our prompting based on these initial experiments. For example, we realized that the model marks line breaks with '\\n' which is not necessary for our research and prompted the model to not do that. Please note that marking the end of a line could be very useful if  for example you are working with a manuscript and want to publish a digital edition. You do need to mark the line breaks in that case.\n",
    "\n",
    "We also realized that the texts contained a lot of hyphenated words at the end of a line. Hyphenation is not common in English but in French, the word at the end of a line is split at the end of the last syllable that fits the line, an hyphen is added to signal this split and the rest of the word continues in the line below. The model tended to keep the hyphens resulting in words like 'enter- prise' instead of merging the word to 'enterprise'. It is not easy to get rid of hyphenation in post-OCR correction because French does make use of the hyphen regularly, for example in the contruction of a question like 'c'est' becomes 'est-ce'. This means that removing - as if it is just puncuation is not ideal. \n",
    "\n",
    "Picking up on the smaller, often language and corpus specific details helps design a more effective prompt.\n",
    "\n",
    "<figure>\n",
    "    <img src=\"../img/hyphenation.png\"\n",
    "         alt=\"Screenshot showing different uses of hyphen\">\n",
    "    <figcaption>Different uses of hyphen marked in red, when it is used for splitting a word at the end of a line and in green for other use cases.</figcaption>\n",
    "</figure>\n",
    "\n",
    "\n"
   ]
  },
  {
   "cell_type": "markdown",
   "id": "2189e867",
   "metadata": {},
   "source": [
    "\n",
    "*After scaling up*\n",
    "\n",
    "At a large scale, it is difficult to verify that each PDF has been OCR'ed entirely. Sometimes the model stopped producing text because it ran out of output tokens, particularly if the PDF was really long or if the model was using too many 'thinking' tokens. Sometimes the model added comments, descriptions of images and even translation, creating a much longer output than expected. We retained the token usage for each API call and looked for outliers. \n",
    "\n",
    "The easiest way to do that is to create a table of token usage. As you can see in the transcription usage table above, the PDF for June 1966 (163122_2-1966-06.pdf) has only 33 output tokens, which is only a fraction of the output tokens for the April 1966 issue which was 44k tokens long. In this case, this was not a model error but actually this issue does not exist. It has never been published. The PDF scanned by [the BAnQ](https://collections.banq.qc.ca/ark:/52327/2314811) reads \"Parti Pris Juin à Août Non paru\" (Parti Pris, June to August not published). \n",
    "\n",
    "In other instances like in September 1964 (163122_2-1964-09-01.pdf) and December 1964 (163122_2-1964-12-01.pdf), there are additional short pamphlets alongside the main issue. These pamphlets are denotated with '-01' after the date in the PDFs' filenames by the BAnQ. \n",
    "\n",
    "While these examples were real cases where the output should have way fewer tokens, this method of checking the output token sizes allowed us to discover inconsistencies in OCR output and rerun the API calls on issues where there was missing texts."
   ]
  },
  {
   "cell_type": "markdown",
   "id": "d5583ab6",
   "metadata": {},
   "source": [
    "A more in-depth way to check for this is to look at the relationship between the PDF size and the number of output tokens. For that we need to calculate the file sizes of all PDFs."
   ]
  },
  {
   "cell_type": "code",
   "execution_count": null,
   "id": "2607b543",
   "metadata": {},
   "outputs": [
    {
     "data": {
      "application/vnd.microsoft.datawrangler.viewer.v0+json": {
       "columns": [
        {
         "name": "index",
         "rawType": "int64",
         "type": "integer"
        },
        {
         "name": "pdf_filename",
         "rawType": "object",
         "type": "string"
        },
        {
         "name": "json_filename",
         "rawType": "object",
         "type": "string"
        },
        {
         "name": "prompt_tokens",
         "rawType": "int64",
         "type": "integer"
        },
        {
         "name": "thoughts_tokens",
         "rawType": "int64",
         "type": "integer"
        },
        {
         "name": "output_tokens",
         "rawType": "int64",
         "type": "integer"
        },
        {
         "name": "total_tokens",
         "rawType": "int64",
         "type": "integer"
        }
       ],
       "ref": "41a78b9a-eff3-4cab-9e68-2ea2f202e620",
       "rows": [
        [
         "0",
         "163122_1-1963-10.pdf",
         "163122_1-1963-10.json",
         "17107",
         "1406",
         "34382",
         "52895"
        ],
        [
         "1",
         "163122_1-1963-11.pdf",
         "163122_1-1963-11.json",
         "17107",
         "1456",
         "29757",
         "48320"
        ],
        [
         "2",
         "163122_1-1963-12.pdf",
         "163122_1-1963-12.json",
         "17107",
         "1986",
         "32445",
         "51538"
        ],
        [
         "3",
         "163122_1-1964-01.pdf",
         "163122_1-1964-01.json",
         "17107",
         "1381",
         "38662",
         "57150"
        ],
        [
         "4",
         "163122_1-1964-02.pdf",
         "163122_1-1964-02.json",
         "17107",
         "1371",
         "42279",
         "60757"
        ]
       ],
       "shape": {
        "columns": 6,
        "rows": 5
       }
      },
      "text/html": [
       "<div>\n",
       "<style scoped>\n",
       "    .dataframe tbody tr th:only-of-type {\n",
       "        vertical-align: middle;\n",
       "    }\n",
       "\n",
       "    .dataframe tbody tr th {\n",
       "        vertical-align: top;\n",
       "    }\n",
       "\n",
       "    .dataframe thead th {\n",
       "        text-align: right;\n",
       "    }\n",
       "</style>\n",
       "<table border=\"1\" class=\"dataframe\">\n",
       "  <thead>\n",
       "    <tr style=\"text-align: right;\">\n",
       "      <th></th>\n",
       "      <th>pdf_filename</th>\n",
       "      <th>json_filename</th>\n",
       "      <th>prompt_tokens</th>\n",
       "      <th>thoughts_tokens</th>\n",
       "      <th>output_tokens</th>\n",
       "      <th>total_tokens</th>\n",
       "    </tr>\n",
       "  </thead>\n",
       "  <tbody>\n",
       "    <tr>\n",
       "      <th>0</th>\n",
       "      <td>163122_1-1963-10.pdf</td>\n",
       "      <td>163122_1-1963-10.json</td>\n",
       "      <td>17107</td>\n",
       "      <td>1406</td>\n",
       "      <td>34382</td>\n",
       "      <td>52895</td>\n",
       "    </tr>\n",
       "    <tr>\n",
       "      <th>1</th>\n",
       "      <td>163122_1-1963-11.pdf</td>\n",
       "      <td>163122_1-1963-11.json</td>\n",
       "      <td>17107</td>\n",
       "      <td>1456</td>\n",
       "      <td>29757</td>\n",
       "      <td>48320</td>\n",
       "    </tr>\n",
       "    <tr>\n",
       "      <th>2</th>\n",
       "      <td>163122_1-1963-12.pdf</td>\n",
       "      <td>163122_1-1963-12.json</td>\n",
       "      <td>17107</td>\n",
       "      <td>1986</td>\n",
       "      <td>32445</td>\n",
       "      <td>51538</td>\n",
       "    </tr>\n",
       "    <tr>\n",
       "      <th>3</th>\n",
       "      <td>163122_1-1964-01.pdf</td>\n",
       "      <td>163122_1-1964-01.json</td>\n",
       "      <td>17107</td>\n",
       "      <td>1381</td>\n",
       "      <td>38662</td>\n",
       "      <td>57150</td>\n",
       "    </tr>\n",
       "    <tr>\n",
       "      <th>4</th>\n",
       "      <td>163122_1-1964-02.pdf</td>\n",
       "      <td>163122_1-1964-02.json</td>\n",
       "      <td>17107</td>\n",
       "      <td>1371</td>\n",
       "      <td>42279</td>\n",
       "      <td>60757</td>\n",
       "    </tr>\n",
       "  </tbody>\n",
       "</table>\n",
       "</div>"
      ],
      "text/plain": [
       "           pdf_filename          json_filename  prompt_tokens  \\\n",
       "0  163122_1-1963-10.pdf  163122_1-1963-10.json          17107   \n",
       "1  163122_1-1963-11.pdf  163122_1-1963-11.json          17107   \n",
       "2  163122_1-1963-12.pdf  163122_1-1963-12.json          17107   \n",
       "3  163122_1-1964-01.pdf  163122_1-1964-01.json          17107   \n",
       "4  163122_1-1964-02.pdf  163122_1-1964-02.json          17107   \n",
       "\n",
       "   thoughts_tokens  output_tokens  total_tokens  \n",
       "0             1406          34382         52895  \n",
       "1             1456          29757         48320  \n",
       "2             1986          32445         51538  \n",
       "3             1381          38662         57150  \n",
       "4             1371          42279         60757  "
      ]
     },
     "execution_count": 42,
     "metadata": {},
     "output_type": "execute_result"
    }
   ],
   "source": [
    "# Let's read the CSV file to analyze the transcription usage data\n",
    "import pandas as pd\n",
    "df = pd.read_csv(\"../data/instructional/transcription_usage_fulltext.csv\")\n",
    "df.head()"
   ]
  },
  {
   "cell_type": "code",
   "execution_count": null,
   "id": "74ad46d3",
   "metadata": {},
   "outputs": [
    {
     "data": {
      "application/vnd.microsoft.datawrangler.viewer.v0+json": {
       "columns": [
        {
         "name": "index",
         "rawType": "int64",
         "type": "integer"
        },
        {
         "name": "pdf_filename",
         "rawType": "object",
         "type": "string"
        },
        {
         "name": "pdf_size_mb",
         "rawType": "float64",
         "type": "float"
        }
       ],
       "ref": "76640d20-8974-4bb0-8663-0820ed007c1a",
       "rows": [
        [
         "0",
         "163122_1-1963-10.pdf",
         "36.94"
        ],
        [
         "1",
         "163122_1-1963-11.pdf",
         "32.96"
        ],
        [
         "2",
         "163122_1-1963-12.pdf",
         "37.85"
        ],
        [
         "3",
         "163122_1-1964-01.pdf",
         "35.8"
        ],
        [
         "4",
         "163122_1-1964-02.pdf",
         "41.65"
        ]
       ],
       "shape": {
        "columns": 2,
        "rows": 5
       }
      },
      "text/html": [
       "<div>\n",
       "<style scoped>\n",
       "    .dataframe tbody tr th:only-of-type {\n",
       "        vertical-align: middle;\n",
       "    }\n",
       "\n",
       "    .dataframe tbody tr th {\n",
       "        vertical-align: top;\n",
       "    }\n",
       "\n",
       "    .dataframe thead th {\n",
       "        text-align: right;\n",
       "    }\n",
       "</style>\n",
       "<table border=\"1\" class=\"dataframe\">\n",
       "  <thead>\n",
       "    <tr style=\"text-align: right;\">\n",
       "      <th></th>\n",
       "      <th>pdf_filename</th>\n",
       "      <th>pdf_size_mb</th>\n",
       "    </tr>\n",
       "  </thead>\n",
       "  <tbody>\n",
       "    <tr>\n",
       "      <th>0</th>\n",
       "      <td>163122_1-1963-10.pdf</td>\n",
       "      <td>36.94</td>\n",
       "    </tr>\n",
       "    <tr>\n",
       "      <th>1</th>\n",
       "      <td>163122_1-1963-11.pdf</td>\n",
       "      <td>32.96</td>\n",
       "    </tr>\n",
       "    <tr>\n",
       "      <th>2</th>\n",
       "      <td>163122_1-1963-12.pdf</td>\n",
       "      <td>37.85</td>\n",
       "    </tr>\n",
       "    <tr>\n",
       "      <th>3</th>\n",
       "      <td>163122_1-1964-01.pdf</td>\n",
       "      <td>35.80</td>\n",
       "    </tr>\n",
       "    <tr>\n",
       "      <th>4</th>\n",
       "      <td>163122_1-1964-02.pdf</td>\n",
       "      <td>41.65</td>\n",
       "    </tr>\n",
       "  </tbody>\n",
       "</table>\n",
       "</div>"
      ],
      "text/plain": [
       "           pdf_filename  pdf_size_mb\n",
       "0  163122_1-1963-10.pdf        36.94\n",
       "1  163122_1-1963-11.pdf        32.96\n",
       "2  163122_1-1963-12.pdf        37.85\n",
       "3  163122_1-1964-01.pdf        35.80\n",
       "4  163122_1-1964-02.pdf        41.65"
      ]
     },
     "execution_count": 43,
     "metadata": {},
     "output_type": "execute_result"
    }
   ],
   "source": [
    "# Saving the PDF size for better comparison\n",
    "import os\n",
    "\n",
    "def get_pdf_size(filename):\n",
    "    # The PDF corpus is not shared in this repository\n",
    "    # You need to adjust the path to data if you want to test this code on the 3 example PDFs\n",
    "    for folder in [\"your_path_here/full_pdfs\", \"your_path_here/split_pdfs\"]:\n",
    "        path = os.path.join(folder, filename)\n",
    "        if os.path.exists(path):\n",
    "            size_bytes = os.path.getsize(path)\n",
    "            return size_bytes / 1_000_000  # size in MB (decimal format)\n",
    "            #return size_bytes / (1024 * 1024)  # size in MB (binary format)\n",
    "    return None\n",
    "\n",
    "df['pdf_size_mb'] = df['pdf_filename'].apply(lambda x: round(get_pdf_size(x), 2))\n",
    "\n",
    "df[['pdf_filename', 'pdf_size_mb']].head()"
   ]
  },
  {
   "cell_type": "code",
   "execution_count": null,
   "id": "9263739e",
   "metadata": {},
   "outputs": [],
   "source": [
    "# Save the updated DataFrame to a new CSV file\n",
    "df.to_csv(\"../data/instructional/transcription_usage_fulltext_with_size.csv\", index=False)"
   ]
  },
  {
   "cell_type": "code",
   "execution_count": null,
   "id": "44bde1bb",
   "metadata": {},
   "outputs": [],
   "source": [
    "# If you want to check the size of the PDFs in the corpus, you can run this code\n",
    "# and load the CSV with PDF size information\n",
    "df = pd.read_csv(\"../data/instructional/transcription_usage_fulltext_with_size.csv\")"
   ]
  },
  {
   "cell_type": "code",
   "execution_count": 45,
   "id": "49c42bbc",
   "metadata": {},
   "outputs": [],
   "source": [
    "# Calculate the ratio of output tokens to PDF size (tokens per MB)\n",
    "df['tokens_per_mb'] = df['output_tokens'] / df['pdf_size_mb']"
   ]
  },
  {
   "cell_type": "code",
   "execution_count": 46,
   "id": "bc5e553e",
   "metadata": {},
   "outputs": [
    {
     "name": "stdout",
     "output_type": "stream",
     "text": [
      "\n",
      "Average tokens per MB: 864.61\n",
      "Standard deviation: 205.84\n"
     ]
    }
   ],
   "source": [
    "# First, let's check the standard deviation and mean of the tokens per MB\n",
    "\n",
    "mean_ratio = df['tokens_per_mb'].mean()\n",
    "std_ratio = df['tokens_per_mb'].std()\n",
    "\n",
    "print(f\"\\nAverage tokens per MB: {mean_ratio:.2f}\")\n",
    "print(f\"Standard deviation: {std_ratio:.2f}\")\n"
   ]
  },
  {
   "cell_type": "markdown",
   "id": "3572d1cf",
   "metadata": {},
   "source": [
    "This shows us that on average each megabyte of our PDFs yields about 865 tokens after OCR/text extraction. Most PDFs will have a tokens-per-MB value within about ±206 of the average (so, roughly between 659 and 1070 tokens per MB). Values much outside this range (e.g., below 659 or above 1070) are more likely to be outliers."
   ]
  },
  {
   "cell_type": "code",
   "execution_count": 47,
   "id": "8472380e",
   "metadata": {},
   "outputs": [
    {
     "name": "stdout",
     "output_type": "stream",
     "text": [
      "Potential low outliers based on tokens per MB ratio:\n",
      "            pdf_filename  pdf_size_mb  output_tokens  tokens_per_mb\n",
      "38  163122_2-1966-06.pdf         0.58             33      56.896552\n",
      "\n",
      "Potential high outliers based on tokens per MB ratio:\n",
      "               pdf_filename  pdf_size_mb  output_tokens  tokens_per_mb\n",
      "11  163122_1-1964-09-01.pdf         3.25           5913    1819.384615\n"
     ]
    }
   ],
   "source": [
    "# Then let's identify potential outliers by using the standard deviation method\n",
    "\n",
    "# Flag as outliers those that are much lower or higher than average (e.g., more than 2 std from mean)\n",
    "low_outliers = df[df['tokens_per_mb'] < (mean_ratio - 2 * std_ratio)]\n",
    "high_outliers = df[df['tokens_per_mb'] > (mean_ratio + 2 * std_ratio)]\n",
    "\n",
    "print(\"Potential low outliers based on tokens per MB ratio:\")\n",
    "print(low_outliers[['pdf_filename', 'pdf_size_mb', 'output_tokens', 'tokens_per_mb']])\n",
    "\n",
    "print(\"\\nPotential high outliers based on tokens per MB ratio:\")\n",
    "print(high_outliers[['pdf_filename', 'pdf_size_mb', 'output_tokens', 'tokens_per_mb']])\n"
   ]
  },
  {
   "cell_type": "markdown",
   "id": "393f0ed5",
   "metadata": {},
   "source": [
    "We already know about '163122_2-1966-06.pdf' and '163122_1-1964-09-01.pdf'! The former actually does not exist and the latter is a short pamphlet."
   ]
  },
  {
   "cell_type": "markdown",
   "id": "7d8e00c4",
   "metadata": {},
   "source": [
    "A more fine-grained way to check for outlier is to look at the z-score of the tokens per MB.\n",
    "\n",
    "The **z-score** measures how many standard deviations a value is from the mean of the dataset. For each PDF, the z-score of its tokens-per-MB value tells us whether it is typical (close to 0), unusually low (negative z-score), or unusually high (positive z-score) compared to the rest of the corpus.  \n",
    "- A z-score near 0 means the value is close to the average.\n",
    "- A negative z-score (e.g., less than -1.5) indicates a much lower tokens-per-MB ratio than average, which could signal missing content or OCR issues.\n",
    "- A positive z-score (e.g., greater than 1.5) indicates a much higher tokens-per-MB ratio than average, which could signal duplicated text, OCR artifacts, or unusually dense text.\n",
    "\n",
    "Using z-scores allows us to systematically flag both low and high outliers for further review."
   ]
  },
  {
   "cell_type": "code",
   "execution_count": 48,
   "id": "5e2d98b9",
   "metadata": {},
   "outputs": [],
   "source": [
    "# One way to check for outliers is to look at the z-score of the tokens per MB\n",
    "from scipy.stats import zscore\n",
    "df['tokens_per_mb_z'] = zscore(df['tokens_per_mb'].fillna(0))"
   ]
  },
  {
   "cell_type": "code",
   "execution_count": 49,
   "id": "551fc354",
   "metadata": {},
   "outputs": [
    {
     "data": {
      "image/png": "[encoded data removed]",
      "text/plain": [
       "<Figure size 800x500 with 1 Axes>"
      ]
     },
     "metadata": {},
     "output_type": "display_data"
    }
   ],
   "source": [
    "# Let's plot the distribution of tokens per MB z-scores to visualize the outliers\n",
    "import matplotlib.pyplot as plt\n",
    "import seaborn as sns\n",
    "\n",
    "plt.figure(figsize=(8, 5))\n",
    "sns.histplot(\n",
    "    df['tokens_per_mb_z'].dropna(),\n",
    "    bins=10,\n",
    "    color=sns.color_palette(\"crest\", as_cmap=True)(0.6),\n",
    "    edgecolor='k',\n",
    "    alpha=1  # Make bars fully opaque\n",
    ")\n",
    "plt.xlabel('Tokens per MB (z-score)')\n",
    "plt.ylabel('Number of PDFs')\n",
    "plt.title('Distribution of Tokens per MB z-scores')\n",
    "sns.despine()\n",
    "#plt.grid(False)\n",
    "plt.show()"
   ]
  },
  {
   "cell_type": "markdown",
   "id": "15d8df81",
   "metadata": {},
   "source": [
    "The histogram of tokens per MB z-scores shows how each PDF’s token density compares to the average across the corpus. Most PDFs cluster around a z-score of 0, indicating their tokens-per-megabyte values are close to the mean, which suggests consistent OCR and text extraction quality for the majority of files. \n",
    "\n",
    "A few PDFs may fall into the tails of the distribution (z-scores below -1.5 or above 1.5), marking them as potential outliers. Low outliers could indicate missing or incomplete text extraction, while high outliers might suggest unusually dense text, duplicated content, or OCR artifacts. \n",
    "\n",
    "Overall, a roughly normal distribution centered near zero with few outliers implies that the extraction process was generally reliable, but the flagged outliers warrant further review to ensure data quality."
   ]
  },
  {
   "cell_type": "code",
   "execution_count": 51,
   "id": "d1c7e4e4",
   "metadata": {},
   "outputs": [
    {
     "name": "stdout",
     "output_type": "stream",
     "text": [
      "\n",
      "High outliers (z > 1.5): 2\n",
      "               pdf_filename  pdf_size_mb  output_tokens  tokens_per_mb  \\\n",
      "9    163122_1-1964-06-B.pdf        37.59          44374    1180.473530   \n",
      "11  163122_1-1964-09-01.pdf         3.25           5913    1819.384615   \n",
      "\n",
      "    tokens_per_mb_z  \n",
      "9          1.546297  \n",
      "11         4.674061  \n",
      "\n",
      "High outliers (z > 1.3): 3\n",
      "               pdf_filename  pdf_size_mb  output_tokens  tokens_per_mb  \\\n",
      "9    163122_1-1964-06-B.pdf        37.59          44374    1180.473530   \n",
      "11  163122_1-1964-09-01.pdf         3.25           5913    1819.384615   \n",
      "12     163122_1-1964-09.pdf        40.92          47752    1166.959922   \n",
      "\n",
      "    tokens_per_mb_z  \n",
      "9          1.546297  \n",
      "11         4.674061  \n",
      "12         1.480142  \n",
      "\n",
      "High outliers (z > 1): 6\n",
      "               pdf_filename  pdf_size_mb  output_tokens  tokens_per_mb  \\\n",
      "3      163122_1-1964-01.pdf        35.80          38662    1079.944134   \n",
      "9    163122_1-1964-06-B.pdf        37.59          44374    1180.473530   \n",
      "11  163122_1-1964-09-01.pdf         3.25           5913    1819.384615   \n",
      "12     163122_1-1964-09.pdf        40.92          47752    1166.959922   \n",
      "28   163122_1-1965-10-B.pdf        27.29          29230    1071.088311   \n",
      "37   163122_2-1966-05-B.pdf        22.84          24729    1082.705779   \n",
      "\n",
      "    tokens_per_mb_z  \n",
      "3          1.054160  \n",
      "9          1.546297  \n",
      "11         4.674061  \n",
      "12         1.480142  \n",
      "28         1.010806  \n",
      "37         1.067679  \n",
      "\n",
      "Low outliers (z < -1): 6\n",
      "              pdf_filename  pdf_size_mb  output_tokens  tokens_per_mb  \\\n",
      "32  163122_2-1966-02-A.pdf        25.67          14925     581.417998   \n",
      "38    163122_2-1966-06.pdf         0.58             33      56.896552   \n",
      "40  163122_2-1966-09-B.pdf        48.58          30598     629.847674   \n",
      "46  163122_2-1967-03-A.pdf        35.92          23324     649.331849   \n",
      "53    163122_2-1967-09.pdf        51.48          31176     605.594406   \n",
      "65  163122_2-1968-05-C.pdf        21.13          11695     553.478467   \n",
      "\n",
      "    tokens_per_mb_z  \n",
      "32        -1.386355  \n",
      "38        -3.954129  \n",
      "40        -1.149270  \n",
      "46        -1.053886  \n",
      "53        -1.268001  \n",
      "65        -1.523132  \n",
      "\n",
      "Low outliers (z < -1.3): 3\n",
      "              pdf_filename  pdf_size_mb  output_tokens  tokens_per_mb  \\\n",
      "32  163122_2-1966-02-A.pdf        25.67          14925     581.417998   \n",
      "38    163122_2-1966-06.pdf         0.58             33      56.896552   \n",
      "65  163122_2-1968-05-C.pdf        21.13          11695     553.478467   \n",
      "\n",
      "    tokens_per_mb_z  \n",
      "32        -1.386355  \n",
      "38        -3.954129  \n",
      "65        -1.523132  \n",
      "\n",
      "Low outliers (z < -1.5): 2\n",
      "              pdf_filename  pdf_size_mb  output_tokens  tokens_per_mb  \\\n",
      "38    163122_2-1966-06.pdf         0.58             33      56.896552   \n",
      "65  163122_2-1968-05-C.pdf        21.13          11695     553.478467   \n",
      "\n",
      "    tokens_per_mb_z  \n",
      "38        -3.954129  \n",
      "65        -1.523132  \n"
     ]
    }
   ],
   "source": [
    "# Let's look at the z-score thresholds for outliers\n",
    "# We can define thresholds for low and high outliers based on z-scores \n",
    "# and evaluate the potential outliers\n",
    "\n",
    "thresholds = [1.5, 1.3, 1, -1, -1.3, -1.5]\n",
    "\n",
    "for threshold in thresholds:\n",
    "    if threshold > 0:\n",
    "        outliers = df[df['tokens_per_mb_z'] > threshold]\n",
    "        print(f\"\\nHigh outliers (z > {threshold}): {len(outliers)}\")\n",
    "    else:\n",
    "        outliers = df[df['tokens_per_mb_z'] < threshold]\n",
    "        print(f\"\\nLow outliers (z < {threshold}): {len(outliers)}\")\n",
    "    print(outliers[['pdf_filename', 'pdf_size_mb', 'output_tokens', 'tokens_per_mb', 'tokens_per_mb_z']])"
   ]
  },
  {
   "cell_type": "code",
   "execution_count": 56,
   "id": "3cd76669",
   "metadata": {},
   "outputs": [
    {
     "data": {
      "image/png": "[encoded data removed]",
      "text/plain": [
       "<Figure size 1000x600 with 1 Axes>"
      ]
     },
     "metadata": {},
     "output_type": "display_data"
    }
   ],
   "source": [
    "# Another way to visualize the outliers is a scatter plot\n",
    "\n",
    "low_outliers = df[df['tokens_per_mb_z'] < -1]\n",
    "high_outliers = df[df['tokens_per_mb_z'] > 1]\n",
    "\n",
    "plt.figure(figsize=(10, 6))\n",
    "palette = sns.color_palette(\"crest\", 3)\n",
    "sns.scatterplot(\n",
    "    data=df, x='pdf_size_mb', y='tokens_per_mb',\n",
    "    color=palette[1], alpha=0.4, label='Normal'\n",
    ")\n",
    "sns.scatterplot(\n",
    "    data=low_outliers, x='pdf_size_mb', y='tokens_per_mb',\n",
    "    color=palette[0], label='Low Outliers', edgecolor='k'\n",
    ")\n",
    "sns.scatterplot(\n",
    "    data=high_outliers, x='pdf_size_mb', y='tokens_per_mb',\n",
    "    color=palette[2], label='High Outliers', edgecolor='k'\n",
    ")\n",
    "plt.xlabel('PDF Size (MB)')\n",
    "plt.ylabel('Tokens per MB')\n",
    "plt.title('Tokens per MB vs PDF Size (Outliers Highlighted)')\n",
    "sns.despine()\n",
    "plt.legend()\n",
    "plt.grid(False)\n",
    "plt.show()"
   ]
  },
  {
   "cell_type": "markdown",
   "id": "c8b704fd",
   "metadata": {},
   "source": [
    "The code identifies outlier PDFs based on their tokens-per-MB z-scores, printing both high and low outliers for several thresholds. \n",
    "\n",
    "Let's look at an high outlier: '163122_1-1964-06-B.pdf'\n",
    "\n",
    "From the pdf filename, we know that this is one of the PDFs that were split manually. Since it is a -B, it is the second part of the PDF. Upon closer investigation, we can see that this PDF is incredibly dense with text. It does not have the title page and the table of contents, which were left in the '163122_1-1964-06-A.pdf'. On top of that, the original 163122_1-1964-06.pdf was split into 3 parts, so the advertisements and subscription information usually at the end of each issue is in the 3rd part '163122_1-1964-06-C.pdf'. This means that '163122_1-1964-06-B.pdf' is just filled with double column text. This is the case for some other high outliers with z-scores larger than 1. They happen to be the middle parts of 3-way split PDFs.\n",
    "\n",
    "Similarly, in the case of '163122_1-1964-09.pdf' the high z-score is because this is a longer issue with 76 pages (most issues are around 60 pages) but the PDF size is still small due to the scan quality and resolution. \n",
    "\n",
    "Let's look at a low outlier: '163122_2-1968-05-C.pdf'\n",
    "\n",
    "This is the last part of a 3-way split PDF, meaning that the last few pages are devoted to advertisement, which our model is not transcribing. Also, there are more images in the issues from late 1967 and 1968 than in the previous years, including this one. But more importantly this part of the issue is filled with poetry, which takes up a lot more space due to its layout despite having fewer words than continious prose.\n",
    "\n",
    "This analysis indeed revealed issue with three PDFs: '163122_2-1966-02-A.pdf', 163122_2-1966-09-B.pdf, and 163122_2-1967-09.pdf\n",
    "\n",
    "All three are missing one or more articles entirely, with 163122_2-1966-09-B.pdf showing signs of degeneration and shuffling of the order of the articles. 163122_2-1967-09.pdf additionally has layout-related problems. This issue is the beginning of a new layout and more image-laden style for Parti Pris. Some of the short snippets between longer articles look like advertisements. There are several full-page images. \n",
    "\n",
    "All this shows that looking into outliers is a useful approach to identifying potential issues in a larger dataset. This might not reveal all the problems but being able to identify 3 PDFs with actual important OCR mistakes is rather useful."
   ]
  },
  {
   "cell_type": "markdown",
   "id": "34e6d9bd",
   "metadata": {},
   "source": [
    "## Table of Contents Extraction\n"
   ]
  },
  {
   "cell_type": "markdown",
   "id": "b833092f",
   "metadata": {},
   "source": [
    "One other way to check for completeness is looking at the table of contents for each issue. Luckily, the order of pages remained consistent across the entire print run. The ToC is always on the 3rd page of the PDF. We can automatically extract the 3rd page and extract ToC and metadata."
   ]
  },
  {
   "cell_type": "code",
   "execution_count": null,
   "id": "d49f1176",
   "metadata": {},
   "outputs": [],
   "source": [
    "# Let's extract the table of contents (ToC) from each PDF file\n",
    "\n",
    "from pypdf import PdfReader, PdfWriter\n",
    "\n",
    "input_folder = \"your_path_here/pdfs\"\n",
    "output_folder = \"your_path_here/toc_pdfs\"\n",
    "\n",
    "os.makedirs(output_folder, exist_ok=True)\n",
    "\n",
    "for filename in os.listdir(input_folder):\n",
    "    if filename.lower().endswith(\".pdf\"):\n",
    "        input_path = os.path.join(input_folder, filename)\n",
    "        output_path = os.path.join(output_folder, f\"toc_{filename}\")\n",
    "\n",
    "        reader = PdfReader(input_path)\n",
    "        writer = PdfWriter()\n",
    "\n",
    "        # Extract only page 3 (index 2)\n",
    "        if len(reader.pages) >= 3:\n",
    "            writer.add_page(reader.pages[2])\n",
    "\n",
    "            with open(output_path, \"wb\") as out_file:\n",
    "                writer.write(out_file)"
   ]
  },
  {
   "cell_type": "markdown",
   "id": "7346f425",
   "metadata": {},
   "source": [
    "Before the next steps, we removed 3 PDFs. As we discusses above the June 1966 (163122_2-1966-06.pdf) issue does not exist and the 163122_1-1964-12-01.pdf is an overview of the year and 163122_1-1964-09-01.pdf is a short pamphlet."
   ]
  },
  {
   "cell_type": "markdown",
   "id": "2581b5d3",
   "metadata": {},
   "source": [
    "We carefully studied the ToC and metadata to understand its structure and translate it into the JSON schema.\n",
    "\n",
    "<div style=\"display: flex; gap: 20px;\">\n",
    "  <img src=\"../img/toc_early_issues.png\" alt=\"ToC example from an earlier issue\" width=\"45%\">\n",
    "  <img src=\"../img/toc_later_issues.png\" alt=\"ToC example from a later issue\" width=\"45%\">\n",
    "</div>"
   ]
  },
  {
   "cell_type": "code",
   "execution_count": null,
   "id": "ba905fcd",
   "metadata": {},
   "outputs": [],
   "source": [
    "# We use the same approach as the text extraction code to extract the ToC from each PDF file\n",
    "# again this code won't run here, but you can use it as a template for your own corpus\n",
    "\n",
    "import pathlib\n",
    "import json\n",
    "import typing_extensions as typing\n",
    "import csv\n",
    "from IPython.display import Markdown\n",
    "import time\n",
    "\n",
    "class TOCMetadata(typing.TypedDict):\n",
    "    volume_number: str                # e.g., \"vol. 5\"\n",
    "    issue_number: str                 # e.g., \"nos 2-3\"\n",
    "    season_or_month: str              # e.g., \"été or oct.-nov.\"\n",
    "    year: str                         # e.g., \"1967\"\n",
    "    director: str                     # e.g., \"philippe bernard\"\n",
    "    description: str                  # e.g., \"revue politique et culturelle\"\n",
    "    price: str                        # e.g., \"75¢\", \"$6.00\"\n",
    "    editors: list[str]                # e.g., [\"philippe bernard\", \"gilles bourque\", ...]\n",
    "    collaborators: list[str]          # e.g., [\"jacques allard\", \"denis arcand\", ...]\n",
    "    administration: list[str]         # e.g., [\"gilles bourque\", \"gilles dostaler\", ...]\n",
    "    publisher: str                    # e.g., \"La revue PARTI PRIS, inc.\"\n",
    "    distributor: str                  # e.g., \"agence de distribution populaire, 1130 Lagauchetière est, Montréal\"\n",
    "\n",
    "class TOCEntry(typing.TypedDict):\n",
    "    section: str                       # e.g., \"CHRONIQUES\" or \"\"\n",
    "    title: str                         # e.g., \"le quèbec en mots dit\"\n",
    "    authors: list[str]                 # e.g., [\"gilles dostaler\", \"gaston miron\", ...]\n",
    "    page: str                          # e.g., \"3\"\n",
    "\n",
    "class TOCExtraction(typing.TypedDict):\n",
    "    metadata: TOCMetadata\n",
    "    toc: list[TOCEntry]\n",
    "\n",
    "pdf_folder = pathlib.Path('your_path_here/toc_pdfs')\n",
    "output_folder = pathlib.Path('your_path_here/toc_transcriptions')\n",
    "output_folder.mkdir(exist_ok=True)\n",
    "csv_path = output_folder / 'transcription_usage.csv'\n",
    "\n",
    "csv_fields = ['pdf_filename', 'json_filename', 'prompt_tokens', 'thoughts_tokens', 'output_tokens', 'total_tokens', 'note']\n",
    "\n",
    "# Read already processed PDFs from CSV\n",
    "processed_pdfs = set()\n",
    "if csv_path.exists():\n",
    "    with open(csv_path, 'r', encoding='utf-8') as csvfile:\n",
    "        reader = csv.DictReader(csvfile)\n",
    "        for row in reader:\n",
    "            if row['json_filename']:  # Only consider as processed if JSON was created\n",
    "                processed_pdfs.add(row['pdf_filename'])\n",
    "\n",
    "prompt = \"\"\"\n",
    "You are an expert in French language journals. \n",
    "You will extract the metadata and the table of contents from a journal from the 1960s. \n",
    "Transcribe it as accurately as possible, keeping the original words.\n",
    "If a field is missing, use an empty string or empty list.\n",
    "Prioritize title and authors in the ToC entries.\n",
    "\n",
    "Return ONLY the JSON object, with no extra text or explanation.\n",
    "\"\"\"\n",
    "\n",
    "for pdf_path in pdf_folder.glob('*.pdf'):\n",
    "    if pdf_path.name in processed_pdfs:\n",
    "        print(f\"Already processed: {pdf_path.name}\")\n",
    "        continue\n",
    "\n",
    "    filename = pdf_path.stem\n",
    "    json_filename = filename + '.json'\n",
    "    json_path = output_folder / json_filename\n",
    "\n",
    "    try:\n",
    "        file_upload = client.files.upload(file=pdf_path)\n",
    "        response = client.models.generate_content(\n",
    "            model=MODEL_ID,\n",
    "            contents=[file_upload, prompt],\n",
    "            config={\n",
    "                'response_mime_type': 'application/json',\n",
    "                'response_schema': TOCExtraction,\n",
    "                'thinking_config': types.ThinkingConfig(thinking_budget=3000)\n",
    "            },\n",
    "        )\n",
    "\n",
    "        if response.text is None:\n",
    "            raise ValueError(\"API returned no text.\")\n",
    "\n",
    "        data = json.loads(response.text)\n",
    "        with open(json_path, 'w', encoding='utf-8') as f:\n",
    "            json.dump(data, f, ensure_ascii=False, indent=2)\n",
    "\n",
    "        info = {\n",
    "            'pdf_filename': pdf_path.name,\n",
    "            'json_filename': json_filename,\n",
    "            'prompt_tokens': response.usage_metadata.prompt_token_count,\n",
    "            'thoughts_tokens': response.usage_metadata.thoughts_token_count,\n",
    "            'output_tokens': response.usage_metadata.candidates_token_count,\n",
    "            'total_tokens': response.usage_metadata.total_token_count,\n",
    "            'note': ''\n",
    "        }\n",
    "\n",
    "        write_header = not csv_path.exists()\n",
    "        with open(csv_path, 'a', newline='', encoding='utf-8') as csvfile:\n",
    "            writer = csv.DictWriter(csvfile, fieldnames=csv_fields)\n",
    "            if write_header:\n",
    "                writer.writeheader()\n",
    "            writer.writerow(info)\n",
    "\n",
    "        print(f\"Processed: {json_filename}\")\n",
    "        print(f\"Prompt tokens: {info['prompt_tokens']}\")\n",
    "        print(f\"Thoughts tokens: {info['thoughts_tokens']}\")\n",
    "        print(f\"Output tokens: {info['output_tokens']}\")\n",
    "        print(f\"Total tokens: {info['total_tokens']}\\n\")\n",
    "\n",
    "        time.sleep(10)\n",
    "\n",
    "    except Exception as e:\n",
    "        print(f\"Error processing {pdf_path.name}: {e}\")\n",
    "        info = {\n",
    "            'pdf_filename': pdf_path.name,\n",
    "            'json_filename': '',\n",
    "            'prompt_tokens': '',\n",
    "            'thoughts_tokens': '',\n",
    "            'output_tokens': '',\n",
    "            'total_tokens': '',\n",
    "            'note': f'ERROR: {e}'\n",
    "        }\n",
    "        write_header = not csv_path.exists()\n",
    "        with open(csv_path, 'a', newline='', encoding='utf-8') as csvfile:\n",
    "            writer = csv.DictWriter(csvfile, fieldnames=csv_fields)\n",
    "            if write_header:\n",
    "                writer.writeheader()\n",
    "            writer.writerow(info)\n",
    "        continue"
   ]
  },
  {
   "cell_type": "code",
   "execution_count": 8,
   "id": "fc5ea2bc",
   "metadata": {},
   "outputs": [
    {
     "data": {
      "text/plain": [
       "['présentation',\n",
       " 'de la révolte à la révolution',\n",
       " 'du duplessisme au F.L.Q.',\n",
       " 'vers une révolution totale',\n",
       " \"poème de l'antérévolution\",\n",
       " 'un enfant du pays',\n",
       " 'blancheur de moi-même',\n",
       " \"salutations d'usage\",\n",
       " \"chronique d'une révolution\",\n",
       " 'chronique du R.I.N.',\n",
       " 'les divertissements',\n",
       " 'paul morin',\n",
       " 'pour riches seulement',\n",
       " \"chronique de l'éducation\",\n",
       " 'vulgarités']"
      ]
     },
     "execution_count": 8,
     "metadata": {},
     "output_type": "execute_result"
    }
   ],
   "source": [
    "# The ToC transcriptions are saved in the data folder\n",
    "# Let's load one and take a look at it\n",
    "\n",
    "toc_example_path = '../data/toc_transcriptions/toc_163122_1-1963-10.json'\n",
    "with open(toc_example_path, 'r', encoding='utf-8') as f:\n",
    "    toc_example = json.load(f)\n",
    "\n",
    "#print(toc_example)\n",
    "articles_toc = toc_example['toc']\n",
    "titles_toc = [article['title'] for article in articles_toc]\n",
    "titles_toc"
   ]
  },
  {
   "cell_type": "markdown",
   "id": "8324cae8",
   "metadata": {},
   "source": [
    "Neat! We can now compare the article titles and authors from the ToC and the full text extraction of the same issue"
   ]
  },
  {
   "cell_type": "code",
   "execution_count": 9,
   "id": "602a71c8",
   "metadata": {},
   "outputs": [
    {
     "data": {
      "text/plain": [
       "['Présentation',\n",
       " 'De la révolte à la révolution',\n",
       " 'Du duplessisme au F.L.Q.',\n",
       " 'Vers une révolution totale',\n",
       " \"Poème de l'antérévolution\",\n",
       " 'Un enfant du pays',\n",
       " 'Blancheur de moi-même',\n",
       " \"Salutations d'usage\",\n",
       " \"Chronique d'une révolution\",\n",
       " 'Chronique du R.I.N.',\n",
       " 'Les divertissements',\n",
       " 'Paul Morin',\n",
       " 'Pour riches seulement',\n",
       " \"Chronique de l'éducation\",\n",
       " 'Vulgarités']"
      ]
     },
     "execution_count": 9,
     "metadata": {},
     "output_type": "execute_result"
    }
   ],
   "source": [
    "# Now with the full text file\n",
    "\n",
    "with open(\"../data/transcriptions/163122_1-1963-10.json\", \"r\", encoding=\"utf-8\") as f:\n",
    "    articles_fulltext = json.load(f)\n",
    "\n",
    "titles_fulltext = [article[\"title\"] for article in articles_fulltext]\n",
    "titles_fulltext"
   ]
  },
  {
   "cell_type": "markdown",
   "id": "7bef09d3",
   "metadata": {},
   "source": [
    "The first issue seems fine to me! We can scale this up to the entire corpus to see if and where have missing articles."
   ]
  },
  {
   "cell_type": "code",
   "execution_count": 17,
   "id": "f4df8001",
   "metadata": {},
   "outputs": [
    {
     "name": "stdout",
     "output_type": "stream",
     "text": [
      "                    issue  toc_count  fulltext_count  abs_diff\n",
      "24  163122_2-1968-05.json         16              50        34\n",
      "7   163122_2-1968-01.json         12              30        18\n",
      "17  163122_2-1967-01.json         15              30        15\n",
      "10  163122_2-1966-02.json         12              27        15\n",
      "22  163122_1-1965-08.json         15              28        13\n",
      "35  163122_2-1967-10.json         12              25        13\n",
      "0   163122_2-1967-09.json         11              24        13\n",
      "20  163122_1-1965-12.json         11              23        12\n",
      "9   163122_1-1965-10.json         12              23        11\n",
      "8   163122_2-1966-09.json         14              24        10\n",
      "13  163122_2-1967-03.json         15              25        10\n",
      "3   163122_2-1967-05.json         19              28         9\n",
      "33  163122_2-1966-11.json         15              22         7\n",
      "6   163122_2-1966-05.json         13              19         6\n",
      "36  163122_1-1964-02.json         13              19         6\n",
      "15  163122_1-1964-06.json         17              23         6\n",
      "1   163122_2-1966-04.json         13              18         5\n",
      "2   163122_1-1964-01.json         12              16         4\n",
      "14  163122_1-1964-10.json         11              13         2\n",
      "16  163122_2-1966-03.json         10               9         1\n",
      "21  163122_1-1964-09.json         11              12         1\n",
      "11  163122_1-1965-06.json         16              17         1\n",
      "31  163122_1-1964-03.json         14              13         1\n",
      "34  163122_1-1965-03.json         11              11         0\n",
      "29  163122_2-1968-02.json         12              12         0\n",
      "37  163122_1-1963-10.json         15              15         0\n",
      "32  163122_1-1965-02.json         11              11         0\n",
      "30  163122_1-1963-11.json         15              15         0\n",
      "19  163122_1-1965-04.json          9               9         0\n",
      "28  163122_1-1964-12.json         13              13         0\n",
      "27  163122_1-1964-04.json         18              18         0\n",
      "26  163122_1-1965-05.json         10              10         0\n",
      "25  163122_2-1966-01.json          9               9         0\n",
      "23  163122_2-1968-04.json         14              14         0\n",
      "18  163122_1-1964-05.json         13              13         0\n",
      "12  163122_1-1964-11.json         12              12         0\n",
      "5   163122_1-1965-01.json         17              17         0\n",
      "4   163122_1-1963-12.json         11              11         0\n",
      "38  163122_2-1968-03.json         12              12         0\n"
     ]
    }
   ],
   "source": [
    "# Let's count the number of articles in the ToC and in the full text\n",
    "\n",
    "import os\n",
    "import json\n",
    "import pandas as pd\n",
    "\n",
    "toc_dir = \"../data/toc_transcriptions\"\n",
    "fulltext_dir = \"../data/instructional/transcriptions_for_toc_comparison\" \n",
    "\n",
    "# We do not include the \"163122_1-1964-09-01.json\" and \"163122_1-1964-12-01.json\"\n",
    "# \"163122_2-1966-06.json\" is empty\n",
    "skip_files = {\n",
    "    \"163122_1-1964-09-01.json\",\n",
    "    \"163122_1-1964-12-01.json\",\n",
    "    \"163122_2-1966-06.json\"\n",
    "}\n",
    "\n",
    "count_results = []\n",
    "\n",
    "for toc_file in os.listdir(toc_dir):\n",
    "    if not toc_file.endswith(\".json\"):\n",
    "        continue\n",
    "    base_issue = toc_file.replace(\"toc_\", \"\")\n",
    "    if base_issue in skip_files:\n",
    "        continue\n",
    "    toc_path = os.path.join(toc_dir, toc_file)\n",
    "    prefix = base_issue.replace(\".json\", \"\")\n",
    "\n",
    "    # Use all matching files from fulltext_dir (split parts, if any)\n",
    "    fulltext_files = [\n",
    "        os.path.join(fulltext_dir, f)\n",
    "        for f in os.listdir(fulltext_dir)\n",
    "        if f.startswith(prefix) and f.endswith(\".json\") and f not in skip_files\n",
    "    ]\n",
    "    if not fulltext_files:\n",
    "        print(f\"Warning: {base_issue} not found in fulltext_dir.\")\n",
    "        continue\n",
    "\n",
    "    # Load ToC\n",
    "    with open(toc_path, \"r\", encoding=\"utf-8\") as f:\n",
    "        toc_data = json.load(f)\n",
    "        toc_count = len(toc_data[\"toc\"])\n",
    "\n",
    "    # Load and merge fulltext articles\n",
    "    merged_articles = []\n",
    "    for path in sorted(fulltext_files):\n",
    "        with open(path, \"r\", encoding=\"utf-8\") as f:\n",
    "            merged_articles.extend(json.load(f))\n",
    "    fulltext_count = len(merged_articles)\n",
    "\n",
    "    count_results.append({\n",
    "        \"issue\": base_issue,\n",
    "        \"toc_count\": toc_count,\n",
    "        \"fulltext_count\": fulltext_count,\n",
    "        \"count_diff\": toc_count - fulltext_count\n",
    "    })\n",
    "\n",
    "df_counts = pd.DataFrame(count_results)\n",
    "df_counts[\"abs_diff\"] = df_counts[\"count_diff\"].abs()\n",
    "df_counts_sorted = df_counts.sort_values(\"abs_diff\", ascending=False)\n",
    "print(df_counts_sorted[[\"issue\", \"toc_count\", \"fulltext_count\", \"abs_diff\"]])"
   ]
  },
  {
   "cell_type": "code",
   "execution_count": 18,
   "id": "5bead746",
   "metadata": {},
   "outputs": [
    {
     "name": "stdout",
     "output_type": "stream",
     "text": [
      "Number of issues with no difference: 16\n",
      "Number of issues with missing articles in fulltext: 2\n",
      "Number of issues with extra articles in fulltext: 21\n",
      "\n",
      "Issues with missing articles in fulltext:\n",
      "                issue  toc_count  fulltext_count  count_diff\n",
      "163122_2-1966-03.json         10               9           1\n",
      "163122_1-1964-03.json         14              13           1\n",
      "\n",
      "Issues with extra articles in fulltext:\n",
      "                issue  toc_count  fulltext_count  count_diff\n",
      "163122_2-1968-05.json         16              50         -34\n",
      "163122_2-1968-01.json         12              30         -18\n",
      "163122_2-1967-01.json         15              30         -15\n",
      "163122_2-1966-02.json         12              27         -15\n",
      "163122_1-1965-08.json         15              28         -13\n",
      "163122_2-1967-10.json         12              25         -13\n",
      "163122_2-1967-09.json         11              24         -13\n",
      "163122_1-1965-12.json         11              23         -12\n",
      "163122_1-1965-10.json         12              23         -11\n",
      "163122_2-1966-09.json         14              24         -10\n",
      "163122_2-1967-03.json         15              25         -10\n",
      "163122_2-1967-05.json         19              28          -9\n",
      "163122_2-1966-11.json         15              22          -7\n",
      "163122_2-1966-05.json         13              19          -6\n",
      "163122_1-1964-02.json         13              19          -6\n",
      "163122_1-1964-06.json         17              23          -6\n",
      "163122_2-1966-04.json         13              18          -5\n",
      "163122_1-1964-01.json         12              16          -4\n",
      "163122_1-1964-10.json         11              13          -2\n",
      "163122_1-1964-09.json         11              12          -1\n",
      "163122_1-1965-06.json         16              17          -1\n"
     ]
    }
   ],
   "source": [
    "# Analyze and summarize count differences between ToC and fulltext\n",
    "\n",
    "# Count how many issues have zero difference\n",
    "zero_diff = df_counts_sorted[df_counts_sorted[\"count_diff\"] == 0]\n",
    "num_zero_diff = len(zero_diff)\n",
    "\n",
    "# More articles listed in ToC than extracted in fulltext\n",
    "toc_missing = df_counts_sorted[df_counts_sorted[\"count_diff\"] > 0]\n",
    "num_toc_missing = len(toc_missing)\n",
    "\n",
    "# More articles extracted in fulltext than listed in ToC\n",
    "fulltext_extra = df_counts_sorted[df_counts_sorted[\"count_diff\"] < 0]\n",
    "num_fulltext_extra = len(fulltext_extra)\n",
    "\n",
    "print(f\"Number of issues with no difference: {num_zero_diff}\")\n",
    "print(f\"Number of issues with missing articles in fulltext: {num_toc_missing}\")\n",
    "print(f\"Number of issues with extra articles in fulltext: {num_fulltext_extra}\\n\")\n",
    "\n",
    "print(\"Issues with missing articles in fulltext:\")\n",
    "print(toc_missing[[\"issue\", \"toc_count\", \"fulltext_count\", \"count_diff\"]].to_string(index=False))\n",
    "\n",
    "print(\"\\nIssues with extra articles in fulltext:\")\n",
    "print(fulltext_extra[[\"issue\", \"toc_count\", \"fulltext_count\", \"count_diff\"]].to_string(index=False))"
   ]
  },
  {
   "cell_type": "markdown",
   "id": "e57adbfb",
   "metadata": {},
   "source": [
    "Just visualizing the counts showed that out of the 39 PDFs, 16 were fully matched. 5 issues show minimal differences (1-2 articles extra or missing). 28 articles have differences larger than 3 articles, with 163122_2-1968-05.json having 34 articles more than the ToC.\n",
    "\n",
    "> Note: I was doubting the usefulness of this but when I ran this code for the first time, I realized that one of the split PDFs (1965-01-A) was missing in transcriptions. The transcription was created, hence it had the metadata but it was not saved, possibly due to some save issue. I fixed that before this write-up.\n",
    "\n",
    "Let's investigate further!"
   ]
  },
  {
   "cell_type": "markdown",
   "id": "38d4b2bc",
   "metadata": {},
   "source": [
    "First, let's look at the ones where there were articles missing in the full text but listed in the ToC: 163122_2-1966-03.json and 163122_1-1964-03.json. We will investigate them manually.\n",
    "\n",
    "163122_2-1964-03.json in the ToC has an entry titled \"notes sur l'information\" on page 44. In the fulltext this information is available but it is not marked differently.\n",
    "\n",
    "163122_2-1966-03.json is indeed missing a section. The last part, \"marginales\" was not transcribed. We fixed this by re-running the OCR.\n"
   ]
  },
  {
   "cell_type": "code",
   "execution_count": 26,
   "id": "fd4f504a",
   "metadata": {},
   "outputs": [
    {
     "name": "stdout",
     "output_type": "stream",
     "text": [
      "Metadata:\n",
      "volume_number: 5\n",
      "issue_number: 8-9\n",
      "season_or_month: été\n",
      "year: 1968\n",
      "director: philippe bernard\n",
      "description: revue politique et culturelle paraît tous les mois sur 60 pages\n",
      "price: 75¢\n",
      "editors: ['gilles bourque', 'jan depocas', 'gilles dostaler', 'gabriel gagnon', 'pierre maheu', 'luc racine', 'robert tremblay']\n",
      "collaborators: ['jacques allard', 'denis arcand', 'rené beaudin', 'jacques brault', 'andré brochu', 'paul chamberland', 'pierre desrosiers', 'raoul duguay', 'jacques ferron', 'charles gagnon', 'roger guy', 'robert maheu', 'gaston miron', 'michel pichette', 'jean-marc piotte', 'narcisso pizarro', 'jacques poisson', 'jean-robert rémillard', 'pierre renaud', 'patrick straram', 'andré théberge', 'gaétan tremblay', 'pierre vadeboncoeur', 'pierre vallières']\n",
      "administration: ['jean-claude robert', 'huguette corbo', 'marc laliberté']\n",
      "publisher: Parti Pris\n",
      "distributor: agence de distribution populaire\n",
      "\n",
      "Table of Contents:\n",
      "  1. éditorial: éditorial () - Page 3\n",
      "  2. québec politique: gilles dostaler (gilles dostaler) - Page 8\n",
      "  3. québec politique: charles gagnon (charles gagnon) - Page 9\n",
      "  4. québec économique: jean-guy loranger (jean-guy loranger) - Page 10\n",
      "  5. québec syndical: gabriel gagnon (gabriel gagnon) - Page 12\n",
      "  6. politique international: philippe bernard (philippe bernard) - Page 15\n",
      "  7. politique international: gilles dostaler (gilles dostaler) - Page 16\n",
      "  8. québec '68: forum-débat: québec '68: forum-débat () - Page 21\n",
      "  9. québec '68: forum-débat: françois aquin: il n'y a pas d'ersatz de la liberté (françois aquin, jan depocas) - Page 48\n",
      " 10. article: les étudiants et la question nationale (ronald sabourin) - Page 57\n",
      " 11. article: a la santé de rudi dutschke et quelques autres folk-rock mirabellenwasser (patrick straram) - Page 65\n",
      " 12. article: le québec en mots dit (pierre maheu) - Page 74\n",
      " 13. article: la poésie en 1968: quelques réflexions (gérald godin) - Page 75\n",
      " 14. article: objecteur de conscience (raymond lévesque) - Page 76\n",
      " 15. article: poèmes inédits (gaston miron) - Page 78\n",
      " 16. article: trois mois après (andré théberge) - Page 79\n"
     ]
    }
   ],
   "source": [
    "# Let's read the ToC of 163122_2-1968-05.json\n",
    "toc_path = \"../data/toc_transcriptions/toc_163122_2-1968-05.json\"\n",
    "with open(toc_path, \"r\", encoding=\"utf-8\") as f:\n",
    "    toc_data = json.load(f)\n",
    "\n",
    "print(\"Metadata:\")\n",
    "for key, value in toc_data[\"metadata\"].items():\n",
    "    print(f\"{key}: {value}\")\n",
    "print(\"\\nTable of Contents:\")\n",
    "for idx, entry in enumerate(toc_data[\"toc\"], 1):\n",
    "    print(f\" {idx:2d}. {entry['section']}: {entry['title']} ({', '.join(entry['authors'])}) - Page {entry['page']}\")\n",
    "    # print(f\" {idx:2d}. {entry['title']}\")"
   ]
  },
  {
   "cell_type": "markdown",
   "id": "fc54c4a3",
   "metadata": {},
   "source": [
    "For comparison, here is a screenshot of the table of contents from the May 1968 issue.\n",
    "\n",
    "![img](../img/toc_1968_05.png)"
   ]
  },
  {
   "cell_type": "markdown",
   "id": "4ed6f35d",
   "metadata": {},
   "source": [
    "It seems like the ToC extraction was accurate. There are some issues with section and title in the first 4 articles after the editorial. For example the first section is \"québec politique\" and it contains 2 articles, one by Dostaler and another by Gagnon. Their titles are however not in the ToC. The model put the name of the author as the title, which is following what we asked for in the ToC prompt: \"Prioritize title and authors in the ToC entries.\" \n",
    "\n",
    "This also means that the changes in the style of Parti Pris, i.e. not including the full title of each article in a section, might be effecting our results. Particularly, let's look at \"québec '68: forum-débat\". It is 27 pages long, has no author or article titles. "
   ]
  },
  {
   "cell_type": "code",
   "execution_count": null,
   "id": "fca1ccbe",
   "metadata": {},
   "outputs": [
    {
     "name": "stdout",
     "output_type": "stream",
     "text": [
      "\n",
      "Fulltext Articles:\n",
      "  1. la contestation étudiante (Philippe Bernard) - Pages 5-8\n",
      "  2. nègres blancs d'amérique (Gilles Dostaler) - Pages 10-11\n",
      "  3. rené lévesque n'est pas lumumba! (Charles Gagnon) - Pages 11-12\n",
      "  4. le M.S.A. à droite ou à gauche? (Jean-Guy Loranger) - Pages 12-14\n",
      "  5. galbraith:: prophète ou fumiste? (Gabriel Gagnon) - Pages 14-15\n",
      "  6. l'avenir du syndicalisme québécois ou quand le C.T.C. fait l'autruche (Gabriel Gagnon) - Pages 16-17\n",
      "  7. révolution culturelle en tchécoslovaquie (Philippe Bernard) - Pages 17-18\n",
      "  8. black power: rejoindre la révolution noire mondiale (Gilles Dostaler) - Pages 18-21\n",
      "  9. présentation (Philippe Bernard) - Pages 23-37\n",
      " 10. françois aquin: il n'y a pas d'ersatz de la liberté - propos recueilli par jan depocas (Jan Depocas) - Pages 48-56\n",
      " 11. les étudiants et la question nationale (Ronald Sabourin) - Pages 57-64\n",
      " 12. a la santé de rudi dutschke et quelques autres folk-rock mirabellenwasser (Patrick Straram) - Pages 65-73\n",
      " 13. le québec en mots dit (Pierre Maheu) - Pages 74-74\n",
      " 14. la poésie en 1968: quelques réflexions (Gérald Godin) - Pages 75-75\n",
      " 15. objecteur de conscience (Raymond Lévesque) - Pages 76-77\n",
      " 16. poèmes inédits (Gaston Miron) - Pages 78-78\n",
      " 17. trois mois après (André Théberge) - Pages 79-80\n",
      " 18. DÉBAT-FORUM (parti pris) - Pages 36\n",
      " 19. étudiant (jean-marc piotte) - Pages 37-38\n",
      " 20. le M.S.A. et l'ambiguïté de la gauche (gaétan tremblay) - Pages 39\n",
      " 21. questions en réponse à des questions (pierre vadeboncoeur) - Pages 41\n",
      " 22. question 1 (un fonctionnaire (québec)) - Pages 40\n",
      " 23. question 2 (un fonctionnaire (québec)) - Pages 40\n",
      " 24. question 3 (un fonctionnaire (québec)) - Pages 41\n",
      " 25. sociologue (gérald fortin) - Pages 42\n",
      " 26. écrivain cinéaste (jacques godbout) - Pages 43\n",
      " 27. cinéaste (jean pierre lefevre) - Pages 43-44\n",
      " 28. question 1 (denys arcand) - Pages 44\n",
      " 29. question 2 (denys arcand) - Pages 44-45\n",
      " 30. question 3 (denys arcand) - Pages 45\n",
      " 31. professeur (jacques brault) - Pages 45\n",
      " 32. politicologue (guy bourassa) - Pages 46\n",
      " 33. politicologue (guy bourassa) - Pages 46-47\n",
      " 34. journaliste (raoul roy) - Pages 47\n",
      " 35. avant-propos (jan depocas) - Pages 49\n",
      " 36. portrait du colonisé québécois (jan depocas) - Pages 49-50\n",
      " 37. il n'y a pas d'ersatz de la liberté (françois aquin) - Pages 51-52\n",
      " 38. l'état: du régime présidentiel à la nation (françois aquin) - Pages 53\n",
      " 39. augestion (françois aquin) - Pages 55-56\n",
      " 40. le syndicalisme : une sorte d'anti-état (françois aquin) - Pages 55\n",
      " 41. changer l'homme (françois aquin) - Pages 56\n",
      " 42. DÉFINITION NATIONALE DES ETUDIANTS (r. s.) - Pages 58-64\n",
      " 43. À LA SANTÉ DE RUDI DUTSCHKE ET QUELQUES AUTRES FOLK-ROCK MIRABELLENWASSER (patrick straram) - Pages 1-8\n",
      " 44. on est beaux, stie! (pierre maheu) - Pages 10\n",
      " 45. la poésie en 1968: quelques réflexions (gérald godin) - Pages 11\n",
      " 46. OBJECTEUR DE CONSCIENCE (levesque) - Pages 12-13\n",
      " 47. À BOUT PORTANT (gaston miron) - Pages 14\n",
      " 48. LES SIGNES DE NOTRE VIE (gaston miron) - Pages 14\n",
      " 49. LE SALUT D'ENTRE LES JOURS (Gaston Miron) - Pages 15\n",
      " 50. TROIS MOIS APRÈS (andré théberge) - Pages 15-16\n"
     ]
    }
   ],
   "source": [
    "# Let's read the titles, authors, and pages from the fulltext\n",
    "# This is a split issue, so we need to load all 3 parts\n",
    "fulltext_parts = [\n",
    "    \"163122_2-1968-05-A.json\",\n",
    "    \"163122_2-1968-05-B.json\",\n",
    "    \"163122_2-1968-05-C.json\"\n",
    "]\n",
    "fulltext_articles = []\n",
    "for part in fulltext_parts:\n",
    "    with open(f\"../data/instructional/transcriptions_for_toc_comparison/{part}\", \"r\", encoding=\"utf-8\") as f:\n",
    "        part_data = json.load(f)\n",
    "        fulltext_articles.extend(part_data)\n",
    "\n",
    "titles_fulltext = [article[\"title\"] for article in fulltext_articles]\n",
    "authors_fulltext = [article[\"author\"] for article in fulltext_articles]\n",
    "pages_fulltext = [article[\"page_range\"] for article in fulltext_articles]\n",
    "print(\"\\nFulltext Articles:\")\n",
    "for idx, (title, authors, pages) in enumerate(zip(titles_fulltext, authors_fulltext, pages_fulltext), 1):\n",
    "    print(f\" {idx:2d}. {title} ({authors}) - Pages {pages}\")"
   ]
  },
  {
   "cell_type": "markdown",
   "id": "916f4342",
   "metadata": {},
   "source": [
    "Well, this is interesting! It seems like there are some repeating articles. Look at the articles 10 through 17, also copied below.\n",
    "\n",
    "- 10. françois aquin: il n'y a pas d'ersatz de la liberté - propos recueilli par jan depocas (Jan Depocas)- Pages 48-56\n",
    "- 11. les étudiants et la question nationale (Ronald Sabourin) - Pages 57-64\n",
    "- 12. a la santé de rudi dutschke et quelques autres folk-rock mirabellenwasser (Patrick Straram) - Pages 65-73\n",
    "- 13. le québec en mots dit (Pierre Maheu) - Pages 74-74\n",
    "- 14. la poésie en 1968: quelques réflexions (Gérald Godin) - Pages 75-75\n",
    "- 15. objecteur de conscience (Raymond Lévesque) - Pages 76-77\n",
    "- 16. poèmes inédits (Gaston Miron) - Pages 78-78\n",
    "- 17. trois mois après (André Théberge) - Pages 79-80\n",
    "\n",
    "These are all from 163122_2-1968-05-A.json. Having split the PDFs manually, we know for a fact that the A split did not contain any articles beyond the beginning of the \"québec '68\", which in the full text version starts with a piece titled \"présentation\" by Philippe Bernard. However, this same PDF also contained the ToC, so Gemini had seen what the next articles would be and without the full text available, it hallucinated them.\n",
    "\n",
    "We missed this hallucination in our token/MB analysis because the output had tokens 36268 and the PDF waw 40.4MB, leading to a 897.72 tokens per MB, which is well within our acceptable range (Average tokens per MB: 864.61 and Standard deviation: 205.84). \n",
    "\n",
    "We will obviously rerun the text extraction on this issue but before that let's see how **Gemini rendered Gaston Miron's poetry**:"
   ]
  },
  {
   "cell_type": "code",
   "execution_count": null,
   "id": "2a9b2e5a",
   "metadata": {},
   "outputs": [
    {
     "name": "stdout",
     "output_type": "stream",
     "text": [
      "La nuit\n",
      "La nuit est un mystère\n",
      "Un voile sur le monde\n",
      "Un silence lourd et profond\n",
      "Un rêve qui s'envole\n",
      "Un secret bien gardé\n",
      "Une énigme à percer\n",
      "Un chemin inconnu\n",
      "Une porte vers l'ailleurs\n",
      "Un miroir de l'âme\n",
      "Une étreinte douce et chaude\n",
      "Un baiser volé\n",
      "Une caresse légère\n",
      "Un souffle de vent\n",
      "Un murmure lointain\n",
      "Une mélodie oubliée\n"
     ]
    }
   ],
   "source": [
    "import re\n",
    "\n",
    "with open(\"../data/instructional/transcriptions_for_toc_comparison/163122_2-1968-05-A.json\", \"r\", encoding=\"utf-8\") as f:\n",
    "    articles = json.load(f)\n",
    "gemini_article = next(article[\"text\"] for article in articles if article[\"title\"] == \"poèmes inédits\")\n",
    "lines = re.split(r' (?=[A-ZÉÈÀÂÎÔÛÇ])', gemini_article)\n",
    "for line in lines[:16]:\n",
    "    print(line.strip())"
   ]
  },
  {
   "cell_type": "code",
   "execution_count": 19,
   "id": "8fb4d55e",
   "metadata": {},
   "outputs": [
    {
     "name": "stdout",
     "output_type": "stream",
     "text": [
      "                    issue  toc_count  fulltext_count  abs_diff\n",
      "24  163122_2-1968-05.json         16              43        27\n",
      "17  163122_2-1967-01.json         15              30        15\n",
      "7   163122_2-1968-01.json         12              27        15\n",
      "10  163122_2-1966-02.json         12              27        15\n",
      "35  163122_2-1967-10.json         12              25        13\n",
      "22  163122_1-1965-08.json         15              28        13\n",
      "0   163122_2-1967-09.json         11              24        13\n",
      "20  163122_1-1965-12.json         11              23        12\n",
      "9   163122_1-1965-10.json         12              23        11\n",
      "8   163122_2-1966-09.json         14              24        10\n",
      "13  163122_2-1967-03.json         15              25        10\n",
      "3   163122_2-1967-05.json         19              28         9\n",
      "33  163122_2-1966-11.json         15              22         7\n",
      "6   163122_2-1966-05.json         13              19         6\n",
      "36  163122_1-1964-02.json         13              19         6\n",
      "15  163122_1-1964-06.json         17              23         6\n",
      "1   163122_2-1966-04.json         13              18         5\n",
      "2   163122_1-1964-01.json         12              16         4\n",
      "14  163122_1-1964-10.json         11              13         2\n",
      "21  163122_1-1964-09.json         11              12         1\n",
      "11  163122_1-1965-06.json         16              17         1\n",
      "31  163122_1-1964-03.json         14              13         1\n",
      "34  163122_1-1965-03.json         11              11         0\n",
      "28  163122_1-1964-12.json         13              13         0\n",
      "32  163122_1-1965-02.json         11              11         0\n",
      "37  163122_1-1963-10.json         15              15         0\n",
      "30  163122_1-1963-11.json         15              15         0\n",
      "29  163122_2-1968-02.json         12              12         0\n",
      "19  163122_1-1965-04.json          9               9         0\n",
      "27  163122_1-1964-04.json         18              18         0\n",
      "26  163122_1-1965-05.json         10              10         0\n",
      "25  163122_2-1966-01.json          9               9         0\n",
      "23  163122_2-1968-04.json         14              14         0\n",
      "18  163122_1-1964-05.json         13              13         0\n",
      "16  163122_2-1966-03.json         10              10         0\n",
      "12  163122_1-1964-11.json         12              12         0\n",
      "5   163122_1-1965-01.json         17              17         0\n",
      "4   163122_1-1963-12.json         11              11         0\n",
      "38  163122_2-1968-03.json         12              12         0\n"
     ]
    }
   ],
   "source": [
    "# After updating 1968-05 and 1966-03, let's check everything again\n",
    "\n",
    "import os\n",
    "import json\n",
    "import pandas as pd\n",
    "\n",
    "toc_dir = \"../data/toc_transcriptions\"\n",
    "fulltext_dir = \"../data/transcriptions\"\n",
    "\n",
    "# We do not include the \"163122_1-1964-09-01.json\" and \"163122_1-1964-12-01.json\"\n",
    "# \"163122_2-1966-06.json\" is empty\n",
    "skip_files = {\n",
    "    \"163122_1-1964-09-01.json\",\n",
    "    \"163122_1-1964-12-01.json\",\n",
    "    \"163122_2-1966-06.json\"\n",
    "}\n",
    "\n",
    "# Only use files in fulltext_dir, skipping the ones above\n",
    "all_fulltext_files = [\n",
    "    f for f in os.listdir(fulltext_dir)\n",
    "    if f.endswith(\".json\") and f not in skip_files\n",
    "]\n",
    "\n",
    "count_results = []\n",
    "\n",
    "for toc_file in os.listdir(toc_dir):\n",
    "    if not toc_file.endswith(\".json\"):\n",
    "        continue\n",
    "    base_issue = toc_file.replace(\"toc_\", \"\")\n",
    "    if base_issue in skip_files:\n",
    "        continue\n",
    "    toc_path = os.path.join(toc_dir, toc_file)\n",
    "    prefix = base_issue.replace(\".json\", \"\")\n",
    "    # Only use filtered fulltext files (skip files already removed)\n",
    "    fulltext_parts = [\n",
    "        f for f in all_fulltext_files if f.startswith(prefix)\n",
    "    ]\n",
    "    if not fulltext_parts:\n",
    "        continue\n",
    "    # Load ToC\n",
    "    with open(toc_path, \"r\", encoding=\"utf-8\") as f:\n",
    "        toc_data = json.load(f)\n",
    "        toc_count = len(toc_data[\"toc\"])\n",
    "    # Load and merge fulltext articles\n",
    "    merged_articles = []\n",
    "    for part_file in sorted(fulltext_parts):\n",
    "        with open(os.path.join(fulltext_dir, part_file), \"r\", encoding=\"utf-8\") as f:\n",
    "            merged_articles.extend(json.load(f))\n",
    "    fulltext_count = len(merged_articles)\n",
    "    count_results.append({\n",
    "        \"issue\": base_issue,\n",
    "        \"toc_count\": toc_count,\n",
    "        \"fulltext_count\": fulltext_count,\n",
    "        \"count_diff\": toc_count - fulltext_count\n",
    "    })\n",
    "\n",
    "df_counts = pd.DataFrame(count_results)\n",
    "df_counts[\"abs_diff\"] = df_counts[\"count_diff\"].abs()\n",
    "df_counts_sorted = df_counts.sort_values(\"abs_diff\", ascending=False)\n",
    "print(df_counts_sorted[[\"issue\", \"toc_count\", \"fulltext_count\", \"abs_diff\"]])\n"
   ]
  },
  {
   "cell_type": "markdown",
   "id": "239225c5",
   "metadata": {},
   "source": [
    "We still have a large difference with 163122_2-1968-05."
   ]
  },
  {
   "cell_type": "code",
   "execution_count": 46,
   "id": "188349f7",
   "metadata": {},
   "outputs": [
    {
     "name": "stdout",
     "output_type": "stream",
     "text": [
      "\n",
      "Fulltext Articles:\n",
      "  1. la contestation étudiante (philippe bernard) - Pages 5-8\n",
      "  2. nègres blancs d'amérique (gilles dostaler) - Pages 10-11\n",
      "  3. rené lévesque n'est pas lumumba! (charles gagnon) - Pages 11\n",
      "  4. le M.S.A. à droite ou à gauche? (jean-guy loranger) - Pages 12-14\n",
      "  5. galbraith:: prophète ou fumiste? (gabriel gagnon) - Pages 12-16\n",
      "  6. révolution culturelle en tchécoslovaquie (philippe bernard) - Pages 15-16\n",
      "  7. black power: rejoindre la révolution noire mondiale (gilles dostaler) - Pages 16-21\n",
      "  8. présentation (philippe bernard) - Pages 23-26\n",
      "  9. M.S.A. et SOCIALISME (gabriel gagnon) - Pages 27\n",
      " 10. QUÉBEC LAÏQUE où QUÉBEC YANKEE? (pierre maheu) - Pages 28-35\n",
      " 11. pour un mouvement socialiste et indépendantiste (robert tremblay) - Pages 31-37\n",
      " 12. étudiant (jean-marc piotte) - Pages 37-38\n",
      " 13. étudiant le M.S.A. et l'ambiguïté de la gauche (gaétan tremblay) - Pages 39-40\n",
      " 14. question 1 (un fonctionnaire (québec)) - Pages 40-41\n",
      " 15. questions en réponse à des questions (pierre vadeboncoeur) - Pages 41\n",
      " 16. sociologue (gérald fortin) - Pages 42-43\n",
      " 17. écrivain cinéaste (jacques godbout) - Pages 43\n",
      " 18. cinéaste (jean pierre lefevre) - Pages 43-44\n",
      " 19. question 1 (denys arcand) - Pages 44\n",
      " 20. question 2 (denys arcand) - Pages 44-45\n",
      " 21. question 3 (denys arcand) - Pages 45\n",
      " 22. professeur question 1 (jacques brault) - Pages 45\n",
      " 23. question 2 (jacques brault) - Pages 45\n",
      " 24. question 3 (jacques brault) - Pages 46\n",
      " 25. politicologue question 1 (guy bourassa) - Pages 46-47\n",
      " 26. question 2 (guy bourassa) - Pages 47\n",
      " 27. question 3 (guy bourassa) - Pages 47-48\n",
      " 28. journaliste. question 1 (raoul roy) - Pages 47\n",
      " 29. question 2 (raoul roy) - Pages 47\n",
      " 30. question 3 (raoul roy) - Pages 47\n",
      " 31. avant-propos de j. d. portrait du colonisé québécois (j. d.) - Pages 49-52\n",
      " 32. l'état: du régime présidentiel à la nation (françois aquin) - Pages 53-56\n",
      " 33. augestion (françois aquin) - Pages 55-56\n",
      " 34. le syndicalisme : une sorte d'anti-état (françois aquin) - Pages 55-56\n",
      " 35. changer l'homme (françois aquin) - Pages 56\n",
      " 36. DEFINITION NATIONALE DES ETUDIANTS (r. s.) - Pages 58-64\n",
      " 37. À LA SANTÉ DE RUDI DUTSCHKE ET QUELQUES AUTRES FOLK-ROCK MIRABELLENWASSER (patrick straram) - Pages 1-8\n",
      " 38. on est beaux, stie! (pierre maheu) - Pages 10\n",
      " 39. la poésie en 1968: quelques réflexions* (gérald godin) - Pages 11\n",
      " 40. OBJECTEUR DE CONSCIENCE (levesque) - Pages 12-13\n",
      " 41. poèmes inédits (gaston miron) - Pages 14\n",
      " 42. LE SALUT D'ENTRE LES JOURS (Gaston Miron) - Pages 15\n",
      " 43. TROIS MOIS APRÈS (andré théberge) - Pages 15-16\n"
     ]
    }
   ],
   "source": [
    "# Let's read the titles, authors, and pages from the fulltext\n",
    "# This is a split issue, so we need to load all 3 parts\n",
    "fulltext_parts = [\n",
    "    \"163122_2-1968-05-A.json\",\n",
    "    \"163122_2-1968-05-B.json\",\n",
    "    \"163122_2-1968-05-C.json\"\n",
    "]\n",
    "fulltext_articles = []\n",
    "for part in fulltext_parts:\n",
    "    with open(f\"../data/transcriptions/{part}\", \"r\", encoding=\"utf-8\") as f:\n",
    "        part_data = json.load(f)\n",
    "        fulltext_articles.extend(part_data)\n",
    "\n",
    "titles_fulltext = [article[\"title\"] for article in fulltext_articles]\n",
    "authors_fulltext = [article[\"author\"] for article in fulltext_articles]\n",
    "pages_fulltext = [article[\"page_range\"] for article in fulltext_articles]\n",
    "print(\"\\nFulltext Articles:\")\n",
    "for idx, (title, authors, pages) in enumerate(zip(titles_fulltext, authors_fulltext, pages_fulltext), 1):\n",
    "    print(f\" {idx:2d}. {title} ({authors}) - Pages {pages}\")"
   ]
  },
  {
   "cell_type": "markdown",
   "id": "6b455db9",
   "metadata": {},
   "source": [
    "After redoing -A, there does not seem to be any hallucinations and the issue now is about the \"québec '68: forum-débat\". In the ToC, it appears as one entry. In the fulltext, it consists of 23 smaller entries, 8 though 30 (included). Same goes for \"françois aquin\", which is an interview with several subheadings, each subheading is transcribed as a separate article in the full text. This means that 1 entry in the ToC becomes 5 entries in the fulltext.\n",
    "\n",
    "This is of course not ideal but we can fix this in the post!"
   ]
  },
  {
   "cell_type": "markdown",
   "id": "8e2c8aed",
   "metadata": {},
   "source": [
    "163122_2-1968-01-A.json has the same issue, but instead of hallucinating, the model produced some comments: \"This article is listed in the table of contents (p. 35) but the provided images end at page 30. This indicates the article itself is not present in the provided page range.\"\n",
    "\n",
    "Let's update 1968-01-A and 1968-01-B too!"
   ]
  },
  {
   "cell_type": "markdown",
   "id": "77c492d5",
   "metadata": {},
   "source": [
    "Finally, let's take a look at the rest of the issues where we identified large differences. We can compare the titles and the authors so that we can get a quick overview of the differences at scale."
   ]
  },
  {
   "cell_type": "code",
   "execution_count": 20,
   "id": "f431edb9",
   "metadata": {},
   "outputs": [
    {
     "data": {
      "application/vnd.microsoft.datawrangler.viewer.v0+json": {
       "columns": [
        {
         "name": "index",
         "rawType": "int64",
         "type": "integer"
        },
        {
         "name": "issue",
         "rawType": "object",
         "type": "string"
        },
        {
         "name": "toc_count",
         "rawType": "int64",
         "type": "integer"
        },
        {
         "name": "fulltext_count",
         "rawType": "int64",
         "type": "integer"
        },
        {
         "name": "count_diff",
         "rawType": "int64",
         "type": "integer"
        },
        {
         "name": "abs_diff",
         "rawType": "int64",
         "type": "integer"
        }
       ],
       "ref": "2269471c-4f5f-449f-a6b0-c932c5a2b7c3",
       "rows": [
        [
         "0",
         "163122_2-1967-01.json",
         "15",
         "30",
         "-15",
         "15"
        ],
        [
         "1",
         "163122_2-1968-01.json",
         "12",
         "27",
         "-15",
         "15"
        ],
        [
         "2",
         "163122_2-1966-02.json",
         "12",
         "27",
         "-15",
         "15"
        ],
        [
         "3",
         "163122_2-1967-10.json",
         "12",
         "25",
         "-13",
         "13"
        ],
        [
         "4",
         "163122_1-1965-08.json",
         "15",
         "28",
         "-13",
         "13"
        ],
        [
         "5",
         "163122_2-1967-09.json",
         "11",
         "24",
         "-13",
         "13"
        ],
        [
         "6",
         "163122_1-1965-12.json",
         "11",
         "23",
         "-12",
         "12"
        ],
        [
         "7",
         "163122_1-1965-10.json",
         "12",
         "23",
         "-11",
         "11"
        ],
        [
         "8",
         "163122_2-1966-09.json",
         "14",
         "24",
         "-10",
         "10"
        ],
        [
         "9",
         "163122_2-1967-03.json",
         "15",
         "25",
         "-10",
         "10"
        ],
        [
         "10",
         "163122_2-1967-05.json",
         "19",
         "28",
         "-9",
         "9"
        ],
        [
         "11",
         "163122_2-1966-11.json",
         "15",
         "22",
         "-7",
         "7"
        ],
        [
         "12",
         "163122_2-1966-05.json",
         "13",
         "19",
         "-6",
         "6"
        ],
        [
         "13",
         "163122_1-1964-02.json",
         "13",
         "19",
         "-6",
         "6"
        ],
        [
         "14",
         "163122_1-1964-06.json",
         "17",
         "23",
         "-6",
         "6"
        ],
        [
         "15",
         "163122_2-1966-04.json",
         "13",
         "18",
         "-5",
         "5"
        ],
        [
         "16",
         "163122_1-1964-01.json",
         "12",
         "16",
         "-4",
         "4"
        ],
        [
         "17",
         "163122_1-1964-10.json",
         "11",
         "13",
         "-2",
         "2"
        ],
        [
         "18",
         "163122_1-1964-09.json",
         "11",
         "12",
         "-1",
         "1"
        ],
        [
         "19",
         "163122_1-1965-06.json",
         "16",
         "17",
         "-1",
         "1"
        ]
       ],
       "shape": {
        "columns": 5,
        "rows": 20
       }
      },
      "text/html": [
       "<div>\n",
       "<style scoped>\n",
       "    .dataframe tbody tr th:only-of-type {\n",
       "        vertical-align: middle;\n",
       "    }\n",
       "\n",
       "    .dataframe tbody tr th {\n",
       "        vertical-align: top;\n",
       "    }\n",
       "\n",
       "    .dataframe thead th {\n",
       "        text-align: right;\n",
       "    }\n",
       "</style>\n",
       "<table border=\"1\" class=\"dataframe\">\n",
       "  <thead>\n",
       "    <tr style=\"text-align: right;\">\n",
       "      <th></th>\n",
       "      <th>issue</th>\n",
       "      <th>toc_count</th>\n",
       "      <th>fulltext_count</th>\n",
       "      <th>count_diff</th>\n",
       "      <th>abs_diff</th>\n",
       "    </tr>\n",
       "  </thead>\n",
       "  <tbody>\n",
       "    <tr>\n",
       "      <th>0</th>\n",
       "      <td>163122_2-1967-01.json</td>\n",
       "      <td>15</td>\n",
       "      <td>30</td>\n",
       "      <td>-15</td>\n",
       "      <td>15</td>\n",
       "    </tr>\n",
       "    <tr>\n",
       "      <th>1</th>\n",
       "      <td>163122_2-1968-01.json</td>\n",
       "      <td>12</td>\n",
       "      <td>27</td>\n",
       "      <td>-15</td>\n",
       "      <td>15</td>\n",
       "    </tr>\n",
       "    <tr>\n",
       "      <th>2</th>\n",
       "      <td>163122_2-1966-02.json</td>\n",
       "      <td>12</td>\n",
       "      <td>27</td>\n",
       "      <td>-15</td>\n",
       "      <td>15</td>\n",
       "    </tr>\n",
       "    <tr>\n",
       "      <th>3</th>\n",
       "      <td>163122_2-1967-10.json</td>\n",
       "      <td>12</td>\n",
       "      <td>25</td>\n",
       "      <td>-13</td>\n",
       "      <td>13</td>\n",
       "    </tr>\n",
       "    <tr>\n",
       "      <th>4</th>\n",
       "      <td>163122_1-1965-08.json</td>\n",
       "      <td>15</td>\n",
       "      <td>28</td>\n",
       "      <td>-13</td>\n",
       "      <td>13</td>\n",
       "    </tr>\n",
       "    <tr>\n",
       "      <th>5</th>\n",
       "      <td>163122_2-1967-09.json</td>\n",
       "      <td>11</td>\n",
       "      <td>24</td>\n",
       "      <td>-13</td>\n",
       "      <td>13</td>\n",
       "    </tr>\n",
       "    <tr>\n",
       "      <th>6</th>\n",
       "      <td>163122_1-1965-12.json</td>\n",
       "      <td>11</td>\n",
       "      <td>23</td>\n",
       "      <td>-12</td>\n",
       "      <td>12</td>\n",
       "    </tr>\n",
       "    <tr>\n",
       "      <th>7</th>\n",
       "      <td>163122_1-1965-10.json</td>\n",
       "      <td>12</td>\n",
       "      <td>23</td>\n",
       "      <td>-11</td>\n",
       "      <td>11</td>\n",
       "    </tr>\n",
       "    <tr>\n",
       "      <th>8</th>\n",
       "      <td>163122_2-1966-09.json</td>\n",
       "      <td>14</td>\n",
       "      <td>24</td>\n",
       "      <td>-10</td>\n",
       "      <td>10</td>\n",
       "    </tr>\n",
       "    <tr>\n",
       "      <th>9</th>\n",
       "      <td>163122_2-1967-03.json</td>\n",
       "      <td>15</td>\n",
       "      <td>25</td>\n",
       "      <td>-10</td>\n",
       "      <td>10</td>\n",
       "    </tr>\n",
       "    <tr>\n",
       "      <th>10</th>\n",
       "      <td>163122_2-1967-05.json</td>\n",
       "      <td>19</td>\n",
       "      <td>28</td>\n",
       "      <td>-9</td>\n",
       "      <td>9</td>\n",
       "    </tr>\n",
       "    <tr>\n",
       "      <th>11</th>\n",
       "      <td>163122_2-1966-11.json</td>\n",
       "      <td>15</td>\n",
       "      <td>22</td>\n",
       "      <td>-7</td>\n",
       "      <td>7</td>\n",
       "    </tr>\n",
       "    <tr>\n",
       "      <th>12</th>\n",
       "      <td>163122_2-1966-05.json</td>\n",
       "      <td>13</td>\n",
       "      <td>19</td>\n",
       "      <td>-6</td>\n",
       "      <td>6</td>\n",
       "    </tr>\n",
       "    <tr>\n",
       "      <th>13</th>\n",
       "      <td>163122_1-1964-02.json</td>\n",
       "      <td>13</td>\n",
       "      <td>19</td>\n",
       "      <td>-6</td>\n",
       "      <td>6</td>\n",
       "    </tr>\n",
       "    <tr>\n",
       "      <th>14</th>\n",
       "      <td>163122_1-1964-06.json</td>\n",
       "      <td>17</td>\n",
       "      <td>23</td>\n",
       "      <td>-6</td>\n",
       "      <td>6</td>\n",
       "    </tr>\n",
       "    <tr>\n",
       "      <th>15</th>\n",
       "      <td>163122_2-1966-04.json</td>\n",
       "      <td>13</td>\n",
       "      <td>18</td>\n",
       "      <td>-5</td>\n",
       "      <td>5</td>\n",
       "    </tr>\n",
       "    <tr>\n",
       "      <th>16</th>\n",
       "      <td>163122_1-1964-01.json</td>\n",
       "      <td>12</td>\n",
       "      <td>16</td>\n",
       "      <td>-4</td>\n",
       "      <td>4</td>\n",
       "    </tr>\n",
       "    <tr>\n",
       "      <th>17</th>\n",
       "      <td>163122_1-1964-10.json</td>\n",
       "      <td>11</td>\n",
       "      <td>13</td>\n",
       "      <td>-2</td>\n",
       "      <td>2</td>\n",
       "    </tr>\n",
       "    <tr>\n",
       "      <th>18</th>\n",
       "      <td>163122_1-1964-09.json</td>\n",
       "      <td>11</td>\n",
       "      <td>12</td>\n",
       "      <td>-1</td>\n",
       "      <td>1</td>\n",
       "    </tr>\n",
       "    <tr>\n",
       "      <th>19</th>\n",
       "      <td>163122_1-1965-06.json</td>\n",
       "      <td>16</td>\n",
       "      <td>17</td>\n",
       "      <td>-1</td>\n",
       "      <td>1</td>\n",
       "    </tr>\n",
       "  </tbody>\n",
       "</table>\n",
       "</div>"
      ],
      "text/plain": [
       "                    issue  toc_count  fulltext_count  count_diff  abs_diff\n",
       "0   163122_2-1967-01.json         15              30         -15        15\n",
       "1   163122_2-1968-01.json         12              27         -15        15\n",
       "2   163122_2-1966-02.json         12              27         -15        15\n",
       "3   163122_2-1967-10.json         12              25         -13        13\n",
       "4   163122_1-1965-08.json         15              28         -13        13\n",
       "5   163122_2-1967-09.json         11              24         -13        13\n",
       "6   163122_1-1965-12.json         11              23         -12        12\n",
       "7   163122_1-1965-10.json         12              23         -11        11\n",
       "8   163122_2-1966-09.json         14              24         -10        10\n",
       "9   163122_2-1967-03.json         15              25         -10        10\n",
       "10  163122_2-1967-05.json         19              28          -9         9\n",
       "11  163122_2-1966-11.json         15              22          -7         7\n",
       "12  163122_2-1966-05.json         13              19          -6         6\n",
       "13  163122_1-1964-02.json         13              19          -6         6\n",
       "14  163122_1-1964-06.json         17              23          -6         6\n",
       "15  163122_2-1966-04.json         13              18          -5         5\n",
       "16  163122_1-1964-01.json         12              16          -4         4\n",
       "17  163122_1-1964-10.json         11              13          -2         2\n",
       "18  163122_1-1964-09.json         11              12          -1         1\n",
       "19  163122_1-1965-06.json         16              17          -1         1"
      ]
     },
     "execution_count": 20,
     "metadata": {},
     "output_type": "execute_result"
    }
   ],
   "source": [
    "# Let's get a copy of the df_counts_sorted DataFrame and remove the entries with zero difference\n",
    "# and the issue \"163122_2-1968-05.json\" which we have already discussed\n",
    "# 163122_1-1964-03.json has a mismatch of 1 but it is because the toc has notes listed as an entry\n",
    "\n",
    "df_counts_filtered = df_counts_sorted.copy()\n",
    "df_counts_filtered = df_counts_filtered[\n",
    "    (df_counts_filtered[\"abs_diff\"] != 0) &\n",
    "    (df_counts_filtered[\"issue\"] != \"163122_2-1968-05.json\") &\n",
    "    (df_counts_filtered[\"issue\"] != \"163122_1-1964-03.json\")\n",
    "]\n",
    "df_counts_filtered.reset_index(drop=True, inplace=True)\n",
    "df_counts_filtered"
   ]
  },
  {
   "cell_type": "code",
   "execution_count": 43,
   "id": "978b4532",
   "metadata": {},
   "outputs": [],
   "source": [
    "import pandas as pd\n",
    "from rapidfuzz import process, fuzz\n",
    "import unicodedata\n",
    "import re\n",
    "import string\n",
    "\n",
    "def normalize_text(text):\n",
    "    text = text or \"\"\n",
    "    text = text.strip().lower()\n",
    "    text = unicodedata.normalize(\"NFKD\", text)\n",
    "    text = re.sub(rf\"[{re.escape(string.punctuation)}]\", \"\", text)  # remove all punctuation\n",
    "    text = re.sub(r\"\\s+\", \" \", text)\n",
    "    text = text.replace(\"–\", \"-\").replace(\"—\", \"-\")\n",
    "    text = text.replace(\"“\", \"\\\"\").replace(\"”\", \"\\\"\").replace(\"’\", \"'\")\n",
    "    return text.strip()\n",
    "\n",
    "def map_toc_to_fulltext(toc_entries, fulltext_entries, threshold=80, author_threshold=85):\n",
    "    mapping = []\n",
    "    fulltext_titles_norm = [normalize_text(entry[\"title\"]) for entry in fulltext_entries]\n",
    "    fulltext_authors_norm = [normalize_text(entry.get(\"author\", \"\")) for entry in fulltext_entries]\n",
    "    used_fulltext_indices = set()\n",
    "    last_matched_idx = -1\n",
    "\n",
    "    for toc_idx, toc_entry in enumerate(toc_entries):\n",
    "        # Always use title if present, otherwise use section as the title\n",
    "        toc_title_val = toc_entry.get(\"title\", \"\") or toc_entry.get(\"section\", \"\")\n",
    "        toc_title_norm = normalize_text(toc_title_val)\n",
    "        toc_authors_norm = [normalize_text(a) for a in toc_entry.get(\"authors\", [])]\n",
    "\n",
    "        # Title match: only unused entries\n",
    "        candidates = [(i, t) for i, t in enumerate(fulltext_titles_norm) if i not in used_fulltext_indices]\n",
    "        if candidates:\n",
    "            idxs, titles = zip(*candidates)\n",
    "            match, score, rel_idx = process.extractOne(\n",
    "                toc_title_norm, titles, scorer=fuzz.token_sort_ratio\n",
    "            )\n",
    "            idx = idxs[rel_idx]\n",
    "        else:\n",
    "            score = 0\n",
    "            idx = None\n",
    "\n",
    "        if score >= threshold and idx is not None:\n",
    "            mapping.append({\n",
    "                \"toc_title\": toc_title_val,\n",
    "                \"toc_authors\": \", \".join(toc_entry.get(\"authors\", [])),\n",
    "                \"best_fulltext_title\": fulltext_entries[idx][\"title\"],\n",
    "                \"fulltext_authors\": fulltext_entries[idx][\"author\"],\n",
    "                \"score\": score,\n",
    "                \"match_type\": \"title\",\n",
    "                \"status\": \"matched\"\n",
    "            })\n",
    "            used_fulltext_indices.add(idx)\n",
    "            last_matched_idx = max(last_matched_idx, idx)\n",
    "        else:\n",
    "            # Author match: only unused entries after last_matched_idx\n",
    "            best_author_score = 0\n",
    "            best_idx = None\n",
    "            for i, fauth in enumerate(fulltext_authors_norm):\n",
    "                if i in used_fulltext_indices or i < last_matched_idx:\n",
    "                    continue\n",
    "                for tauth in toc_authors_norm:\n",
    "                    if tauth and fauth:\n",
    "                        this_score = fuzz.token_sort_ratio(tauth, fauth)\n",
    "                        if this_score > best_author_score:\n",
    "                            best_author_score = this_score\n",
    "                            best_idx = i\n",
    "            if best_author_score >= author_threshold and best_idx is not None:\n",
    "                mapping.append({\n",
    "                    \"toc_title\": toc_title_val,\n",
    "                    \"toc_authors\": \", \".join(toc_entry.get(\"authors\", [])),\n",
    "                    \"best_fulltext_title\": fulltext_entries[best_idx][\"title\"],\n",
    "                    \"fulltext_authors\": fulltext_entries[best_idx][\"author\"],\n",
    "                    \"score\": best_author_score,\n",
    "                    \"match_type\": \"author\",\n",
    "                    \"status\": \"matched_by_author\"\n",
    "                })\n",
    "                used_fulltext_indices.add(best_idx)\n",
    "                last_matched_idx = max(last_matched_idx, best_idx)\n",
    "            else:\n",
    "                mapping.append({\n",
    "                    \"toc_title\": toc_title_val,\n",
    "                    \"toc_authors\": \", \".join(toc_entry.get(\"authors\", [])),\n",
    "                    \"best_fulltext_title\": \"\",\n",
    "                    \"fulltext_authors\": \"\",\n",
    "                    \"score\": score,\n",
    "                    \"match_type\": \"none\",\n",
    "                    \"status\": \"missing\"\n",
    "                })\n",
    "\n",
    "    # return the unmatched fulltext articles\n",
    "    unmatched_indices = [i for i in range(len(fulltext_entries)) if i not in used_fulltext_indices]\n",
    "    unmatched_articles = [fulltext_entries[i] for i in unmatched_indices]\n",
    "\n",
    "    return pd.DataFrame(mapping), unmatched_articles"
   ]
  },
  {
   "cell_type": "code",
   "execution_count": 46,
   "id": "fd33d837",
   "metadata": {},
   "outputs": [
    {
     "name": "stdout",
     "output_type": "stream",
     "text": [
      "14 articles in full text unmatched\n"
     ]
    },
    {
     "data": {
      "application/vnd.microsoft.datawrangler.viewer.v0+json": {
       "columns": [
        {
         "name": "index",
         "rawType": "int64",
         "type": "integer"
        },
        {
         "name": "toc_title",
         "rawType": "object",
         "type": "string"
        },
        {
         "name": "toc_authors",
         "rawType": "object",
         "type": "string"
        },
        {
         "name": "best_fulltext_title",
         "rawType": "object",
         "type": "string"
        },
        {
         "name": "fulltext_authors",
         "rawType": "object",
         "type": "string"
        },
        {
         "name": "score",
         "rawType": "float64",
         "type": "float"
        },
        {
         "name": "match_type",
         "rawType": "object",
         "type": "string"
        },
        {
         "name": "status",
         "rawType": "object",
         "type": "string"
        }
       ],
       "ref": "9ef3292b-d120-4823-b035-c77e894be528",
       "rows": [
        [
         "0",
         "Dédicace",
         "",
         "Dédicace",
         "Parti Pris",
         "100.0",
         "title",
         "matched"
        ],
        [
         "1",
         "Editorial",
         "",
         "",
         "",
         "44.99999999999999",
         "none",
         "missing"
        ],
        [
         "2",
         "De Gaulle: Politique et stratégie.",
         "gilles bourque",
         "DE GAULLE, POLITIQUE ET STRATÉGIE",
         "Gilles Bourque",
         "100.0",
         "title",
         "matched"
        ],
        [
         "3",
         "Cuba révolutionnaire.",
         "pierre vallières",
         "CUBA révolutionnaire",
         "Pierre Vallières",
         "100.0",
         "title",
         "matched"
        ],
        [
         "4",
         "De Gaulle: un tournant.",
         "thérèse dumouchel",
         "De Gaulle: un tournant.",
         "Thérèse Dumouchel",
         "100.0",
         "title",
         "matched"
        ],
        [
         "5",
         "Québec politique.",
         "philippe bernard",
         "Québec politique. Bougez pas, M. Johnson!",
         "Philippe Bernard",
         "100.0",
         "author",
         "matched_by_author"
        ],
        [
         "6",
         "Littérature québécoise.",
         "raoul duguay",
         "Littérature québécoise. DAVID STERNE: le pathétique de la misère ou la gloire de la finitude.",
         "Raoul Duguay",
         "100.0",
         "author",
         "matched_by_author"
        ],
        [
         "7",
         "Les essais.",
         "luc racine",
         "Les essais.",
         "Luc Racine",
         "100.0",
         "title",
         "matched"
        ],
        [
         "8",
         "Temps modernes.",
         "gilles bourque",
         "Temps modernes. Les moyens de communication",
         "Gilles Bourque",
         "100.0",
         "author",
         "matched_by_author"
        ],
        [
         "9",
         "Les arts \"zartistiques\".",
         "thérèse dumouchel",
         "Les arts \"zartistiques\"",
         "Thérèse Dumouchel",
         "100.0",
         "title",
         "matched"
        ],
        [
         "10",
         "Interprétation de la vie quotidienne.",
         "patrick straram",
         "Interprétation de la vie quotidienne. Collage - “informations”",
         "Patrick Straram",
         "100.0",
         "author",
         "matched_by_author"
        ]
       ],
       "shape": {
        "columns": 7,
        "rows": 11
       }
      },
      "text/html": [
       "<div>\n",
       "<style scoped>\n",
       "    .dataframe tbody tr th:only-of-type {\n",
       "        vertical-align: middle;\n",
       "    }\n",
       "\n",
       "    .dataframe tbody tr th {\n",
       "        vertical-align: top;\n",
       "    }\n",
       "\n",
       "    .dataframe thead th {\n",
       "        text-align: right;\n",
       "    }\n",
       "</style>\n",
       "<table border=\"1\" class=\"dataframe\">\n",
       "  <thead>\n",
       "    <tr style=\"text-align: right;\">\n",
       "      <th></th>\n",
       "      <th>toc_title</th>\n",
       "      <th>toc_authors</th>\n",
       "      <th>best_fulltext_title</th>\n",
       "      <th>fulltext_authors</th>\n",
       "      <th>score</th>\n",
       "      <th>match_type</th>\n",
       "      <th>status</th>\n",
       "    </tr>\n",
       "  </thead>\n",
       "  <tbody>\n",
       "    <tr>\n",
       "      <th>0</th>\n",
       "      <td>Dédicace</td>\n",
       "      <td></td>\n",
       "      <td>Dédicace</td>\n",
       "      <td>Parti Pris</td>\n",
       "      <td>100.0</td>\n",
       "      <td>title</td>\n",
       "      <td>matched</td>\n",
       "    </tr>\n",
       "    <tr>\n",
       "      <th>1</th>\n",
       "      <td>Editorial</td>\n",
       "      <td></td>\n",
       "      <td></td>\n",
       "      <td></td>\n",
       "      <td>45.0</td>\n",
       "      <td>none</td>\n",
       "      <td>missing</td>\n",
       "    </tr>\n",
       "    <tr>\n",
       "      <th>2</th>\n",
       "      <td>De Gaulle: Politique et stratégie.</td>\n",
       "      <td>gilles bourque</td>\n",
       "      <td>DE GAULLE, POLITIQUE ET STRATÉGIE</td>\n",
       "      <td>Gilles Bourque</td>\n",
       "      <td>100.0</td>\n",
       "      <td>title</td>\n",
       "      <td>matched</td>\n",
       "    </tr>\n",
       "    <tr>\n",
       "      <th>3</th>\n",
       "      <td>Cuba révolutionnaire.</td>\n",
       "      <td>pierre vallières</td>\n",
       "      <td>CUBA révolutionnaire</td>\n",
       "      <td>Pierre Vallières</td>\n",
       "      <td>100.0</td>\n",
       "      <td>title</td>\n",
       "      <td>matched</td>\n",
       "    </tr>\n",
       "    <tr>\n",
       "      <th>4</th>\n",
       "      <td>De Gaulle: un tournant.</td>\n",
       "      <td>thérèse dumouchel</td>\n",
       "      <td>De Gaulle: un tournant.</td>\n",
       "      <td>Thérèse Dumouchel</td>\n",
       "      <td>100.0</td>\n",
       "      <td>title</td>\n",
       "      <td>matched</td>\n",
       "    </tr>\n",
       "    <tr>\n",
       "      <th>5</th>\n",
       "      <td>Québec politique.</td>\n",
       "      <td>philippe bernard</td>\n",
       "      <td>Québec politique. Bougez pas, M. Johnson!</td>\n",
       "      <td>Philippe Bernard</td>\n",
       "      <td>100.0</td>\n",
       "      <td>author</td>\n",
       "      <td>matched_by_author</td>\n",
       "    </tr>\n",
       "    <tr>\n",
       "      <th>6</th>\n",
       "      <td>Littérature québécoise.</td>\n",
       "      <td>raoul duguay</td>\n",
       "      <td>Littérature québécoise. DAVID STERNE: le pathé...</td>\n",
       "      <td>Raoul Duguay</td>\n",
       "      <td>100.0</td>\n",
       "      <td>author</td>\n",
       "      <td>matched_by_author</td>\n",
       "    </tr>\n",
       "    <tr>\n",
       "      <th>7</th>\n",
       "      <td>Les essais.</td>\n",
       "      <td>luc racine</td>\n",
       "      <td>Les essais.</td>\n",
       "      <td>Luc Racine</td>\n",
       "      <td>100.0</td>\n",
       "      <td>title</td>\n",
       "      <td>matched</td>\n",
       "    </tr>\n",
       "    <tr>\n",
       "      <th>8</th>\n",
       "      <td>Temps modernes.</td>\n",
       "      <td>gilles bourque</td>\n",
       "      <td>Temps modernes. Les moyens de communication</td>\n",
       "      <td>Gilles Bourque</td>\n",
       "      <td>100.0</td>\n",
       "      <td>author</td>\n",
       "      <td>matched_by_author</td>\n",
       "    </tr>\n",
       "    <tr>\n",
       "      <th>9</th>\n",
       "      <td>Les arts \"zartistiques\".</td>\n",
       "      <td>thérèse dumouchel</td>\n",
       "      <td>Les arts \"zartistiques\"</td>\n",
       "      <td>Thérèse Dumouchel</td>\n",
       "      <td>100.0</td>\n",
       "      <td>title</td>\n",
       "      <td>matched</td>\n",
       "    </tr>\n",
       "    <tr>\n",
       "      <th>10</th>\n",
       "      <td>Interprétation de la vie quotidienne.</td>\n",
       "      <td>patrick straram</td>\n",
       "      <td>Interprétation de la vie quotidienne. Collage ...</td>\n",
       "      <td>Patrick Straram</td>\n",
       "      <td>100.0</td>\n",
       "      <td>author</td>\n",
       "      <td>matched_by_author</td>\n",
       "    </tr>\n",
       "  </tbody>\n",
       "</table>\n",
       "</div>"
      ],
      "text/plain": [
       "                                toc_title        toc_authors  \\\n",
       "0                                Dédicace                      \n",
       "1                               Editorial                      \n",
       "2      De Gaulle: Politique et stratégie.     gilles bourque   \n",
       "3                   Cuba révolutionnaire.   pierre vallières   \n",
       "4                 De Gaulle: un tournant.  thérèse dumouchel   \n",
       "5                       Québec politique.   philippe bernard   \n",
       "6                 Littérature québécoise.       raoul duguay   \n",
       "7                             Les essais.         luc racine   \n",
       "8                         Temps modernes.     gilles bourque   \n",
       "9                Les arts \"zartistiques\".  thérèse dumouchel   \n",
       "10  Interprétation de la vie quotidienne.    patrick straram   \n",
       "\n",
       "                                  best_fulltext_title   fulltext_authors  \\\n",
       "0                                            Dédicace         Parti Pris   \n",
       "1                                                                          \n",
       "2                   DE GAULLE, POLITIQUE ET STRATÉGIE     Gilles Bourque   \n",
       "3                                CUBA révolutionnaire   Pierre Vallières   \n",
       "4                             De Gaulle: un tournant.  Thérèse Dumouchel   \n",
       "5           Québec politique. Bougez pas, M. Johnson!   Philippe Bernard   \n",
       "6   Littérature québécoise. DAVID STERNE: le pathé...       Raoul Duguay   \n",
       "7                                         Les essais.         Luc Racine   \n",
       "8         Temps modernes. Les moyens de communication     Gilles Bourque   \n",
       "9                             Les arts \"zartistiques\"  Thérèse Dumouchel   \n",
       "10  Interprétation de la vie quotidienne. Collage ...    Patrick Straram   \n",
       "\n",
       "    score match_type             status  \n",
       "0   100.0      title            matched  \n",
       "1    45.0       none            missing  \n",
       "2   100.0      title            matched  \n",
       "3   100.0      title            matched  \n",
       "4   100.0      title            matched  \n",
       "5   100.0     author  matched_by_author  \n",
       "6   100.0     author  matched_by_author  \n",
       "7   100.0      title            matched  \n",
       "8   100.0     author  matched_by_author  \n",
       "9   100.0      title            matched  \n",
       "10  100.0     author  matched_by_author  "
      ]
     },
     "metadata": {},
     "output_type": "display_data"
    }
   ],
   "source": [
    "# Example usage for a single issue:\n",
    "toc_path = \"../data/toc_transcriptions/toc_163122_2-1967-09.json\"\n",
    "fulltext_path = \"../data/transcriptions/163122_2-1967-09.json\"\n",
    "\n",
    "with open(toc_path, \"r\", encoding=\"utf-8\") as f:\n",
    "    toc_data = json.load(f)\n",
    "with open(fulltext_path, \"r\", encoding=\"utf-8\") as f:\n",
    "    fulltext_data = json.load(f)\n",
    "\n",
    "df_map, unmatched = map_toc_to_fulltext(toc_data[\"toc\"], fulltext_data)\n",
    "print(len(unmatched), \"articles in full text unmatched\")\n",
    "display(df_map)"
   ]
  },
  {
   "cell_type": "code",
   "execution_count": null,
   "id": "cbc516e2",
   "metadata": {},
   "outputs": [],
   "source": [
    "import pandas as pd\n",
    "import os\n",
    "import json\n",
    "import glob\n",
    "all_maps = []\n",
    "all_unmatched = []\n",
    "\n",
    "skip_files = {\n",
    "    \"163122_1-1964-09-01.json\",\n",
    "    \"163122_1-1964-12-01.json\",\n",
    "    \"163122_2-1966-06.json\"\n",
    "}\n",
    "\n",
    "for issue in df_counts_filtered[\"issue\"]:\n",
    "    toc_path = f\"../data/toc_transcriptions/toc_{issue}\"\n",
    "    prefix = issue.replace(\".json\", \"\")\n",
    "    all_parts = glob.glob(f\"../data/transcriptions/{prefix}*.json\")\n",
    "    # Skip any files in skip_files\n",
    "    fulltext_parts = sorted([\n",
    "        path for path in all_parts\n",
    "        if os.path.basename(path) not in skip_files\n",
    "    ])\n",
    "    if not (os.path.exists(toc_path) and fulltext_parts):\n",
    "        print(f\"Skipping {issue} (missing file)\")\n",
    "        continue\n",
    "    with open(toc_path, \"r\", encoding=\"utf-8\") as f:\n",
    "        toc_data = json.load(f)\n",
    "    fulltext_articles = []\n",
    "    for part_path in fulltext_parts:\n",
    "        with open(part_path, \"r\", encoding=\"utf-8\") as pf:\n",
    "            part_data = json.load(pf)\n",
    "            fulltext_articles.extend(part_data)\n",
    "    # Use the returned unmatched_articles directly\n",
    "    df_map, unmatched_articles = map_toc_to_fulltext(toc_data[\"toc\"], fulltext_articles)\n",
    "    df_map[\"issue\"] = issue\n",
    "    all_maps.append(df_map)\n",
    "    for art in unmatched_articles:\n",
    "        all_unmatched.append({\n",
    "            \"issue\": issue,\n",
    "            \"title\": art.get(\"title\", \"\"),\n",
    "            \"author\": art.get(\"author\", \"\")\n",
    "        })\n",
    "\n",
    "df_all_maps = pd.concat(all_maps, ignore_index=True)\n",
    "df_unmatched = pd.DataFrame(all_unmatched)\n",
    "\n",
    "# Optionally, save all mappings and unmatched articles to CSV files\n",
    "# df_all_maps.to_csv(\"all_issue_mappings.csv\", index=False)\n",
    "# df_unmatched.to_csv(\"all_unmatched_fulltext_articles.csv\", index=False)"
   ]
  },
  {
   "cell_type": "code",
   "execution_count": 68,
   "id": "8d02b27f",
   "metadata": {},
   "outputs": [
    {
     "name": "stdout",
     "output_type": "stream",
     "text": [
      "Number of unmatched ToC titles: 38\n",
      "Percentage of unmatched ToC titles: 14.13%\n"
     ]
    }
   ],
   "source": [
    "# Count all unmatched ToC titles (status == \"missing\")\n",
    "num_unmatched_toc_titles = (df_all_maps[\"status\"] == \"missing\").sum()\n",
    "print(f\"Number of unmatched ToC titles: {num_unmatched_toc_titles}\")\n",
    "\n",
    "# what percetange of the toc titles are unmatched\n",
    "total_toc_titles = len(df_all_maps)\n",
    "percentage_unmatched = (num_unmatched_toc_titles / total_toc_titles) * 100\n",
    "print(f\"Percentage of unmatched ToC titles: {percentage_unmatched:.2f}%\")"
   ]
  },
  {
   "cell_type": "code",
   "execution_count": 55,
   "id": "99125a79",
   "metadata": {},
   "outputs": [
    {
     "name": "stdout",
     "output_type": "stream",
     "text": [
      "Unmatched ToC titles (28):\n",
      "- colonialisme quotidien\n",
      "- Marginales\n",
      "- éditorial\n",
      "- marginales\n",
      "- Editorial\n",
      "- chroniques\n",
      "- le colonialisme quotidien\n",
      "- littérature québecoise\n",
      "- présentation\n",
      "- l'insurrection 1837-38\n",
      "- culture, décolonisation\n",
      "- les indiens du québec\n",
      "- politique internationale\n",
      "- le québec politique\n",
      "- le québec syndical\n",
      "- la laïcité\n",
      "- les essais\n",
      "- littérature québécoise\n",
      "- le f.l.q. et nous\n",
      "- gérald godin\n",
      "- andré major\n",
      "- chronique du R.I.N.\n",
      "- les livres\n",
      "- ce bordel de pays\n",
      "- les divertissements\n",
      "- l'information\n",
      "- vulgarités\n",
      "- manifeste\n"
     ]
    }
   ],
   "source": [
    "# 14% unmatched is not too bad. Let's see what kind of titles are unmatched\n",
    "unmatched_titles = df_all_maps[df_all_maps[\"status\"] == \"missing\"][\"toc_title\"].unique()\n",
    "print(f\"Unmatched ToC titles ({len(unmatched_titles)}):\")\n",
    "for title in unmatched_titles:\n",
    "    print(f\"- {title}\")"
   ]
  },
  {
   "cell_type": "markdown",
   "id": "12e6a804",
   "metadata": {},
   "source": [
    "Only 14% of the titles from the ToC are not matched and of that 14% plenty are marginales or editorial, which are more prone to OCR not recognizing exactly what the title is."
   ]
  },
  {
   "cell_type": "code",
   "execution_count": 56,
   "id": "98623c6e",
   "metadata": {},
   "outputs": [
    {
     "data": {
      "application/vnd.microsoft.datawrangler.viewer.v0+json": {
       "columns": [
        {
         "name": "issue",
         "rawType": "object",
         "type": "string"
        },
        {
         "name": "0",
         "rawType": "int64",
         "type": "integer"
        }
       ],
       "ref": "36dd5fc4-7357-439d-8f6f-915182592f4c",
       "rows": [
        [
         "163122_2-1967-05.json",
         "21"
        ],
        [
         "163122_2-1967-01.json",
         "17"
        ],
        [
         "163122_2-1968-01.json",
         "16"
        ],
        [
         "163122_2-1966-02.json",
         "16"
        ],
        [
         "163122_2-1967-09.json",
         "14"
        ],
        [
         "163122_1-1965-10.json",
         "14"
        ],
        [
         "163122_2-1967-10.json",
         "13"
        ],
        [
         "163122_1-1965-08.json",
         "13"
        ],
        [
         "163122_1-1965-12.json",
         "13"
        ],
        [
         "163122_1-1964-02.json",
         "13"
        ],
        [
         "163122_2-1966-09.json",
         "13"
        ],
        [
         "163122_2-1967-03.json",
         "11"
        ],
        [
         "163122_2-1966-11.json",
         "9"
        ],
        [
         "163122_1-1964-06.json",
         "7"
        ],
        [
         "163122_2-1966-05.json",
         "7"
        ],
        [
         "163122_2-1966-04.json",
         "6"
        ],
        [
         "163122_1-1964-01.json",
         "4"
        ],
        [
         "163122_1-1964-10.json",
         "2"
        ],
        [
         "163122_1-1964-09.json",
         "2"
        ],
        [
         "163122_1-1965-06.json",
         "1"
        ]
       ],
       "shape": {
        "columns": 1,
        "rows": 20
       }
      },
      "text/plain": [
       "issue\n",
       "163122_2-1967-05.json    21\n",
       "163122_2-1967-01.json    17\n",
       "163122_2-1968-01.json    16\n",
       "163122_2-1966-02.json    16\n",
       "163122_2-1967-09.json    14\n",
       "163122_1-1965-10.json    14\n",
       "163122_2-1967-10.json    13\n",
       "163122_1-1965-08.json    13\n",
       "163122_1-1965-12.json    13\n",
       "163122_1-1964-02.json    13\n",
       "163122_2-1966-09.json    13\n",
       "163122_2-1967-03.json    11\n",
       "163122_2-1966-11.json     9\n",
       "163122_1-1964-06.json     7\n",
       "163122_2-1966-05.json     7\n",
       "163122_2-1966-04.json     6\n",
       "163122_1-1964-01.json     4\n",
       "163122_1-1964-10.json     2\n",
       "163122_1-1964-09.json     2\n",
       "163122_1-1965-06.json     1\n",
       "dtype: int64"
      ]
     },
     "execution_count": 56,
     "metadata": {},
     "output_type": "execute_result"
    }
   ],
   "source": [
    "# Let's look at the unmatched articles in the fulltext\n",
    "# how many unmatched fulltext articles are there for each issue?\n",
    "df_unmatched.groupby(\"issue\").size().sort_values(ascending=False)"
   ]
  },
  {
   "cell_type": "markdown",
   "id": "2d8795d4",
   "metadata": {},
   "source": [
    "163122_2-1967-05.json has 21 unmatched titles. Let's focus on this for a bit."
   ]
  },
  {
   "cell_type": "code",
   "execution_count": 58,
   "id": "e2131713",
   "metadata": {},
   "outputs": [
    {
     "name": "stdout",
     "output_type": "stream",
     "text": [
      "ToC Titles and Authors:\n",
      " 1. éditorial ()\n",
      " 2. présentation (l.r.)\n",
      " 3. fondation du territoire (paul chamberland)\n",
      " 4. production culturelle (luc racine, narcisso pizarro, michel piquette, gilles bourque)\n",
      " 5. l'insurrection 1837-38 (charles gagnon)\n",
      " 6. culture, décolonisation (philippe bernard, gaëtan tremblay)\n",
      " 7. politique culturelle (andrée paul, raoul duguay)\n",
      " 8. le castor rouge (pierre r. desrosiers)\n",
      " 9. les indiens du québec (camil guy)\n",
      "10. chroniques ()\n",
      "11. politique internationale (philippe bernard)\n",
      "12. le québec politique (gaëtan tremblay)\n",
      "13. le québec syndical (gabriel gagnon)\n",
      "14. colonialisme quotidien (p.p.)\n",
      "15. la laïcité (pierre maheu)\n",
      "16. les essais (luc racine)\n",
      "17. littérature québécoise (raoul duguay)\n",
      "18. interprétation de la vie quotidienne (patrick straram)\n",
      "19. marginales ()\n",
      "\n",
      "Fulltext Titles and Authors:\n",
      " 1. éditorial que faire? (le comité de rédaction)\n",
      " 2. présentation dépossession et domination (I. r.)\n",
      " 3. fondation du territoire (paul chamberland)\n",
      " 4. production culturelle et classes sociales au québec (luc racine, michel pichette, narciso pizarro, gilles bourque)\n",
      " 5. les classes sociales au québec et l'insurrection de 1837-38 (charles gagnon)\n",
      " 6. méthode de travail (ch. g.)\n",
      " 7. facteurs culturels et décolonisation (philippe bernard, gaëtan tremblay)\n",
      " 8. production, diffusion et enseignement des arts: pour une politique culturelle (andrée paul, raoul duguay)\n",
      " 9. le castor rouge (pierre r. desrosiers)\n",
      "10. les indiens du québec: désagrégation culturelle et prolétarisation (camil guy)\n",
      "11. chroniques (philippe bernard)\n",
      "12. québécois ou américains? (gaëtan tremblay)\n",
      "13. syndicalisme et nationalisme (gabriel gagnon)\n",
      "14. colonialisme quotidien (p. p.)\n",
      "15. inventer l'homme (notes) (pierre maheu)\n",
      "16. productions romanesques de la bourgeoisie québécoise (luc racine)\n",
      "17. la violence créatrice de varèse ouie par ouellette (raoul duguay)\n",
      "18. 2 plus 2 font 5 (patrick straram)\n",
      "19. merci, o colonisateurs! (g. t.)\n",
      "20. un coup bas (g. t.)\n",
      "21. shampoo rides again (g. t.)\n",
      "22. on vous le fait pas dire (p. s.)\n",
      "23. signe des temps? (p. m.)\n",
      "24. toujours la sérénité (g. t.)\n",
      "25. les cons se suivent et se ressemblent (p. p.)\n",
      "26. johnny walker, le préféré des anglais (g. t.)\n",
      "27. les détentions préventives (g. t.)\n",
      "28. le tunnel à ti-jean (p. p.)\n"
     ]
    }
   ],
   "source": [
    "# Let's print the titles and authors for 163122_2-1967-05.json\n",
    "# from the ToC and the fulltext\n",
    "\n",
    "# Load ToC\n",
    "toc_path = \"../data/toc_transcriptions/toc_163122_2-1967-05.json\"\n",
    "with open(toc_path, \"r\", encoding=\"utf-8\") as f:\n",
    "    toc_data = json.load(f)\n",
    "toc_titles = [entry[\"title\"] if entry[\"title\"] else entry.get(\"section\", \"\") for entry in toc_data[\"toc\"]]\n",
    "toc_authors = [\", \".join(entry.get(\"authors\", [])) for entry in toc_data[\"toc\"]]\n",
    "\n",
    "# Fulltext articles\n",
    "\n",
    "prefix = \"163122_2-1967-05\"\n",
    "transcriptions_dir = \"../data/transcriptions\"\n",
    "part_files = sorted(glob.glob(os.path.join(transcriptions_dir, f\"{prefix}*.json\")))\n",
    "\n",
    "fulltext_articles = []\n",
    "for part_file in part_files:\n",
    "    with open(part_file, \"r\", encoding=\"utf-8\") as f:\n",
    "        fulltext_articles.extend(json.load(f))\n",
    "fulltext_titles = [article[\"title\"] for article in fulltext_articles]\n",
    "fulltext_authors = [article.get(\"author\", \"\") for article in fulltext_articles]\n",
    "\n",
    "# Print side-by-side comparison\n",
    "print(\"ToC Titles and Authors:\")\n",
    "for i, (title, author) in enumerate(zip(toc_titles, toc_authors), 1):\n",
    "    print(f\"{i:2d}. {title} ({author})\")\n",
    "print(\"\\nFulltext Titles and Authors:\")\n",
    "for i, (title, author) in enumerate(zip(fulltext_titles, fulltext_authors), 1):\n",
    "    print(f\"{i:2d}. {title} ({author})\")"
   ]
  },
  {
   "cell_type": "code",
   "execution_count": 59,
   "id": "20766ee8",
   "metadata": {},
   "outputs": [],
   "source": [
    "# Let's see what we have in the unmatched articles for this issue\n",
    "\n",
    "unmatched_articles_1967_05 = df_unmatched[df_unmatched[\"issue\"] == \"163122_2-1967-05.json\"]"
   ]
  },
  {
   "cell_type": "code",
   "execution_count": 60,
   "id": "60a2b528",
   "metadata": {},
   "outputs": [
    {
     "name": "stdout",
     "output_type": "stream",
     "text": [
      "141. éditorial que faire? (le comité de rédaction)\n",
      "142. présentation dépossession et domination (I. r.)\n",
      "143. production culturelle et classes sociales au québec (luc racine, michel pichette, narciso pizarro, gilles bourque)\n",
      "144. les classes sociales au québec et l'insurrection de 1837-38 (charles gagnon)\n",
      "145. méthode de travail (ch. g.)\n",
      "146. facteurs culturels et décolonisation (philippe bernard, gaëtan tremblay)\n",
      "147. production, diffusion et enseignement des arts: pour une politique culturelle (andrée paul, raoul duguay)\n",
      "148. les indiens du québec: désagrégation culturelle et prolétarisation (camil guy)\n",
      "149. québécois ou américains? (gaëtan tremblay)\n",
      "150. syndicalisme et nationalisme (gabriel gagnon)\n",
      "151. inventer l'homme (notes) (pierre maheu)\n",
      "152. merci, o colonisateurs! (g. t.)\n",
      "153. un coup bas (g. t.)\n",
      "154. shampoo rides again (g. t.)\n",
      "155. on vous le fait pas dire (p. s.)\n",
      "156. signe des temps? (p. m.)\n",
      "157. toujours la sérénité (g. t.)\n",
      "158. les cons se suivent et se ressemblent (p. p.)\n",
      "159. johnny walker, le préféré des anglais (g. t.)\n",
      "160. les détentions préventives (g. t.)\n",
      "161. le tunnel à ti-jean (p. p.)\n"
     ]
    }
   ],
   "source": [
    "for i, row in unmatched_articles_1967_05.iterrows():\n",
    "    print(f\"{i+1:2d}. {row['title']} ({row['author']})\")"
   ]
  },
  {
   "cell_type": "markdown",
   "id": "fdcedbc9",
   "metadata": {},
   "source": [
    "A lot our issues seem to be stemming from the fact that ToC is often more concise and lists high-level section and article titles. Full texts extraction splits some articles into subsections. This more fine-grained title matching approach is not serving our goals very well.\n",
    "\n",
    "Let's cast our net a bit wider and get all the ToC titles or section names and search for them in the fulltext articles, not just for exact matches but also for partial or fuzzy matches. This way, we can identify whether each ToC entry is represented anywhere in the fulltext, even if it appears as a subsection or under a slightly different title. This approach helps us catch cases where a single ToC entry corresponds to multiple fulltext articles, or where titles have been paraphrased or split during extraction.\n",
    "\n",
    "> This could be a starting point as well. It just did not occur to me until later because I wanted to do the title matching anyways to get complete author names as the full text author names are sometimes abbreviated."
   ]
  },
  {
   "cell_type": "code",
   "execution_count": 61,
   "id": "b223c31c",
   "metadata": {},
   "outputs": [
    {
     "name": "stdout",
     "output_type": "stream",
     "text": [
      "Number of unmatched ToC entries: 45\n"
     ]
    }
   ],
   "source": [
    "import os\n",
    "import json\n",
    "import glob\n",
    "import pandas as pd\n",
    "from rapidfuzz import process, fuzz\n",
    "import unicodedata\n",
    "import re\n",
    "import string\n",
    "\n",
    "def normalize(text):\n",
    "    text = text or \"\"\n",
    "    text = text.strip().lower()\n",
    "    text = unicodedata.normalize(\"NFKD\", text)\n",
    "    text = re.sub(rf\"[{re.escape(string.punctuation)}]\", \"\", text)  # remove all punctuation\n",
    "    text = re.sub(r\"\\s+\", \" \", text)\n",
    "    text = text.replace(\"–\", \"-\").replace(\"—\", \"-\")\n",
    "    text = text.replace(\"“\", \"\\\"\").replace(\"”\", \"\\\"\").replace(\"’\", \"'\")\n",
    "    return text.strip()\n",
    "\n",
    "skip_files = {\n",
    "    \"163122_1-1964-09-01.json\",\n",
    "    \"163122_1-1964-12-01.json\",\n",
    "    \"163122_2-1966-06.json\"\n",
    "}\n",
    "\n",
    "def fuzzy_match_toc_to_fulltext(toc_title, toc_authors, fulltext_articles, threshold=80):\n",
    "    toc_title_norm = normalize(toc_title)\n",
    "    toc_authors_norm = [normalize(a) for a in toc_authors]\n",
    "    candidates = [(i, normalize(a.get(\"title\", \"\"))) for i, a in enumerate(fulltext_articles)]\n",
    "    if toc_title_norm:\n",
    "        idxs, titles = zip(*candidates)\n",
    "        match, score, rel_idx = process.extractOne(toc_title_norm, titles, scorer=fuzz.token_sort_ratio)\n",
    "        if score >= threshold:\n",
    "            return True\n",
    "    for toc_author in toc_authors_norm:\n",
    "        for article in fulltext_articles:\n",
    "            fauth = normalize(article.get(\"author\", \"\"))\n",
    "            if fauth and fuzz.token_sort_ratio(toc_author, fauth) >= threshold:\n",
    "                return True\n",
    "    return False\n",
    "\n",
    "toc_dir = \"../data/toc_transcriptions\"\n",
    "fulltext_dir = \"../data/transcriptions\"\n",
    "results = []\n",
    "\n",
    "for toc_file in os.listdir(toc_dir):\n",
    "    if not toc_file.endswith(\".json\"):\n",
    "        continue\n",
    "    base_issue = toc_file.replace(\"toc_\", \"\")\n",
    "    if base_issue in skip_files:\n",
    "        continue\n",
    "    prefix = base_issue.replace(\".json\", \"\")\n",
    "    fulltext_files = sorted(glob.glob(os.path.join(fulltext_dir, f\"{prefix}*.json\")))\n",
    "    # Skip any fulltext files in skip_files\n",
    "    fulltext_files = [f for f in fulltext_files if os.path.basename(f) not in skip_files]\n",
    "    if not fulltext_files:\n",
    "        continue\n",
    "    with open(os.path.join(toc_dir, toc_file), \"r\", encoding=\"utf-8\") as f:\n",
    "        toc_data = json.load(f)\n",
    "    fulltext_articles = []\n",
    "    for ft_file in fulltext_files:\n",
    "        with open(ft_file, \"r\", encoding=\"utf-8\") as f:\n",
    "            fulltext_articles.extend(json.load(f))\n",
    "    for entry in toc_data[\"toc\"]:\n",
    "        toc_title = entry.get(\"title\") or entry.get(\"section\") or \"\"\n",
    "        toc_authors = entry.get(\"authors\", [])\n",
    "        if not fuzzy_match_toc_to_fulltext(toc_title, toc_authors, fulltext_articles):\n",
    "            results.append({\n",
    "                \"issue\": base_issue,\n",
    "                \"toc_title\": toc_title,\n",
    "                \"toc_authors\": \", \".join(toc_authors)\n",
    "            })\n",
    "\n",
    "df_missing = pd.DataFrame(results)\n",
    "print(f\"Number of unmatched ToC entries: {len(df_missing)}\")"
   ]
  },
  {
   "cell_type": "code",
   "execution_count": 62,
   "id": "9047c796",
   "metadata": {},
   "outputs": [
    {
     "data": {
      "application/vnd.microsoft.datawrangler.viewer.v0+json": {
       "columns": [
        {
         "name": "index",
         "rawType": "int64",
         "type": "integer"
        },
        {
         "name": "issue",
         "rawType": "object",
         "type": "string"
        },
        {
         "name": "toc_title",
         "rawType": "object",
         "type": "string"
        },
        {
         "name": "toc_authors",
         "rawType": "object",
         "type": "string"
        }
       ],
       "ref": "5a5bc0da-303b-4beb-a486-68df4863342a",
       "rows": [
        [
         "0",
         "163122_2-1967-09.json",
         "Editorial",
         ""
        ],
        [
         "1",
         "163122_2-1966-04.json",
         "éditorial",
         ""
        ],
        [
         "2",
         "163122_2-1967-05.json",
         "éditorial",
         ""
        ],
        [
         "3",
         "163122_2-1967-05.json",
         "présentation",
         "l.r."
        ],
        [
         "4",
         "163122_2-1967-05.json",
         "marginales",
         ""
        ],
        [
         "5",
         "163122_2-1966-05.json",
         "marginales",
         ""
        ],
        [
         "6",
         "163122_2-1968-01.json",
         "éditorial",
         ""
        ],
        [
         "7",
         "163122_2-1966-09.json",
         "le colonialisme quotidien",
         "p.p."
        ],
        [
         "8",
         "163122_2-1966-09.json",
         "marginales",
         ""
        ],
        [
         "9",
         "163122_1-1965-10.json",
         "éditorial",
         ""
        ],
        [
         "10",
         "163122_1-1965-10.json",
         "chroniques",
         ""
        ],
        [
         "11",
         "163122_1-1965-10.json",
         "marginales",
         ""
        ],
        [
         "12",
         "163122_2-1966-02.json",
         "marginales",
         ""
        ],
        [
         "13",
         "163122_2-1967-03.json",
         "marginales",
         ""
        ],
        [
         "14",
         "163122_1-1964-06.json",
         "vulgarités",
         ""
        ],
        [
         "15",
         "163122_2-1966-03.json",
         "marxisme et créditisme",
         "georges kostakeff"
        ],
        [
         "16",
         "163122_2-1967-01.json",
         "colonialisme quotidien",
         "p.p."
        ],
        [
         "17",
         "163122_2-1967-01.json",
         "Marginales",
         ""
        ],
        [
         "18",
         "163122_1-1965-12.json",
         "marginales",
         ""
        ],
        [
         "19",
         "163122_1-1964-09.json",
         "manifeste",
         ""
        ],
        [
         "20",
         "163122_2-1968-04.json",
         "éditorial",
         ""
        ],
        [
         "21",
         "163122_2-1968-04.json",
         "reportage",
         "pierre renaud, robert tremblay"
        ],
        [
         "22",
         "163122_2-1968-04.json",
         "Phrase I de Serge Garant",
         ""
        ],
        [
         "23",
         "163122_2-1968-04.json",
         "critique parallèle II",
         "andré théberge"
        ],
        [
         "24",
         "163122_2-1968-05.json",
         "éditorial",
         ""
        ],
        [
         "25",
         "163122_2-1968-05.json",
         "québec '68: forum-débat",
         ""
        ],
        [
         "26",
         "163122_2-1968-05.json",
         "les étudiants et la question nationale",
         "ronald sabourin"
        ],
        [
         "27",
         "163122_1-1964-12.json",
         "pas une goutte de sang...",
         ""
        ],
        [
         "28",
         "163122_2-1968-02.json",
         "éditorial",
         ""
        ],
        [
         "29",
         "163122_2-1968-02.json",
         "discours de andrée ferreti",
         "andrée ferreti"
        ],
        [
         "30",
         "163122_1-1964-03.json",
         "notes sur l'information",
         ""
        ],
        [
         "31",
         "163122_1-1965-02.json",
         "bilan syndical éditorial",
         ""
        ],
        [
         "32",
         "163122_2-1966-11.json",
         "marginales",
         ""
        ],
        [
         "33",
         "163122_1-1964-02.json",
         "gérald godin",
         ""
        ],
        [
         "34",
         "163122_1-1964-02.json",
         "andré major",
         ""
        ],
        [
         "35",
         "163122_1-1964-02.json",
         "chronique du R.I.N.",
         ""
        ],
        [
         "36",
         "163122_1-1964-02.json",
         "les livres",
         ""
        ],
        [
         "37",
         "163122_1-1964-02.json",
         "ce bordel de pays",
         ""
        ],
        [
         "38",
         "163122_1-1964-02.json",
         "les divertissements",
         ""
        ],
        [
         "39",
         "163122_1-1964-02.json",
         "l'information",
         ""
        ],
        [
         "40",
         "163122_2-1968-03.json",
         "les noirs d'ici",
         ""
        ],
        [
         "41",
         "163122_2-1968-03.json",
         "l'option Lévesque",
         ""
        ],
        [
         "42",
         "163122_2-1968-03.json",
         "manifeste parti pris 1964-1965",
         ""
        ],
        [
         "43",
         "163122_2-1968-03.json",
         "entrevue avec marcel pépin",
         ""
        ],
        [
         "44",
         "163122_2-1968-03.json",
         "la poésie rebelle",
         "raoul duguay"
        ]
       ],
       "shape": {
        "columns": 3,
        "rows": 45
       }
      },
      "text/html": [
       "<div>\n",
       "<style scoped>\n",
       "    .dataframe tbody tr th:only-of-type {\n",
       "        vertical-align: middle;\n",
       "    }\n",
       "\n",
       "    .dataframe tbody tr th {\n",
       "        vertical-align: top;\n",
       "    }\n",
       "\n",
       "    .dataframe thead th {\n",
       "        text-align: right;\n",
       "    }\n",
       "</style>\n",
       "<table border=\"1\" class=\"dataframe\">\n",
       "  <thead>\n",
       "    <tr style=\"text-align: right;\">\n",
       "      <th></th>\n",
       "      <th>issue</th>\n",
       "      <th>toc_title</th>\n",
       "      <th>toc_authors</th>\n",
       "    </tr>\n",
       "  </thead>\n",
       "  <tbody>\n",
       "    <tr>\n",
       "      <th>0</th>\n",
       "      <td>163122_2-1967-09.json</td>\n",
       "      <td>Editorial</td>\n",
       "      <td></td>\n",
       "    </tr>\n",
       "    <tr>\n",
       "      <th>1</th>\n",
       "      <td>163122_2-1966-04.json</td>\n",
       "      <td>éditorial</td>\n",
       "      <td></td>\n",
       "    </tr>\n",
       "    <tr>\n",
       "      <th>2</th>\n",
       "      <td>163122_2-1967-05.json</td>\n",
       "      <td>éditorial</td>\n",
       "      <td></td>\n",
       "    </tr>\n",
       "    <tr>\n",
       "      <th>3</th>\n",
       "      <td>163122_2-1967-05.json</td>\n",
       "      <td>présentation</td>\n",
       "      <td>l.r.</td>\n",
       "    </tr>\n",
       "    <tr>\n",
       "      <th>4</th>\n",
       "      <td>163122_2-1967-05.json</td>\n",
       "      <td>marginales</td>\n",
       "      <td></td>\n",
       "    </tr>\n",
       "    <tr>\n",
       "      <th>5</th>\n",
       "      <td>163122_2-1966-05.json</td>\n",
       "      <td>marginales</td>\n",
       "      <td></td>\n",
       "    </tr>\n",
       "    <tr>\n",
       "      <th>6</th>\n",
       "      <td>163122_2-1968-01.json</td>\n",
       "      <td>éditorial</td>\n",
       "      <td></td>\n",
       "    </tr>\n",
       "    <tr>\n",
       "      <th>7</th>\n",
       "      <td>163122_2-1966-09.json</td>\n",
       "      <td>le colonialisme quotidien</td>\n",
       "      <td>p.p.</td>\n",
       "    </tr>\n",
       "    <tr>\n",
       "      <th>8</th>\n",
       "      <td>163122_2-1966-09.json</td>\n",
       "      <td>marginales</td>\n",
       "      <td></td>\n",
       "    </tr>\n",
       "    <tr>\n",
       "      <th>9</th>\n",
       "      <td>163122_1-1965-10.json</td>\n",
       "      <td>éditorial</td>\n",
       "      <td></td>\n",
       "    </tr>\n",
       "    <tr>\n",
       "      <th>10</th>\n",
       "      <td>163122_1-1965-10.json</td>\n",
       "      <td>chroniques</td>\n",
       "      <td></td>\n",
       "    </tr>\n",
       "    <tr>\n",
       "      <th>11</th>\n",
       "      <td>163122_1-1965-10.json</td>\n",
       "      <td>marginales</td>\n",
       "      <td></td>\n",
       "    </tr>\n",
       "    <tr>\n",
       "      <th>12</th>\n",
       "      <td>163122_2-1966-02.json</td>\n",
       "      <td>marginales</td>\n",
       "      <td></td>\n",
       "    </tr>\n",
       "    <tr>\n",
       "      <th>13</th>\n",
       "      <td>163122_2-1967-03.json</td>\n",
       "      <td>marginales</td>\n",
       "      <td></td>\n",
       "    </tr>\n",
       "    <tr>\n",
       "      <th>14</th>\n",
       "      <td>163122_1-1964-06.json</td>\n",
       "      <td>vulgarités</td>\n",
       "      <td></td>\n",
       "    </tr>\n",
       "    <tr>\n",
       "      <th>15</th>\n",
       "      <td>163122_2-1966-03.json</td>\n",
       "      <td>marxisme et créditisme</td>\n",
       "      <td>georges kostakeff</td>\n",
       "    </tr>\n",
       "    <tr>\n",
       "      <th>16</th>\n",
       "      <td>163122_2-1967-01.json</td>\n",
       "      <td>colonialisme quotidien</td>\n",
       "      <td>p.p.</td>\n",
       "    </tr>\n",
       "    <tr>\n",
       "      <th>17</th>\n",
       "      <td>163122_2-1967-01.json</td>\n",
       "      <td>Marginales</td>\n",
       "      <td></td>\n",
       "    </tr>\n",
       "    <tr>\n",
       "      <th>18</th>\n",
       "      <td>163122_1-1965-12.json</td>\n",
       "      <td>marginales</td>\n",
       "      <td></td>\n",
       "    </tr>\n",
       "    <tr>\n",
       "      <th>19</th>\n",
       "      <td>163122_1-1964-09.json</td>\n",
       "      <td>manifeste</td>\n",
       "      <td></td>\n",
       "    </tr>\n",
       "    <tr>\n",
       "      <th>20</th>\n",
       "      <td>163122_2-1968-04.json</td>\n",
       "      <td>éditorial</td>\n",
       "      <td></td>\n",
       "    </tr>\n",
       "    <tr>\n",
       "      <th>21</th>\n",
       "      <td>163122_2-1968-04.json</td>\n",
       "      <td>reportage</td>\n",
       "      <td>pierre renaud, robert tremblay</td>\n",
       "    </tr>\n",
       "    <tr>\n",
       "      <th>22</th>\n",
       "      <td>163122_2-1968-04.json</td>\n",
       "      <td>Phrase I de Serge Garant</td>\n",
       "      <td></td>\n",
       "    </tr>\n",
       "    <tr>\n",
       "      <th>23</th>\n",
       "      <td>163122_2-1968-04.json</td>\n",
       "      <td>critique parallèle II</td>\n",
       "      <td>andré théberge</td>\n",
       "    </tr>\n",
       "    <tr>\n",
       "      <th>24</th>\n",
       "      <td>163122_2-1968-05.json</td>\n",
       "      <td>éditorial</td>\n",
       "      <td></td>\n",
       "    </tr>\n",
       "    <tr>\n",
       "      <th>25</th>\n",
       "      <td>163122_2-1968-05.json</td>\n",
       "      <td>québec '68: forum-débat</td>\n",
       "      <td></td>\n",
       "    </tr>\n",
       "    <tr>\n",
       "      <th>26</th>\n",
       "      <td>163122_2-1968-05.json</td>\n",
       "      <td>les étudiants et la question nationale</td>\n",
       "      <td>ronald sabourin</td>\n",
       "    </tr>\n",
       "    <tr>\n",
       "      <th>27</th>\n",
       "      <td>163122_1-1964-12.json</td>\n",
       "      <td>pas une goutte de sang...</td>\n",
       "      <td></td>\n",
       "    </tr>\n",
       "    <tr>\n",
       "      <th>28</th>\n",
       "      <td>163122_2-1968-02.json</td>\n",
       "      <td>éditorial</td>\n",
       "      <td></td>\n",
       "    </tr>\n",
       "    <tr>\n",
       "      <th>29</th>\n",
       "      <td>163122_2-1968-02.json</td>\n",
       "      <td>discours de andrée ferreti</td>\n",
       "      <td>andrée ferreti</td>\n",
       "    </tr>\n",
       "    <tr>\n",
       "      <th>30</th>\n",
       "      <td>163122_1-1964-03.json</td>\n",
       "      <td>notes sur l'information</td>\n",
       "      <td></td>\n",
       "    </tr>\n",
       "    <tr>\n",
       "      <th>31</th>\n",
       "      <td>163122_1-1965-02.json</td>\n",
       "      <td>bilan syndical éditorial</td>\n",
       "      <td></td>\n",
       "    </tr>\n",
       "    <tr>\n",
       "      <th>32</th>\n",
       "      <td>163122_2-1966-11.json</td>\n",
       "      <td>marginales</td>\n",
       "      <td></td>\n",
       "    </tr>\n",
       "    <tr>\n",
       "      <th>33</th>\n",
       "      <td>163122_1-1964-02.json</td>\n",
       "      <td>gérald godin</td>\n",
       "      <td></td>\n",
       "    </tr>\n",
       "    <tr>\n",
       "      <th>34</th>\n",
       "      <td>163122_1-1964-02.json</td>\n",
       "      <td>andré major</td>\n",
       "      <td></td>\n",
       "    </tr>\n",
       "    <tr>\n",
       "      <th>35</th>\n",
       "      <td>163122_1-1964-02.json</td>\n",
       "      <td>chronique du R.I.N.</td>\n",
       "      <td></td>\n",
       "    </tr>\n",
       "    <tr>\n",
       "      <th>36</th>\n",
       "      <td>163122_1-1964-02.json</td>\n",
       "      <td>les livres</td>\n",
       "      <td></td>\n",
       "    </tr>\n",
       "    <tr>\n",
       "      <th>37</th>\n",
       "      <td>163122_1-1964-02.json</td>\n",
       "      <td>ce bordel de pays</td>\n",
       "      <td></td>\n",
       "    </tr>\n",
       "    <tr>\n",
       "      <th>38</th>\n",
       "      <td>163122_1-1964-02.json</td>\n",
       "      <td>les divertissements</td>\n",
       "      <td></td>\n",
       "    </tr>\n",
       "    <tr>\n",
       "      <th>39</th>\n",
       "      <td>163122_1-1964-02.json</td>\n",
       "      <td>l'information</td>\n",
       "      <td></td>\n",
       "    </tr>\n",
       "    <tr>\n",
       "      <th>40</th>\n",
       "      <td>163122_2-1968-03.json</td>\n",
       "      <td>les noirs d'ici</td>\n",
       "      <td></td>\n",
       "    </tr>\n",
       "    <tr>\n",
       "      <th>41</th>\n",
       "      <td>163122_2-1968-03.json</td>\n",
       "      <td>l'option Lévesque</td>\n",
       "      <td></td>\n",
       "    </tr>\n",
       "    <tr>\n",
       "      <th>42</th>\n",
       "      <td>163122_2-1968-03.json</td>\n",
       "      <td>manifeste parti pris 1964-1965</td>\n",
       "      <td></td>\n",
       "    </tr>\n",
       "    <tr>\n",
       "      <th>43</th>\n",
       "      <td>163122_2-1968-03.json</td>\n",
       "      <td>entrevue avec marcel pépin</td>\n",
       "      <td></td>\n",
       "    </tr>\n",
       "    <tr>\n",
       "      <th>44</th>\n",
       "      <td>163122_2-1968-03.json</td>\n",
       "      <td>la poésie rebelle</td>\n",
       "      <td>raoul duguay</td>\n",
       "    </tr>\n",
       "  </tbody>\n",
       "</table>\n",
       "</div>"
      ],
      "text/plain": [
       "                    issue                               toc_title  \\\n",
       "0   163122_2-1967-09.json                               Editorial   \n",
       "1   163122_2-1966-04.json                               éditorial   \n",
       "2   163122_2-1967-05.json                               éditorial   \n",
       "3   163122_2-1967-05.json                            présentation   \n",
       "4   163122_2-1967-05.json                              marginales   \n",
       "5   163122_2-1966-05.json                              marginales   \n",
       "6   163122_2-1968-01.json                               éditorial   \n",
       "7   163122_2-1966-09.json               le colonialisme quotidien   \n",
       "8   163122_2-1966-09.json                              marginales   \n",
       "9   163122_1-1965-10.json                               éditorial   \n",
       "10  163122_1-1965-10.json                              chroniques   \n",
       "11  163122_1-1965-10.json                              marginales   \n",
       "12  163122_2-1966-02.json                              marginales   \n",
       "13  163122_2-1967-03.json                              marginales   \n",
       "14  163122_1-1964-06.json                              vulgarités   \n",
       "15  163122_2-1966-03.json                  marxisme et créditisme   \n",
       "16  163122_2-1967-01.json                  colonialisme quotidien   \n",
       "17  163122_2-1967-01.json                              Marginales   \n",
       "18  163122_1-1965-12.json                              marginales   \n",
       "19  163122_1-1964-09.json                               manifeste   \n",
       "20  163122_2-1968-04.json                               éditorial   \n",
       "21  163122_2-1968-04.json                               reportage   \n",
       "22  163122_2-1968-04.json                Phrase I de Serge Garant   \n",
       "23  163122_2-1968-04.json                   critique parallèle II   \n",
       "24  163122_2-1968-05.json                               éditorial   \n",
       "25  163122_2-1968-05.json                 québec '68: forum-débat   \n",
       "26  163122_2-1968-05.json  les étudiants et la question nationale   \n",
       "27  163122_1-1964-12.json               pas une goutte de sang...   \n",
       "28  163122_2-1968-02.json                               éditorial   \n",
       "29  163122_2-1968-02.json              discours de andrée ferreti   \n",
       "30  163122_1-1964-03.json                 notes sur l'information   \n",
       "31  163122_1-1965-02.json                bilan syndical éditorial   \n",
       "32  163122_2-1966-11.json                              marginales   \n",
       "33  163122_1-1964-02.json                            gérald godin   \n",
       "34  163122_1-1964-02.json                             andré major   \n",
       "35  163122_1-1964-02.json                     chronique du R.I.N.   \n",
       "36  163122_1-1964-02.json                              les livres   \n",
       "37  163122_1-1964-02.json                       ce bordel de pays   \n",
       "38  163122_1-1964-02.json                     les divertissements   \n",
       "39  163122_1-1964-02.json                           l'information   \n",
       "40  163122_2-1968-03.json                         les noirs d'ici   \n",
       "41  163122_2-1968-03.json                       l'option Lévesque   \n",
       "42  163122_2-1968-03.json          manifeste parti pris 1964-1965   \n",
       "43  163122_2-1968-03.json              entrevue avec marcel pépin   \n",
       "44  163122_2-1968-03.json                       la poésie rebelle   \n",
       "\n",
       "                       toc_authors  \n",
       "0                                   \n",
       "1                                   \n",
       "2                                   \n",
       "3                             l.r.  \n",
       "4                                   \n",
       "5                                   \n",
       "6                                   \n",
       "7                             p.p.  \n",
       "8                                   \n",
       "9                                   \n",
       "10                                  \n",
       "11                                  \n",
       "12                                  \n",
       "13                                  \n",
       "14                                  \n",
       "15               georges kostakeff  \n",
       "16                            p.p.  \n",
       "17                                  \n",
       "18                                  \n",
       "19                                  \n",
       "20                                  \n",
       "21  pierre renaud, robert tremblay  \n",
       "22                                  \n",
       "23                  andré théberge  \n",
       "24                                  \n",
       "25                                  \n",
       "26                 ronald sabourin  \n",
       "27                                  \n",
       "28                                  \n",
       "29                  andrée ferreti  \n",
       "30                                  \n",
       "31                                  \n",
       "32                                  \n",
       "33                                  \n",
       "34                                  \n",
       "35                                  \n",
       "36                                  \n",
       "37                                  \n",
       "38                                  \n",
       "39                                  \n",
       "40                                  \n",
       "41                                  \n",
       "42                                  \n",
       "43                                  \n",
       "44                    raoul duguay  "
      ]
     },
     "execution_count": 62,
     "metadata": {},
     "output_type": "execute_result"
    }
   ],
   "source": [
    "df_missing"
   ]
  },
  {
   "cell_type": "code",
   "execution_count": 64,
   "id": "9772d60c",
   "metadata": {},
   "outputs": [
    {
     "data": {
      "application/vnd.microsoft.datawrangler.viewer.v0+json": {
       "columns": [
        {
         "name": "issue",
         "rawType": "object",
         "type": "string"
        },
        {
         "name": "0",
         "rawType": "int64",
         "type": "integer"
        }
       ],
       "ref": "162aa248-7e29-40d0-9797-a84e88fa40cf",
       "rows": [
        [
         "163122_1-1964-02.json",
         "7"
        ],
        [
         "163122_2-1968-03.json",
         "5"
        ],
        [
         "163122_2-1968-04.json",
         "4"
        ],
        [
         "163122_1-1965-10.json",
         "3"
        ],
        [
         "163122_2-1967-05.json",
         "3"
        ],
        [
         "163122_2-1968-05.json",
         "3"
        ],
        [
         "163122_2-1967-01.json",
         "2"
        ],
        [
         "163122_2-1968-02.json",
         "2"
        ],
        [
         "163122_2-1966-09.json",
         "2"
        ],
        [
         "163122_2-1967-03.json",
         "1"
        ],
        [
         "163122_1-1964-06.json",
         "1"
        ],
        [
         "163122_1-1964-09.json",
         "1"
        ],
        [
         "163122_2-1968-01.json",
         "1"
        ],
        [
         "163122_2-1967-09.json",
         "1"
        ],
        [
         "163122_1-1964-12.json",
         "1"
        ],
        [
         "163122_1-1965-02.json",
         "1"
        ],
        [
         "163122_1-1965-12.json",
         "1"
        ],
        [
         "163122_2-1966-11.json",
         "1"
        ],
        [
         "163122_1-1964-03.json",
         "1"
        ],
        [
         "163122_2-1966-04.json",
         "1"
        ],
        [
         "163122_2-1966-03.json",
         "1"
        ],
        [
         "163122_2-1966-02.json",
         "1"
        ],
        [
         "163122_2-1966-05.json",
         "1"
        ]
       ],
       "shape": {
        "columns": 1,
        "rows": 23
       }
      },
      "text/plain": [
       "issue\n",
       "163122_1-1964-02.json    7\n",
       "163122_2-1968-03.json    5\n",
       "163122_2-1968-04.json    4\n",
       "163122_1-1965-10.json    3\n",
       "163122_2-1967-05.json    3\n",
       "163122_2-1968-05.json    3\n",
       "163122_2-1967-01.json    2\n",
       "163122_2-1968-02.json    2\n",
       "163122_2-1966-09.json    2\n",
       "163122_2-1967-03.json    1\n",
       "163122_1-1964-06.json    1\n",
       "163122_1-1964-09.json    1\n",
       "163122_2-1968-01.json    1\n",
       "163122_2-1967-09.json    1\n",
       "163122_1-1964-12.json    1\n",
       "163122_1-1965-02.json    1\n",
       "163122_1-1965-12.json    1\n",
       "163122_2-1966-11.json    1\n",
       "163122_1-1964-03.json    1\n",
       "163122_2-1966-04.json    1\n",
       "163122_2-1966-03.json    1\n",
       "163122_2-1966-02.json    1\n",
       "163122_2-1966-05.json    1\n",
       "dtype: int64"
      ]
     },
     "execution_count": 64,
     "metadata": {},
     "output_type": "execute_result"
    }
   ],
   "source": [
    "# Let's look at the unmatched articles in the fulltext\n",
    "# how many unmatched fulltext articles are there for each issue?\n",
    "df_missing.groupby(\"issue\").size().sort_values(ascending=False)"
   ]
  },
  {
   "cell_type": "code",
   "execution_count": 65,
   "id": "2e632d7a",
   "metadata": {},
   "outputs": [
    {
     "name": "stdout",
     "output_type": "stream",
     "text": [
      "34. gérald godin ()\n",
      "35. andré major ()\n",
      "36. chronique du R.I.N. ()\n",
      "37. les livres ()\n",
      "38. ce bordel de pays ()\n",
      "39. les divertissements ()\n",
      "40. l'information ()\n"
     ]
    }
   ],
   "source": [
    "# What are the titles and authors in 163122_1-1964-02.json, issue with most missing articles?\n",
    "\n",
    "unmatched_articles_1964_02 = df_missing[df_missing[\"issue\"] == \"163122_1-1964-02.json\"]\n",
    "for i, row in unmatched_articles_1964_02.iterrows():\n",
    "    print(f\"{i+1:2d}. {row['toc_title']} ({row['toc_authors']})\")"
   ]
  },
  {
   "cell_type": "code",
   "execution_count": 67,
   "id": "90a50ca8",
   "metadata": {},
   "outputs": [
    {
     "name": "stdout",
     "output_type": "stream",
     "text": [
      "ToC Titles and Authors:\n",
      " 1. éditorial ()\n",
      " 2. les contradictions de la révolution tranquille (paul chamberland)\n",
      " 3. le corps mystique (hubert aquin)\n",
      " 4. gérald godin ()\n",
      " 5. andré major ()\n",
      " 6. chronique d'une révolution ()\n",
      " 7. chronique du R.I.N. ()\n",
      " 8. chronique de l'éducation ()\n",
      " 9. les livres ()\n",
      "10. ce bordel de pays ()\n",
      "11. les divertissements ()\n",
      "12. l'information ()\n",
      "13. crypto-vulgarités ()\n",
      "\n",
      "Fulltext Titles and Authors:\n",
      " 1. éditorial (PARTI PRIS)\n",
      " 2. les contradictions de la révolution tranquille (paul chamberland)\n",
      " 3. le corps mystique (hubert aquin)\n",
      " 4. nouvelles - alberts (1), ou la vengeance (gérald godin)\n",
      " 5. nouvelles - comme une petite boue humaine (andré major)\n",
      " 6. chronique d'une révolution 1 - une commission de propagande (andré major)\n",
      " 7. chronique d'une révolution 2 - que faire? (pierre maheu)\n",
      " 8. chronique d'une révolution 3 - les colons et le fric (gérald godin)\n",
      " 9. chronique du RIN - le programme du RIN (robert maheu)\n",
      "10. chronique de l'éducation 1 (camille limoges)\n",
      "11. chronique de l'éducation 2 - le chameau et l'oasis (laurent girouard)\n",
      "12. les livres 1 - poésie-poetry '64 (andré major)\n",
      "13. les livres 2 - les essais de pierre vadeboncoeur (jean-marc piotte)\n",
      "14. ce bordel de pays 3 - de la contrebande à la liberté (jacques ferron)\n",
      "15. les divertissements 1 - quand le père claus cherche à nous passer un sapin... (jacques allard)\n",
      "16. les divertissements 2 - bergman l'ingrat (denys arcand)\n",
      "17. les divertissements 3 - jazz dans la vie quotidienne (patrick straram)\n",
      "18. l'information - pour une information globale (jacques godbout)\n",
      "19. crypto-vulgarités (PARTI PRIS)\n"
     ]
    }
   ],
   "source": [
    "# Let's get the titles and authors from the fulltext for this issue\n",
    "fulltext_path = \"../data/transcriptions/163122_1-1964-02.json\"\n",
    "with open(fulltext_path, \"r\", encoding=\"utf-8\") as f:\n",
    "    fulltext_articles = json.load(f)   \n",
    "\n",
    "fulltext_titles = [article[\"title\"] for article in fulltext_articles]\n",
    "fulltext_authors = [article.get(\"author\", \"\") for article in fulltext_articles] \n",
    "\n",
    "# let's read the titles and authors from the ToC for this issue\n",
    "toc_path = \"../data/toc_transcriptions/toc_163122_1-1964-02.json\"\n",
    "with open(toc_path, \"r\", encoding=\"utf-8\") as f:\n",
    "    toc_data = json.load(f)\n",
    "toc_titles = [entry[\"title\"] if entry[\"title\"] else entry.get(\"section\", \"\") for entry in toc_data[\"toc\"]]\n",
    "toc_authors = [\", \".join(entry.get(\"authors\", [])) for entry in toc_data[\"toc\"]]\n",
    "# Print side-by-side comparison\n",
    "print(\"ToC Titles and Authors:\")\n",
    "for i, (title, author) in enumerate(zip(toc_titles, toc_authors), 1):\n",
    "    print(f\"{i:2d}. {title} ({author})\")\n",
    "print(\"\\nFulltext Titles and Authors:\")\n",
    "for i, (title, author) in enumerate(zip(fulltext_titles, fulltext_authors), 1):\n",
    "    print(f\"{i:2d}. {title} ({author})\")"
   ]
  },
  {
   "cell_type": "markdown",
   "id": "4eb722ff",
   "metadata": {},
   "source": [
    "Oh well, the problem is not so much the OCR but original ToC. It is missing the author names in the 'chroniques' section.\n",
    "\n",
    "![img](../img/toc_1964_02.png)\n",
    "\n",
    "This is an outlier issue as the other issues have more complete ToCs."
   ]
  },
  {
   "cell_type": "code",
   "execution_count": 70,
   "id": "10af21e4",
   "metadata": {},
   "outputs": [
    {
     "name": "stdout",
     "output_type": "stream",
     "text": [
      "Number of unmatched ToC entries with 'éditorial' or 'marginales': 17\n",
      "Percentage of unmatched ToC entries with 'éditorial' or 'marginales': 37.78%\n"
     ]
    }
   ],
   "source": [
    "# let's count all the df_missing entries that contain the word \"editorial\" or \"marginales\"\n",
    "editorial_count = df_missing[df_missing[\"toc_title\"].str.contains(\"éditorial\", case=False, na=False) | \n",
    "                             df_missing[\"toc_title\"].str.contains(\"marginales\", case=False, na=False)].shape[0]\n",
    "print(f\"Number of unmatched ToC entries with 'éditorial' or 'marginales': {editorial_count}\")\n",
    "\n",
    "# what is the percentage of unmatched ToC entries that contain \"éditorial\" or \"marginales\"?\n",
    "total_missing = df_missing.shape[0]\n",
    "percentage_editorial = (editorial_count / total_missing) * 100 if total_missing > 0 else 0\n",
    "print(f\"Percentage of unmatched ToC entries with 'éditorial' or 'marginales': {percentage_editorial:.2f}%\")\n"
   ]
  },
  {
   "cell_type": "markdown",
   "id": "1bf33163",
   "metadata": {},
   "source": [
    "And finally, there are issue that stem from divergences in the text corpus itself."
   ]
  },
  {
   "cell_type": "code",
   "execution_count": 71,
   "id": "67bdc31d",
   "metadata": {},
   "outputs": [
    {
     "name": "stdout",
     "output_type": "stream",
     "text": [
      "                    issue               toc_title        toc_authors\n",
      "15  163122_2-1966-03.json  marxisme et créditisme  georges kostakeff\n"
     ]
    }
   ],
   "source": [
    "print(df_missing[df_missing['toc_authors'] == \"georges kostakeff\"])"
   ]
  },
  {
   "cell_type": "markdown",
   "id": "2542a4c2",
   "metadata": {},
   "source": [
    "In this instance, the article by Kostakeff in March 1966 issue is different in the ToC and in the actual article itself, which is causing the mismatch in our code.\n",
    "\n",
    "\n",
    "<div style=\"display: flex; gap: 20px;\">\n",
    "  <img src=\"../img/marxisme_article_issue.png\" alt=\"article\" width=\"45%\">\n",
    "  <img src=\"../img/marxisme_article_toc_issue.png\" alt=\"ToC\" width=\"45%\">\n",
    "</div>"
   ]
  },
  {
   "cell_type": "markdown",
   "id": "ebd5c9ea",
   "metadata": {},
   "source": [
    "## Conclusion"
   ]
  },
  {
   "cell_type": "markdown",
   "id": "68615356",
   "metadata": {},
   "source": [
    "Through a combination of automated matching, fuzzy comparison, and targeted manual review, we have systematically verified the completeness of the Parti Pris corpus text extraction. By comparing the extracted articles with the original tables of contents, investigating outliers, and examining unmatched entries, we have accounted for discrepancies arising from editorial conventions, OCR limitations, and occasional divergences between the ToC and the actual content. The remaining unmatched entries are largely attributable to structural or labeling differences rather than missing data. Based on this thorough process, we are confident that the corpus contains all the articles present in the original issues, and the dataset is ready for further analysis."
   ]
  },
  {
   "cell_type": "markdown",
   "id": "38955337",
   "metadata": {},
   "source": [
    "### Reusability and Broader Applications\n",
    "\n",
    "The workflow and code developed here are not limited to the Parti Pris corpus. This approach—combining structured OCR extraction, schema-based prompting, and systematic quality control—can be adapted to other digitized periodicals, archival collections, or multi-article documents. By customizing the JSON schema and matching logic, researchers can efficiently extract, structure, and validate content from a wide range of historical or contemporary sources. The methods for comparing extracted content with tables of contents, identifying outliers, and handling edge cases are broadly applicable for ensuring data completeness and reliability in digital humanities, library science, and archival projects."
   ]
  },
  {
   "cell_type": "markdown",
   "id": "d492a2b9",
   "metadata": {},
   "source": [
    "### Limitations\n",
    "\n",
    "While this workflow is robust and adaptable, some steps—such as manual PDF splitting and review of outliers—require human intervention and may limit scalability for very large collections. The approach also depends on the accuracy and consistency of the underlying LLM-based OCR, which can introduce subtle errors or hallucinations, especially with complex layouts and lower-resourced languages, especially those using non-Latin scripts. Adapting the code to other periodicals may require adjustments to the schema and matching logic to account for different editorial conventions.\n"
   ]
  }
 ],
 "metadata": {
  "kernelspec": {
   "display_name": "cesta",
   "language": "python",
   "name": "cesta"
  },
  "language_info": {
   "codemirror_mode": {
    "name": "ipython",
    "version": 3
   },
   "file_extension": ".py",
   "mimetype": "text/x-python",
   "name": "python",
   "nbconvert_exporter": "python",
   "pygments_lexer": "ipython3",
   "version": "3.12.2"
  }
 },
 "nbformat": 4,
 "nbformat_minor": 5
}
