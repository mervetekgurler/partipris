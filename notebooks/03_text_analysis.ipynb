{
 "cells": [
  {
   "cell_type": "markdown",
   "id": "e0cb23ea",
   "metadata": {},
   "source": [
    "# Text Analysis"
   ]
  },
  {
   "cell_type": "markdown",
   "id": "679b4e54",
   "metadata": {},
   "source": [
    "The third notebook in the Parti Pris repository contains code for exploratory text analysis."
   ]
  },
  {
   "cell_type": "markdown",
   "id": "9a79d453",
   "metadata": {},
   "source": [
    "Parti Pris is a unique archive for trancing the evolution of the discourses of blackness in the 1960s in Quebec. One of the important figures in this intersection is [Pierre Vallières](https://en.wikipedia.org/wiki/Pierre_Valli%C3%A8res). His *N_gres blancs d'Amérique* translated as *White N-Words of America* published in 1968, came out of the same circles as Parti Pris. His ideas on race and the struggles of French-Canadians are echoed in the pages of Parti Pris. This led us to investigate how some terms associated with this particular discourse appear in the Parti Pris corpus.\n",
    "\n",
    "Chloé Brault's typographical approach prioritizes not reproducing the n-word despite it appearing in Vallières' title and in the Parti Pris corpus. In French, she transcribes the n-word as n_gre. We followed the same logic in our keyword search and use regular expressions. We write the n-word in all its inflected forms as `n\\w{1}gre`. Here the regular expression searches for a word that starts with n followed by one letter and then gre. It serves the same function as searching for the word itself. Throughout this notebook you will see this notation in our code. We will do our best to ensure that the outputs of our text analysis, which use the actual texts from the Parti Pris, also do not display the n-word. This might not always be possible, so we appreciate your patience. "
   ]
  },
  {
   "cell_type": "markdown",
   "id": "71211ed2",
   "metadata": {},
   "source": [
    "1. keyword search and frequencies over time\n",
    "   1. unigram: n\\w{1}gre,  n\\w{1}gres\n",
    "   2. bigram: roi n\\w{1}gre, rois n\\w{1}gres, n\\w{1}gre blanc, n\\w{1}gres blancs"
   ]
  }
 ],
 "metadata": {
  "language_info": {
   "name": "python"
  }
 },
 "nbformat": 4,
 "nbformat_minor": 5
}
