{
 "cells": [
  {
   "cell_type": "markdown",
   "id": "8509830b",
   "metadata": {},
   "source": [
    "# Text Extraction"
   ]
  },
  {
   "cell_type": "markdown",
   "id": "b42d5a85",
   "metadata": {},
   "source": [
    "## Introduction"
   ]
  },
  {
   "cell_type": "markdown",
   "id": "90b441ce",
   "metadata": {},
   "source": [
    "The following notebook details Merve Tekgürler's approach to text extraction from the Parti Pris corpus from Summer 2025.\n",
    "\n",
    "<figure>\n",
    "    <img src=\"../img/parti_pris_cover.png\"\n",
    "         alt=\"Cover of Parti Pris's October 1963 issue\">\n",
    "    <figcaption>Cover of <a href=\"https://collections.banq.qc.ca/ark:/52327/2314782\" target=\"_blank\">Parti Pris' inaugural issue</a> from October 1963.</figcaption>\n",
    "</figure>"
   ]
  },
  {
   "cell_type": "markdown",
   "id": "1093d87f",
   "metadata": {},
   "source": [
    "In 2023-2024, Chloé Brault, Clare Chua, and Em Ho compiled the Parti Pris corpus and extracted texts from the same PDFs using ABBYY FineReader. More details about their work can be found [here](https://msuglobaldh.org/abstracts/#brault).\n",
    "\n",
    "Tekgürler and Brault revisited the project in Summer 2025. This notebook describes how we used Gemini 2.5 API to extract texts from the Parti Pris corpus. It shared the prompting code and offers some insights into the decisions that went into the designing of the prompts as well as safeguards to verify the quality of the OCR output. We "
   ]
  },
  {
   "cell_type": "markdown",
   "id": "c65d58b3",
   "metadata": {},
   "source": [
    "## Corpus"
   ]
  },
  {
   "cell_type": "markdown",
   "id": "a3eea980",
   "metadata": {},
   "source": [
    "The complete Parti Pris PDF corpus is approximately 3.48GB in size and includes all 42 issues from the magazine’s entire print run, digitized by the Bibliothèque et Archives Nationales du Québec (BAnQ).\n",
    "\n",
    "<figure>\n",
    "    <img src=\"../img/banq.png\"\n",
    "         alt=\"Screenshot showing the search page for Parti Pris on the BAnQ website\">\n",
    "    <figcaption>Searching for Parti Pris on the BAnQ website. You can find all the issues of Parti Pris and download the PDFs by following <a href=\"https://numerique.banq.qc.ca/rechercheExterne/encoded/Kg==/false/D/asc/W3sibm9tIjoiY29ycHVzIiwidmFsZXVyIjoiUGF0cmltb2luZSUyMHF1w6liw6ljb2lzIn0seyJub20iOiJ0eXBlX2RvY19mIiwidmFsZXVyIjoiUmV2dWVzJTIwZXQlMjBqb3VybmF1eCJ9LHsibm9tIjoibnVtZXJvX25vdGljZSIsInZhbGV1ciI6IjAwMDAxNjMxMjIifV0=/Toutes%20les%20ressources/true/false/\" target=\"_blank\">this search link</a>. </figcaption>\n",
    "</figure>\n",
    "\n",
    "There are three example PDFs in the data folder of this repository (../data/full_pdfs and ../data/split_pdfs), for testing the code in this notebook."
   ]
  },
  {
   "cell_type": "markdown",
   "id": "b584e539",
   "metadata": {},
   "source": [
    "## Prompting Approach"
   ]
  },
  {
   "cell_type": "markdown",
   "id": "a2d26c84",
   "metadata": {},
   "source": [
    "The previous iteration of this project experimented with OCR'ing entire issues of Parti Pris and then spliting it into small chunks of text for further analysis. This allowed us, for example, to experiment with Named Entity Recognition algorithms to identify places mentioned in this corpus or run word frequency-based analyses to discover trends across the whole corpus. It has however proven to be rather difficult to split the OCR'ed issues into individual articles.\n",
    "\n",
    "In this new iteration of the project, we revisit our approach to OCR. We use the Gemini 2.5 API to extract text and return a JSON object containing each article as a separate entry."
   ]
  },
  {
   "cell_type": "markdown",
   "id": "d98c5fab",
   "metadata": {},
   "source": [
    "### Gemini API Key\n",
    "\n",
    "To prompt Gemini for text extraction, you need to obtain an API key. [This Authentication notebook](https://github.com/google-gemini/cookbook/blob/db5e894d85ccef13cb95d65353407f4ffbcd297c/quickstarts/Authentication.ipynb) shows you how to obtain an API key. If you are new to Gemini or generally accessing LLMs through API calls, [this Getting Started notabook](https://github.com/google-gemini/cookbook/blob/main/quickstarts/Get_started.ipynb) is a great place to start experimenting.\n",
    "\n",
    "Once you have an API key, create a `.env` file in the root of your repository and add it to `.gitignore`. After pushing the changes to GitHub, spen your `.env` file and type `GEMINI_API_KEY=\"YOUR_API_KEY\"`, where \"YOUR_API_KEY\" corresponds to the actual key."
   ]
  },
  {
   "cell_type": "code",
   "execution_count": 57,
   "id": "4d7836ad",
   "metadata": {},
   "outputs": [
    {
     "name": "stdout",
     "output_type": "stream",
     "text": [
      "API key loaded successfully.\n"
     ]
    }
   ],
   "source": [
    "# Let's load our API key from the environment\n",
    "# we will use the python-dotenv package to load the .env file \n",
    "# https://pypi.org/project/python-dotenv/\n",
    "\n",
    "import os\n",
    "from dotenv import load_dotenv\n",
    "\n",
    "load_dotenv() # By default load_dotenv will look for the .env file in the current working directory\n",
    "\n",
    "api_key = os.getenv(\"GEMINI_API_KEY\")\n",
    "\n",
    "if api_key:\n",
    "    print(\"API key loaded successfully.\")"
   ]
  },
  {
   "cell_type": "markdown",
   "id": "517adf78",
   "metadata": {},
   "source": [
    "### Configure Gemini API"
   ]
  },
  {
   "cell_type": "code",
   "execution_count": null,
   "id": "aadddec2",
   "metadata": {},
   "outputs": [],
   "source": [
    "%pip install -U -q 'google-genai>=1.0.0'\n",
    "%pip install pypdf\n",
    "%pip install pillow"
   ]
  },
  {
   "cell_type": "code",
   "execution_count": 61,
   "id": "c046828e",
   "metadata": {},
   "outputs": [],
   "source": [
    "from google import genai\n",
    "from google.genai import types\n",
    "\n",
    "client = genai.Client(api_key=api_key)"
   ]
  },
  {
   "cell_type": "code",
   "execution_count": 62,
   "id": "5c9c2167",
   "metadata": {},
   "outputs": [],
   "source": [
    "# Initialize Gemini 2.5 Flash\n",
    "MODEL_ID = 'gemini-2.5-flash'"
   ]
  },
  {
   "cell_type": "code",
   "execution_count": 66,
   "id": "195cbd4a",
   "metadata": {},
   "outputs": [
    {
     "data": {
      "text/markdown": [
       "The largest planet in our solar system is **Jupiter**."
      ],
      "text/plain": [
       "<IPython.core.display.Markdown object>"
      ]
     },
     "execution_count": 66,
     "metadata": {},
     "output_type": "execute_result"
    }
   ],
   "source": [
    "# small test to make sure that the model is working\n",
    "\n",
    "from IPython.display import Markdown\n",
    "\n",
    "response = client.models.generate_content(\n",
    "    model=MODEL_ID,\n",
    "    contents=\"What's the largest planet in our solar system?\"\n",
    ")\n",
    "\n",
    "Markdown(response.text)"
   ]
  },
  {
   "cell_type": "markdown",
   "id": "4a39fecf",
   "metadata": {},
   "source": [
    "### Designing the Prompt for Text Extraction"
   ]
  },
  {
   "cell_type": "markdown",
   "id": "93bb581b",
   "metadata": {},
   "source": [
    "The goal of our project is to get high quality and accurate OCR output for each issue of Parti Pris, split by article. We also have some constraints: \n",
    "\n",
    "- We are working with PDFs, so we need to upload files with our prompt.\n",
    "- We want structured output, so JSON generation is our best option.\n",
    "- We want to control the generation, so we need to understand how the criteria for text extraction that we outline in our prompt impacts the output.\n",
    "- We need to figure out how the thinking aspect of Gemini 2.5 changes impacts prompting\n",
    "\n",
    "For further refences, please take a look at Gemini code examples and documentation.\n",
    "- Document Understanding and Processing: [documentation](https://ai.google.dev/gemini-api/docs/document-processing), [code](https://colab.research.google.com/github/GoogleCloudPlatform/generative-ai/blob/main/gemini/use-cases/document-processing/document_processing.ipynb#scrollTo=Nqwi-5ufWp_B)\n",
    "- Structured Output and JSON: [documentation](https://ai.google.dev/gemini-api/docs/structured-output), [code](https://colab.research.google.com/github/google-gemini/cookbook/blob/main/quickstarts/JSON_mode.ipynb#scrollTo=JiIxKaLl4R0f)\n",
    "- Thinking: [documentation](https://ai.google.dev/gemini-api/docs/thinking)"
   ]
  },
  {
   "cell_type": "code",
   "execution_count": 67,
   "id": "722339bd",
   "metadata": {},
   "outputs": [
    {
     "data": {
      "text/markdown": [
       "This document is the first issue of *Parti Pris*, a political and literary review published in Montreal in October 1963.\n",
       "\n",
       "Here's a summary of its key contents and philosophy:\n",
       "\n",
       "*   **Overall Mission & Stance:**\n",
       "    *   *Parti Pris* aims to be a \"political and literary review\" that \"takes a stance\" (*prendre parti*) rather than adopting a detached \"objectivity.\"\n",
       "    *   It seeks to \"demystify\" and \"create a truth\" that transforms Quebec society, viewing analysis and reflection as integral parts of action.\n",
       "    *   The ultimate goal is to achieve a \"free, secular, and socialist State\" through a \"total revolution.\"\n",
       "\n",
       "*   **Analysis of Quebec's Situation (\"Notre Perspective\"):**\n",
       "    *   **Alienation:** Quebec is described as a \"colonized and exploited\" society, suffering from alienation at political, economic, and cultural levels due to external domination (Canadian/American) and internal structures.\n",
       "    *   **Critique of Previous Generation:** The magazine criticizes older intellectuals (e.g., *Cité Libre*) for their \"abstract dialogue\" and \"objectivity,\" which failed to address the root causes of alienation and avoided radical change.\n",
       "    *   **Youth as Revolutionary Force:** The current generation is presented as having moved beyond individual \"revolt\" (like the \"Refus Global\" movement) to a collective \"revolutionary attitude,\" understanding societal alienation as a colonial problem.\n",
       "    *   **The FLQ (Front de libération du Québec):** The arrests of FLQ members are presented as a manifestation of this new, impatient youth, whose violence is seen as a \"therapeutic effect\" necessary to shake the long-stagnant society and reveal its inherent violence.\n",
       "\n",
       "*   **Historical & Sociological Context (\"Du Duplessisme au F.L.Q.\"):**\n",
       "    *   **Legacy of Conquest:** The 1760 conquest led to French Canadians being restricted to religious and cultural spheres, while political and economic control remained with others.\n",
       "    *   **\"Feudal Spirit\" & \"Agriculturism\":** The clerical and traditional elite perpetuated a \"feudal spirit\" and an \"agriculturist\" ideology, which, by devaluing industrialization and finance, effectively left the economic field open to foreign capitalists.\n",
       "    *   **Industrialization & Mass Culture:** Despite the elite's efforts, industrialization and urbanization brought American mass culture, leading to the \"assimilation\" of Quebecers and exacerbating their economic inferiority and unemployment.\n",
       "    *   **Political Evolution (1960-1963):** The Liberal victory in 1960 and the nationalization of electricity are seen as positive steps, but the fundamental struggle against Canadian Confederation and foreign economic control continues.\n",
       "\n",
       "*   **Vision for \"Total Revolution\" (\"Vers une révolution totale\"):**\n",
       "    *   **Comprehensive Change:** A \"total revolution\" is defined as a radical transformation of the entire life of the people (economy, social structures, politics, culture), going beyond mere political shifts.\n",
       "    *   **Two Fundamental Contradictions:**\n",
       "        1.  Canado-American imperialism.\n",
       "        2.  Private appropriation of national wealth and exploitation of wage labor.\n",
       "    *   **Solutions:**\n",
       "        *   **Political Independence:** Essential for Quebec (ideally a \"French Republic in America\") to gain control over its destiny.\n",
       "        *   **Economic Socialism:** Nationalization of all significant foreign-controlled enterprises is deemed necessary for genuine economic liberation, a step impossible under capitalism or within the existing Confederation.\n",
       "        *   **New Democracy:** Emphasizes \"people's power\" through the conscious participation of the working masses and a \"National Unity Government\" (Front National et Populaire), moving beyond traditional parliamentary democracy.\n",
       "    *   **Interconnectedness:** Socialism, popular democracy, and independence are presented as an inseparable trinity.\n",
       "\n",
       "*   **Cultural & Critical Sections (\"Poèmes\" & \"Chroniques\"):**\n",
       "    *   **Poetry:** Features poems by Paul Chamberland and André Brochu (and André Major) that reflect themes of identity, land, anger, hope, and the struggle for liberation.\n",
       "    *   **Critique of Information:** The magazine's \"Chroniques\" section critiques mainstream media for its \"mystification\" and biased portrayal of the FLQ and separatist movements.\n",
       "    *   **RIN & FLQ:** Discusses the RIN's (Rassemblement pour l'indépendance nationale) evolution and its eventual acceptance of the FLQ's violent actions as a necessary catalyst for the revolution.\n",
       "    *   **Cultural Criticism:** Argues that cultural production is directly linked to political and economic realities, and therefore cultural criticism must be revolutionary.\n",
       "    *   **Abrasive Tone:** The \"Vulgarités\" section explicitly states its intention to be \"vulgar and vengeful\" to express animosities and challenges, showcasing the magazine's confrontational style.\n",
       "\n",
       "The issue lays out a foundational ideology for Quebec's independence movement, intertwining political, economic, and cultural liberation, and positioning *Parti Pris* as a key intellectual driver of this \"total revolution.\""
      ],
      "text/plain": [
       "<IPython.core.display.Markdown object>"
      ]
     },
     "execution_count": 67,
     "metadata": {},
     "output_type": "execute_result"
    }
   ],
   "source": [
    "# 1. Let's upload a PDF file and ask the model to summarize it\n",
    "# This way we can test the model's ability to handle file uploads\n",
    "\n",
    "import pathlib\n",
    "\n",
    "pdf_path = pathlib.Path('../data/full_pdfs/163122_1-1963-10.pdf')\n",
    "\n",
    "file_upload = client.files.upload(file=pdf_path)\n",
    "\n",
    "response = client.models.generate_content(\n",
    "    model=MODEL_ID,\n",
    "    contents=[\n",
    "        file_upload,\n",
    "        \"Can you summarize this file as a bulleted list?\",\n",
    "    ]\n",
    ")\n",
    "\n",
    "Markdown(response.text)"
   ]
  },
  {
   "cell_type": "code",
   "execution_count": null,
   "id": "3ed41f5e",
   "metadata": {},
   "outputs": [],
   "source": [
    "print(response)"
   ]
  },
  {
   "cell_type": "markdown",
   "id": "7cfc948f",
   "metadata": {},
   "source": [
    "```python\n",
    "sdk_http_response=HttpResponse(\n",
    "  headers=<dict len=11>\n",
    ") candidates=[Candidate(\n",
    "  content=Content(\n",
    "    parts=[\n",
    "      Part(\n",
    "        text='[not shown here due to space]'\n",
    "      ),\n",
    "    ],\n",
    "    role='model'\n",
    "  ),\n",
    "  finish_reason=<FinishReason.STOP: 'STOP'>,\n",
    "  index=0\n",
    ")] create_time=None response_id=None model_version='gemini-2.5-flash' prompt_feedback=None usage_metadata=GenerateContentResponseUsageMetadata(\n",
    "  candidates_token_count=933,\n",
    "  prompt_token_count=17040,\n",
    "  prompt_tokens_details=[\n",
    "    ModalityTokenCount(\n",
    "      modality=<MediaModality.TEXT: 'TEXT'>,\n",
    "      token_count=12\n",
    "    ),\n",
    "    ModalityTokenCount(\n",
    "      modality=<MediaModality.DOCUMENT: 'DOCUMENT'>,\n",
    "      token_count=17028\n",
    "    ),\n",
    "  ],\n",
    "  thoughts_token_count=2753,\n",
    "  total_token_count=20726\n",
    ") automatic_function_calling_history=[] parsed=None\n",
    "```"
   ]
  },
  {
   "cell_type": "markdown",
   "id": "a0f0f00d",
   "metadata": {},
   "source": [
    "Based on the information contained in the whole prompt, we can see that the `prompt_token_count` has two modalities: text and document. Text is the part of the prompt that we have written and document is our PDF.\n",
    "\n",
    "`thoughts_token_count` refers to the thought token that the model used in an internal thinking process.\n",
    "\n",
    "`candidates_token_count` refers to the output tokens"
   ]
  },
  {
   "cell_type": "code",
   "execution_count": 68,
   "id": "708ad7c3",
   "metadata": {},
   "outputs": [
    {
     "name": "stdout",
     "output_type": "stream",
     "text": [
      "Prompt tokens: 17040\n",
      "Thoughts tokens: 2661\n",
      "Output tokens: 1092\n",
      "Total tokens: 20793\n"
     ]
    }
   ],
   "source": [
    "# Let's print the usage metadata\n",
    "print(\"Prompt tokens:\",response.usage_metadata.prompt_token_count)\n",
    "print(\"Thoughts tokens:\",response.usage_metadata.thoughts_token_count)\n",
    "print(\"Output tokens:\",response.usage_metadata.candidates_token_count)\n",
    "print(\"Total tokens:\",response.usage_metadata.total_token_count)"
   ]
  },
  {
   "cell_type": "markdown",
   "id": "1f9346d7",
   "metadata": {},
   "source": [
    "- Prompt tokens: 17040\n",
    "- Thoughts tokens: 2661\n",
    "- Output tokens: 1092\n",
    "- Total tokens: 20793\n",
    "\n",
    "This shows that the model used more than 2.5 times as many thinking tokens as output tokens."
   ]
  },
  {
   "cell_type": "code",
   "execution_count": null,
   "id": "0a6b2fdf",
   "metadata": {},
   "outputs": [],
   "source": [
    "# 2. Let's upload the same PDF file and ask the model to extract text from it\n",
    "# At the same time, let's also set a specific thinking budget for the model\n",
    "\n",
    "pdf_path = pathlib.Path('../data/full_pdfs/163122_1-1963-10.pdf')\n",
    "\n",
    "file_upload = client.files.upload(file=pdf_path)\n",
    "\n",
    "response = client.models.generate_content(\n",
    "    model=MODEL_ID,\n",
    "    contents=[\n",
    "        file_upload,\n",
    "        \"Transcribe the entire PDF. Do not change a word. Make sure to mark the beginnings of each section clearly.\",\n",
    "    ],\n",
    "    config=types.GenerateContentConfig(\n",
    "        thinking_config=types.ThinkingConfig(thinking_budget=1024)\n",
    "        # Turn off thinking:\n",
    "        # thinking_config=types.ThinkingConfig(thinking_budget=0)\n",
    "        # Turn on dynamic thinking:\n",
    "        # thinking_config=types.ThinkingConfig(thinking_budget=-1)\n",
    "    ),\n",
    ")\n",
    "\n",
    "Markdown(response.text)"
   ]
  },
  {
   "cell_type": "code",
   "execution_count": null,
   "id": "8f89ffe5",
   "metadata": {},
   "outputs": [],
   "source": [
    "# save response to a file\n",
    "output_path = pathlib.Path('../data/instructional/1963-10_test1.txt')\n",
    "output_path.parent.mkdir(parents=True, exist_ok=True)\n",
    "with open(output_path, 'w') as f:\n",
    "    f.write(response.text)"
   ]
  },
  {
   "cell_type": "code",
   "execution_count": null,
   "id": "b2c5d690",
   "metadata": {},
   "outputs": [],
   "source": [
    "# You can see the response by loading it from the saved file\n",
    "with open('../data/instructional/1963-10_test1.txt', 'r') as f:\n",
    "    response_text = f.read()\n",
    "print(response_text)"
   ]
  },
  {
   "cell_type": "code",
   "execution_count": 71,
   "id": "be9332f7",
   "metadata": {},
   "outputs": [
    {
     "name": "stdout",
     "output_type": "stream",
     "text": [
      "Prompt tokens: 17052\n",
      "Thoughts tokens: 1273\n",
      "Output tokens: 40650\n",
      "Total tokens: 58975\n"
     ]
    }
   ],
   "source": [
    "# Let's see the usage metadata\n",
    "print(\"Prompt tokens:\",response.usage_metadata.prompt_token_count)\n",
    "print(\"Thoughts tokens:\",response.usage_metadata.thoughts_token_count)\n",
    "print(\"Output tokens:\",response.usage_metadata.candidates_token_count)\n",
    "print(\"Total tokens:\",response.usage_metadata.total_token_count)"
   ]
  },
  {
   "cell_type": "markdown",
   "id": "8a0e4a2e",
   "metadata": {},
   "source": [
    "Hmm, our output is not that useful. It looks more like the output of an OCR software, which does not produce the same kind of structure that we need. (If you cannot run this test, please instead take a look at the text file at ../data/1963-10_test1.text)\n",
    "\n",
    "We seem to be on the right track though!"
   ]
  },
  {
   "cell_type": "markdown",
   "id": "1fe28e5a",
   "metadata": {},
   "source": [
    "There are two ways to get a model to produce JSON files.\n",
    "\n",
    "1. Describing a JSON structure in the prompt\n",
    "2. Creating a JSON schema"
   ]
  },
  {
   "cell_type": "markdown",
   "id": "3607b11d",
   "metadata": {},
   "source": [
    "This is what a prompt for a JSON structure looks like\n",
    "\n",
    "```python\n",
    "prompt = \"\"\"\n",
    "Transcribe the entire PDF as accurately as possible, preserving the original words.\n",
    "\n",
    "Fix only hyphenated words that are split across lines (e.g., “hyphen-\\nation” → “hyphenation”).\n",
    "Preserve paragraph breaks, but remove all line breaks within paragraphs.\n",
    "\n",
    "This PDF contains multiple articles. For each article, extract and return the following in a JSON format:\n",
    "\n",
    "    author: the author's name\n",
    "\n",
    "    title: the article title\n",
    "\n",
    "    pages: the page range (e.g., \"12–15\")\n",
    "\n",
    "    text: the full transcribed text\n",
    "\n",
    "Return one JSON object with all the articles.\n",
    "\"\"\"\n",
    "```"
   ]
  },
  {
   "cell_type": "markdown",
   "id": "2cbc9b40",
   "metadata": {},
   "source": [
    "This works too, but the JSON schema method turned out to be more reliable, which is what we did for extracting texts below."
   ]
  },
  {
   "cell_type": "code",
   "execution_count": null,
   "id": "5e46ee76",
   "metadata": {},
   "outputs": [
    {
     "name": "stdout",
     "output_type": "stream",
     "text": [
      "Prompt tokens: 17107\n",
      "Thoughts tokens: 1547\n",
      "Output tokens: 32215\n",
      "Total tokens: 50869\n"
     ]
    }
   ],
   "source": [
    "# 3. JSON time! Let's bring in some structure to the response\n",
    "\n",
    "import json\n",
    "import typing_extensions as typing\n",
    "\n",
    "# Define your article schema\n",
    "class Article(typing.TypedDict):\n",
    "    author: str\n",
    "    title: str\n",
    "    pages: str\n",
    "    text: str\n",
    "\n",
    "pdf_path = pathlib.Path('../data/full_pdfs/163122_1-1963-10.pdf')\n",
    "json_filename = '../data/instructional/1963-10_test2.json'\n",
    "\n",
    "file_upload = client.files.upload(file=pdf_path)\n",
    "\n",
    "prompt = \"\"\"\n",
    "Transcribe the entire PDF as accurately as possible, preserving the original words.\n",
    "\n",
    "Fix only hyphenated words that are split across lines (e.g., “entrepri- se” → “entreprise”).\n",
    "Preserve paragraph breaks, but not line breaks.\n",
    "This PDF contains multiple articles.\n",
    "Return ONLY a JSON array of articles, with no extra text or explanation.\n",
    "\"\"\"\n",
    "\n",
    "response = client.models.generate_content(\n",
    "    model=MODEL_ID,\n",
    "    contents=[file_upload, prompt],\n",
    "    config={\n",
    "        'response_mime_type': 'application/json',\n",
    "        'response_schema': list[Article],\n",
    "        'thinking_config': types.ThinkingConfig(thinking_budget=2000)\n",
    "    },\n",
    ")\n",
    "\n",
    "# Parse the JSON string to a Python object\n",
    "data = json.loads(response.text)\n",
    "\n",
    "# Save the Python object as JSON\n",
    "with open(json_filename, 'w', encoding='utf-8') as f:\n",
    "    json.dump(data, f, ensure_ascii=False, indent=2)\n",
    "\n",
    "print(\"Prompt tokens:\",response.usage_metadata.prompt_token_count)\n",
    "print(\"Thoughts tokens:\",response.usage_metadata.thoughts_token_count)\n",
    "print(\"Output tokens:\",response.usage_metadata.candidates_token_count)\n",
    "print(\"Total tokens:\",response.usage_metadata.total_token_count)"
   ]
  },
  {
   "cell_type": "code",
   "execution_count": null,
   "id": "22e2b964",
   "metadata": {},
   "outputs": [],
   "source": [
    "Markdown(response.text)"
   ]
  },
  {
   "cell_type": "markdown",
   "id": "23246e60",
   "metadata": {},
   "source": [
    "Much better! We can clearly see that the model followed the schema. Each article in this issue looks like this:\n",
    "\n",
    "```python\n",
    "{\n",
    "    \"author\": \"Comité de rédaction\",\n",
    "    \"title\": \"présentation\",\n",
    "    \"pages\": \"4-6\",\n",
    "    \"text\": \"Prendre parti, essentiellement, .......\"\n",
    "}\n",
    "```\n",
    "\n",
    "Again if you cannot run this code, you can see the output by opening the JSON file (../data/1963-10_test2.json)"
   ]
  },
  {
   "cell_type": "code",
   "execution_count": null,
   "id": "4491fe01",
   "metadata": {},
   "outputs": [],
   "source": [
    "# Let's loop through the PDF corpus and extract the text from each PDF file\n",
    "# We won't actually run this code, but you can use it as a template for your own corpus\n",
    "\n",
    "import pathlib\n",
    "import json\n",
    "import typing_extensions as typing\n",
    "import csv\n",
    "from IPython.display import Markdown\n",
    "import time\n",
    "\n",
    "# Define your article schema\n",
    "class Article(typing.TypedDict):\n",
    "    author: str\n",
    "    title: str\n",
    "    page_range: str\n",
    "    text: str\n",
    "\n",
    "# Paths\n",
    "pdf_folder = pathlib.Path('your_path_here/pdfs')\n",
    "output_folder = pathlib.Path('your_path_here/gemini_transcriptions')\n",
    "output_folder.mkdir(exist_ok=True)\n",
    "csv_path = output_folder / 'transcription_usage.csv'\n",
    "\n",
    "# Prepare CSV\n",
    "csv_fields = ['pdf_filename', 'json_filename', 'prompt_tokens', 'thoughts_tokens', 'output_tokens', 'total_tokens', 'note']\n",
    "if not csv_path.exists():\n",
    "    with open(csv_path, 'w', newline='', encoding='utf-8') as csvfile:\n",
    "        writer = csv.DictWriter(csvfile, fieldnames=csv_fields)\n",
    "        writer.writeheader()\n",
    "\n",
    "# Prompt\n",
    "prompt = \"\"\"\n",
    "Transcribe the entire PDF as accurately as possible, preserving the original words.\n",
    "\n",
    "Fix only hyphenated words that are split across lines (e.g., “entrepri- se” → “entreprise”).\n",
    "Preserve paragraph breaks, but not line breaks.\n",
    "This PDF contains multiple articles.\n",
    "Return ONLY a JSON array of articles, with no extra text or explanation.\n",
    "\"\"\"\n",
    "\n",
    "# Loop over PDFs\n",
    "for pdf_path in pdf_folder.glob('*.pdf'):\n",
    "    print(pdf_path)\n",
    "    filename = pdf_path.stem\n",
    "    json_filename = filename + '.json'\n",
    "    json_path = output_folder / json_filename\n",
    "\n",
    "    # Check file size (50MB = 50 * 1024 * 1024 bytes)\n",
    "    if pdf_path.stat().st_size > 50 * 1024 * 1024:\n",
    "        # Log skipped file\n",
    "        info = {\n",
    "            'pdf_filename': pdf_path.name,\n",
    "            'json_filename': '',\n",
    "            'prompt_tokens': '',\n",
    "            'thoughts_tokens': '',\n",
    "            'output_tokens': '',\n",
    "            'total_tokens': '',\n",
    "            'note': 'SKIPPED: file too large'\n",
    "        }\n",
    "        with open(csv_path, 'a', newline='', encoding='utf-8') as csvfile:\n",
    "            writer = csv.DictWriter(csvfile, fieldnames=csv_fields)\n",
    "            writer.writerow(info)\n",
    "        print(f\"Skipped (too large): {pdf_path.name}\")\n",
    "        continue\n",
    "\n",
    "    file_upload = client.files.upload(file=pdf_path)\n",
    "\n",
    "\n",
    "    response = client.models.generate_content(\n",
    "        model=MODEL_ID,\n",
    "        contents=[file_upload, prompt],\n",
    "        config={\n",
    "            'response_mime_type': 'application/json',\n",
    "            'response_schema': list[Article],\n",
    "            'thinking_config': types.ThinkingConfig(thinking_budget=2000)\n",
    "        },\n",
    "    )\n",
    "\n",
    "    # Parse and save JSON\n",
    "    data = json.loads(response.text)\n",
    "    with open(json_path, 'w', encoding='utf-8') as f:\n",
    "        json.dump(data, f, ensure_ascii=False, indent=2)\n",
    "\n",
    "    # Gather usage info\n",
    "    info = {\n",
    "        'pdf_filename': pdf_path.name,\n",
    "        'json_filename': json_filename,\n",
    "        'prompt_tokens': response.usage_metadata.prompt_token_count,\n",
    "        'thoughts_tokens': response.usage_metadata.thoughts_token_count,\n",
    "        'output_tokens': response.usage_metadata.candidates_token_count,\n",
    "        'total_tokens': response.usage_metadata.total_token_count\n",
    "    }\n",
    "\n",
    "    # Save to CSV\n",
    "    with open(csv_path, 'a', newline='', encoding='utf-8') as csvfile:\n",
    "        writer = csv.DictWriter(csvfile, fieldnames=csv_fields)\n",
    "        writer.writerow(info)\n",
    "\n",
    "    # Print info\n",
    "    print(f\"Processed: {json_filename}\")\n",
    "    print(f\"Prompt tokens: {info['prompt_tokens']}\")\n",
    "    print(f\"Thoughts tokens: {info['thoughts_tokens']}\")\n",
    "    print(f\"Output tokens: {info['output_tokens']}\")\n",
    "    print(f\"Total tokens: {info['total_tokens']}\\n\")\n",
    "\n",
    "    # Wait before next request\n",
    "    time.sleep(30)"
   ]
  },
  {
   "cell_type": "markdown",
   "id": "7e717c16",
   "metadata": {},
   "source": [
    "While we won't be able to run the code above, we want to highlight a few things from it\n",
    "\n",
    "First of all, don't forget to add `time.sleep()` after each API call. We wait 30 seconds between calls which ensures that we won't hit the API limits.\n",
    "\n",
    "Second, we are creating a CSV and keeping track of three things:\n",
    "1. Some PDFs are over 50MB, which means that they cannot be processed in API calls. We keep track of this to return to these PDFs later\n",
    "2. We are saving the usage data, which we will use later for quality control\n",
    "3. Filenames! We are saving the name of the PDF and the name of the JSON file so that we can always find the correct files through this CSV\n",
    "\n",
    "Third, we tweaked our prompt. Since the JSON schema is uploaded with the prompt `'response_mime_type': 'application/json'` and `'response_schema': list[Article]`, we do describe the structure in the prompt. Instead we use that space for clarifying some details regarding text extraction.\n",
    "\n",
    "Four, we save each file right after it is created. This way if something goes wrong, we don't loose hours of work."
   ]
  },
  {
   "cell_type": "markdown",
   "id": "26f16177",
   "metadata": {},
   "source": [
    "## Discussion"
   ]
  },
  {
   "cell_type": "markdown",
   "id": "d817f3cb",
   "metadata": {},
   "source": [
    "### Advantages\n",
    "\n",
    "There are many advantanges to this approach. We automatically obtain texts split at article level associated with the author of that article as opposed to just with Parti Pris. Parti Pris has relatively standard layout and very few if any images or advertisement. The language is standard mid-century French. Most issues are about 60 pages long, which fits the context window of the model. The scans are in a high resolution. The model can be prompted to perform specific transformations such as making the paragraph breaks but not line breaks and joining hyphenated words back into full words. All this makes text extraction easier."
   ]
  },
  {
   "cell_type": "markdown",
   "id": "d3163dab",
   "metadata": {},
   "source": [
    "### Challenges\n",
    "\n",
    "At the same time there are some challenges inherent in prompting a Large Language Model (LLM) for OCR. These includes issues related to the size of the PDFs and difficulties with verifying the quality and the completeness the outputs. \n",
    "\n",
    "**PDF Size**\n",
    "\n",
    "the PDFs uploaded to the Gemini API cannot be larger than [50MB](https://github.com/googleapis/python-genai/issues/308). We had a total of 42 PDFs in this corpus and 18 of them were over 50MB. Some were only marginally larger, others were combined issues, reaching over 120 pages and 100MB. We could not split the PDFs automatically by size since our goal was to capture each article separately. A size or page number based approach could split up an article in the middle. This meant that we had to either reduce the size of the PDFs and risk reducing the quality of the resolution or split them manually. \n",
    "\n",
    "We had a two-part approach. First we transcribed all the PDFs, skipping the ones that were too large and making a note about that in the process. Afterwards we manually split the 18 large PDFs in Adobe Acrobat Pro, creating 42 new PDFs. We retained the filenames, adding '-A', '-B', etc to the end of the filenames. Then we ran a second pass of Gemini 2.5 transcription with the split PDFs.\n",
    "\n",
    "<figure>\n",
    "    <img src=\"../img/large_pdfs.png\"\n",
    "         alt=\"Screenshot showing the transcription token usage for API calls\">\n",
    "    <figcaption>Transcription token usage after the first pass</figcaption>\n",
    "</figure>\n",
    "\n",
    "<figure>\n",
    "    <img src=\"../img/second_pass_pdfs.png\"\n",
    "         alt=\"Screenshot showing the transcription token usage for API calls\">\n",
    "    <figcaption>Transcription token usage after the second pass</figcaption>\n",
    "</figure>"
   ]
  },
  {
   "cell_type": "markdown",
   "id": "331d6d19",
   "metadata": {},
   "source": [
    "**Quality and Completeness of the Output**\n",
    "\n",
    "*Before the API calls*\n",
    "\n",
    "Best method to check the quality of the output is to read the extracted texts and compare it to what you see on the PDF. We manually checked several examples before proceeding with the API calls. We tweaked our prompting based on these initial experiments. For example, we realized that the model marks line breaks with '\\n' which is not necessary for our research and prompted the model to not do that. Please note that marking the end of a line could be very useful if  for example you are working with a manuscript and want to publish a digital edition. You do need to mark the line breaks in that case.\n",
    "\n",
    "We also realized that the texts contained a lot of hyphenated words at the end of a line. Hyphenation is not common in English but in French, the word at the end of a line is split at the end of the last syllable that fits the line, an hyphen is added to signal this split and the rest of the word continues in the line below. The model tended to keep the hyphens resulting in words like 'enter- prise' instead of merging the word to 'enterprise'. It is not easy to get rid of hyphenation in post-OCR correction because French does make use of the hyphen regularly, for example in the contruction of a question like 'c'est' becomes 'est-ce'. This means that removing - as if it is just puncuation is not ideal. \n",
    "\n",
    "Picking up on the smaller, often language and corpus specific details helps design a more effective prompt.\n",
    "\n",
    "<figure>\n",
    "    <img src=\"../img/hyphenation.png\"\n",
    "         alt=\"Screenshot showing different uses of hyphen\">\n",
    "    <figcaption>Different uses of hyphen marked in red, when it is used for splitting a word at the end of a line and in green for other use cases.</figcaption>\n",
    "</figure>\n",
    "\n",
    "\n"
   ]
  },
  {
   "cell_type": "markdown",
   "id": "2189e867",
   "metadata": {},
   "source": [
    "\n",
    "*After scaling up*\n",
    "\n",
    "At a large scale, it is difficult to verify that each PDF has been OCR'ed entirely. Sometimes the model stopped producing text because it ran out of output tokens, particularly if the PDF was really long or if the model was using too many 'thinking' tokens. Sometimes the model added comments, descriptions of images and even translation, creating a much longer output than expected. We retained the token usage for each API call and looked for outliers. \n",
    "\n",
    "The easiest way to do that is to create a table of token usage. As you can see in the transcription usage table above, the PDF for June 1966 (163122_2-1966-06.pdf) has only 33 output tokens, which is only a fraction of the output tokens for the April 1966 issue which was 44k tokens long. In this case, this was not a model error but actually this issue does not exist. It has never been published. The PDF scanned by [the BAnQ](https://collections.banq.qc.ca/ark:/52327/2314811) reads \"Parti Pris Juin à Août Non paru\" (Parti Pris, June to August not published). \n",
    "\n",
    "In other instances like in September 1964 (163122_2-1964-09-01.pdf) and December 1964 (163122_2-1964-12-01.pdf), there are additional short pamphlets alongside the main issue. These pamphlets are denotated with '-01' after the date in the PDFs' filenames by the BAnQ. \n",
    "\n",
    "While these examples were real cases where the output should have way fewer tokens, this method of checking the output token sizes allowed us to discover inconsistencies in OCR output and rerun the API calls on issues where there was missing texts."
   ]
  },
  {
   "cell_type": "markdown",
   "id": "d5583ab6",
   "metadata": {},
   "source": [
    "A more in-depth way to check for this is to look at the relationship between the PDF size and the number of output tokens. For that we need to calculate the file sizes of all PDFs."
   ]
  },
  {
   "cell_type": "code",
   "execution_count": null,
   "id": "2607b543",
   "metadata": {},
   "outputs": [
    {
     "data": {
      "application/vnd.microsoft.datawrangler.viewer.v0+json": {
       "columns": [
        {
         "name": "index",
         "rawType": "int64",
         "type": "integer"
        },
        {
         "name": "pdf_filename",
         "rawType": "object",
         "type": "string"
        },
        {
         "name": "json_filename",
         "rawType": "object",
         "type": "string"
        },
        {
         "name": "prompt_tokens",
         "rawType": "int64",
         "type": "integer"
        },
        {
         "name": "thoughts_tokens",
         "rawType": "int64",
         "type": "integer"
        },
        {
         "name": "output_tokens",
         "rawType": "int64",
         "type": "integer"
        },
        {
         "name": "total_tokens",
         "rawType": "int64",
         "type": "integer"
        }
       ],
       "ref": "41a78b9a-eff3-4cab-9e68-2ea2f202e620",
       "rows": [
        [
         "0",
         "163122_1-1963-10.pdf",
         "163122_1-1963-10.json",
         "17107",
         "1406",
         "34382",
         "52895"
        ],
        [
         "1",
         "163122_1-1963-11.pdf",
         "163122_1-1963-11.json",
         "17107",
         "1456",
         "29757",
         "48320"
        ],
        [
         "2",
         "163122_1-1963-12.pdf",
         "163122_1-1963-12.json",
         "17107",
         "1986",
         "32445",
         "51538"
        ],
        [
         "3",
         "163122_1-1964-01.pdf",
         "163122_1-1964-01.json",
         "17107",
         "1381",
         "38662",
         "57150"
        ],
        [
         "4",
         "163122_1-1964-02.pdf",
         "163122_1-1964-02.json",
         "17107",
         "1371",
         "42279",
         "60757"
        ]
       ],
       "shape": {
        "columns": 6,
        "rows": 5
       }
      },
      "text/html": [
       "<div>\n",
       "<style scoped>\n",
       "    .dataframe tbody tr th:only-of-type {\n",
       "        vertical-align: middle;\n",
       "    }\n",
       "\n",
       "    .dataframe tbody tr th {\n",
       "        vertical-align: top;\n",
       "    }\n",
       "\n",
       "    .dataframe thead th {\n",
       "        text-align: right;\n",
       "    }\n",
       "</style>\n",
       "<table border=\"1\" class=\"dataframe\">\n",
       "  <thead>\n",
       "    <tr style=\"text-align: right;\">\n",
       "      <th></th>\n",
       "      <th>pdf_filename</th>\n",
       "      <th>json_filename</th>\n",
       "      <th>prompt_tokens</th>\n",
       "      <th>thoughts_tokens</th>\n",
       "      <th>output_tokens</th>\n",
       "      <th>total_tokens</th>\n",
       "    </tr>\n",
       "  </thead>\n",
       "  <tbody>\n",
       "    <tr>\n",
       "      <th>0</th>\n",
       "      <td>163122_1-1963-10.pdf</td>\n",
       "      <td>163122_1-1963-10.json</td>\n",
       "      <td>17107</td>\n",
       "      <td>1406</td>\n",
       "      <td>34382</td>\n",
       "      <td>52895</td>\n",
       "    </tr>\n",
       "    <tr>\n",
       "      <th>1</th>\n",
       "      <td>163122_1-1963-11.pdf</td>\n",
       "      <td>163122_1-1963-11.json</td>\n",
       "      <td>17107</td>\n",
       "      <td>1456</td>\n",
       "      <td>29757</td>\n",
       "      <td>48320</td>\n",
       "    </tr>\n",
       "    <tr>\n",
       "      <th>2</th>\n",
       "      <td>163122_1-1963-12.pdf</td>\n",
       "      <td>163122_1-1963-12.json</td>\n",
       "      <td>17107</td>\n",
       "      <td>1986</td>\n",
       "      <td>32445</td>\n",
       "      <td>51538</td>\n",
       "    </tr>\n",
       "    <tr>\n",
       "      <th>3</th>\n",
       "      <td>163122_1-1964-01.pdf</td>\n",
       "      <td>163122_1-1964-01.json</td>\n",
       "      <td>17107</td>\n",
       "      <td>1381</td>\n",
       "      <td>38662</td>\n",
       "      <td>57150</td>\n",
       "    </tr>\n",
       "    <tr>\n",
       "      <th>4</th>\n",
       "      <td>163122_1-1964-02.pdf</td>\n",
       "      <td>163122_1-1964-02.json</td>\n",
       "      <td>17107</td>\n",
       "      <td>1371</td>\n",
       "      <td>42279</td>\n",
       "      <td>60757</td>\n",
       "    </tr>\n",
       "  </tbody>\n",
       "</table>\n",
       "</div>"
      ],
      "text/plain": [
       "           pdf_filename          json_filename  prompt_tokens  \\\n",
       "0  163122_1-1963-10.pdf  163122_1-1963-10.json          17107   \n",
       "1  163122_1-1963-11.pdf  163122_1-1963-11.json          17107   \n",
       "2  163122_1-1963-12.pdf  163122_1-1963-12.json          17107   \n",
       "3  163122_1-1964-01.pdf  163122_1-1964-01.json          17107   \n",
       "4  163122_1-1964-02.pdf  163122_1-1964-02.json          17107   \n",
       "\n",
       "   thoughts_tokens  output_tokens  total_tokens  \n",
       "0             1406          34382         52895  \n",
       "1             1456          29757         48320  \n",
       "2             1986          32445         51538  \n",
       "3             1381          38662         57150  \n",
       "4             1371          42279         60757  "
      ]
     },
     "execution_count": 42,
     "metadata": {},
     "output_type": "execute_result"
    }
   ],
   "source": [
    "# Let's read the CSV file to analyze the transcription usage data\n",
    "import pandas as pd\n",
    "df = pd.read_csv(\"../data/instructional/transcription_usage_fulltext.csv\")\n",
    "df.head()"
   ]
  },
  {
   "cell_type": "code",
   "execution_count": null,
   "id": "74ad46d3",
   "metadata": {},
   "outputs": [
    {
     "data": {
      "application/vnd.microsoft.datawrangler.viewer.v0+json": {
       "columns": [
        {
         "name": "index",
         "rawType": "int64",
         "type": "integer"
        },
        {
         "name": "pdf_filename",
         "rawType": "object",
         "type": "string"
        },
        {
         "name": "pdf_size_mb",
         "rawType": "float64",
         "type": "float"
        }
       ],
       "ref": "76640d20-8974-4bb0-8663-0820ed007c1a",
       "rows": [
        [
         "0",
         "163122_1-1963-10.pdf",
         "36.94"
        ],
        [
         "1",
         "163122_1-1963-11.pdf",
         "32.96"
        ],
        [
         "2",
         "163122_1-1963-12.pdf",
         "37.85"
        ],
        [
         "3",
         "163122_1-1964-01.pdf",
         "35.8"
        ],
        [
         "4",
         "163122_1-1964-02.pdf",
         "41.65"
        ]
       ],
       "shape": {
        "columns": 2,
        "rows": 5
       }
      },
      "text/html": [
       "<div>\n",
       "<style scoped>\n",
       "    .dataframe tbody tr th:only-of-type {\n",
       "        vertical-align: middle;\n",
       "    }\n",
       "\n",
       "    .dataframe tbody tr th {\n",
       "        vertical-align: top;\n",
       "    }\n",
       "\n",
       "    .dataframe thead th {\n",
       "        text-align: right;\n",
       "    }\n",
       "</style>\n",
       "<table border=\"1\" class=\"dataframe\">\n",
       "  <thead>\n",
       "    <tr style=\"text-align: right;\">\n",
       "      <th></th>\n",
       "      <th>pdf_filename</th>\n",
       "      <th>pdf_size_mb</th>\n",
       "    </tr>\n",
       "  </thead>\n",
       "  <tbody>\n",
       "    <tr>\n",
       "      <th>0</th>\n",
       "      <td>163122_1-1963-10.pdf</td>\n",
       "      <td>36.94</td>\n",
       "    </tr>\n",
       "    <tr>\n",
       "      <th>1</th>\n",
       "      <td>163122_1-1963-11.pdf</td>\n",
       "      <td>32.96</td>\n",
       "    </tr>\n",
       "    <tr>\n",
       "      <th>2</th>\n",
       "      <td>163122_1-1963-12.pdf</td>\n",
       "      <td>37.85</td>\n",
       "    </tr>\n",
       "    <tr>\n",
       "      <th>3</th>\n",
       "      <td>163122_1-1964-01.pdf</td>\n",
       "      <td>35.80</td>\n",
       "    </tr>\n",
       "    <tr>\n",
       "      <th>4</th>\n",
       "      <td>163122_1-1964-02.pdf</td>\n",
       "      <td>41.65</td>\n",
       "    </tr>\n",
       "  </tbody>\n",
       "</table>\n",
       "</div>"
      ],
      "text/plain": [
       "           pdf_filename  pdf_size_mb\n",
       "0  163122_1-1963-10.pdf        36.94\n",
       "1  163122_1-1963-11.pdf        32.96\n",
       "2  163122_1-1963-12.pdf        37.85\n",
       "3  163122_1-1964-01.pdf        35.80\n",
       "4  163122_1-1964-02.pdf        41.65"
      ]
     },
     "execution_count": 43,
     "metadata": {},
     "output_type": "execute_result"
    }
   ],
   "source": [
    "# Saving the PDF size for better comparison\n",
    "import os\n",
    "\n",
    "def get_pdf_size(filename):\n",
    "    # The PDF corpus is not shared in this repository\n",
    "    # You need to adjust the path to data if you want to test this code on the 3 example PDFs\n",
    "    for folder in [\"your_path_here/full_pdfs\", \"your_path_here/split_pdfs\"]:\n",
    "        path = os.path.join(folder, filename)\n",
    "        if os.path.exists(path):\n",
    "            size_bytes = os.path.getsize(path)\n",
    "            return size_bytes / 1_000_000  # size in MB (decimal format)\n",
    "            #return size_bytes / (1024 * 1024)  # size in MB (binary format)\n",
    "    return None\n",
    "\n",
    "df['pdf_size_mb'] = df['pdf_filename'].apply(lambda x: round(get_pdf_size(x), 2))\n",
    "\n",
    "df[['pdf_filename', 'pdf_size_mb']].head()"
   ]
  },
  {
   "cell_type": "code",
   "execution_count": null,
   "id": "9263739e",
   "metadata": {},
   "outputs": [],
   "source": [
    "# Save the updated DataFrame to a new CSV file\n",
    "df.to_csv(\"../data/instructional/transcription_usage_fulltext_with_size.csv\", index=False)"
   ]
  },
  {
   "cell_type": "code",
   "execution_count": null,
   "id": "44bde1bb",
   "metadata": {},
   "outputs": [],
   "source": [
    "# If you want to check the size of the PDFs in the corpus, you can run this code\n",
    "# and load the CSV with PDF size information\n",
    "df = pd.read_csv(\"../data/instructional/transcription_usage_fulltext_with_size.csv\")"
   ]
  },
  {
   "cell_type": "code",
   "execution_count": 45,
   "id": "49c42bbc",
   "metadata": {},
   "outputs": [],
   "source": [
    "# Calculate the ratio of output tokens to PDF size (tokens per MB)\n",
    "df['tokens_per_mb'] = df['output_tokens'] / df['pdf_size_mb']"
   ]
  },
  {
   "cell_type": "code",
   "execution_count": 46,
   "id": "bc5e553e",
   "metadata": {},
   "outputs": [
    {
     "name": "stdout",
     "output_type": "stream",
     "text": [
      "\n",
      "Average tokens per MB: 864.61\n",
      "Standard deviation: 205.84\n"
     ]
    }
   ],
   "source": [
    "# First, let's check the standard deviation and mean of the tokens per MB\n",
    "\n",
    "mean_ratio = df['tokens_per_mb'].mean()\n",
    "std_ratio = df['tokens_per_mb'].std()\n",
    "\n",
    "print(f\"\\nAverage tokens per MB: {mean_ratio:.2f}\")\n",
    "print(f\"Standard deviation: {std_ratio:.2f}\")\n"
   ]
  },
  {
   "cell_type": "markdown",
   "id": "3572d1cf",
   "metadata": {},
   "source": [
    "This shows us that on average each megabyte of our PDFs yields about 865 tokens after OCR/text extraction. Most PDFs will have a tokens-per-MB value within about ±206 of the average (so, roughly between 659 and 1070 tokens per MB). Values much outside this range (e.g., below 659 or above 1070) are more likely to be outliers."
   ]
  },
  {
   "cell_type": "code",
   "execution_count": 47,
   "id": "8472380e",
   "metadata": {},
   "outputs": [
    {
     "name": "stdout",
     "output_type": "stream",
     "text": [
      "Potential low outliers based on tokens per MB ratio:\n",
      "            pdf_filename  pdf_size_mb  output_tokens  tokens_per_mb\n",
      "38  163122_2-1966-06.pdf         0.58             33      56.896552\n",
      "\n",
      "Potential high outliers based on tokens per MB ratio:\n",
      "               pdf_filename  pdf_size_mb  output_tokens  tokens_per_mb\n",
      "11  163122_1-1964-09-01.pdf         3.25           5913    1819.384615\n"
     ]
    }
   ],
   "source": [
    "# Then let's identify potential outliers by using the standard deviation method\n",
    "\n",
    "# Flag as outliers those that are much lower or higher than average (e.g., more than 2 std from mean)\n",
    "low_outliers = df[df['tokens_per_mb'] < (mean_ratio - 2 * std_ratio)]\n",
    "high_outliers = df[df['tokens_per_mb'] > (mean_ratio + 2 * std_ratio)]\n",
    "\n",
    "print(\"Potential low outliers based on tokens per MB ratio:\")\n",
    "print(low_outliers[['pdf_filename', 'pdf_size_mb', 'output_tokens', 'tokens_per_mb']])\n",
    "\n",
    "print(\"\\nPotential high outliers based on tokens per MB ratio:\")\n",
    "print(high_outliers[['pdf_filename', 'pdf_size_mb', 'output_tokens', 'tokens_per_mb']])\n"
   ]
  },
  {
   "cell_type": "markdown",
   "id": "393f0ed5",
   "metadata": {},
   "source": [
    "We already know about '163122_2-1966-06.pdf' and '163122_1-1964-09-01.pdf'! The former actually does not exist and the latter is a short pamphlet."
   ]
  },
  {
   "cell_type": "markdown",
   "id": "7d8e00c4",
   "metadata": {},
   "source": [
    "A more fine-grained way to check for outlier is to look at the z-score of the tokens per MB.\n",
    "\n",
    "The **z-score** measures how many standard deviations a value is from the mean of the dataset. For each PDF, the z-score of its tokens-per-MB value tells us whether it is typical (close to 0), unusually low (negative z-score), or unusually high (positive z-score) compared to the rest of the corpus.  \n",
    "- A z-score near 0 means the value is close to the average.\n",
    "- A negative z-score (e.g., less than -1.5) indicates a much lower tokens-per-MB ratio than average, which could signal missing content or OCR issues.\n",
    "- A positive z-score (e.g., greater than 1.5) indicates a much higher tokens-per-MB ratio than average, which could signal duplicated text, OCR artifacts, or unusually dense text.\n",
    "\n",
    "Using z-scores allows us to systematically flag both low and high outliers for further review."
   ]
  },
  {
   "cell_type": "code",
   "execution_count": 48,
   "id": "5e2d98b9",
   "metadata": {},
   "outputs": [],
   "source": [
    "# One way to check for outliers is to look at the z-score of the tokens per MB\n",
    "from scipy.stats import zscore\n",
    "df['tokens_per_mb_z'] = zscore(df['tokens_per_mb'].fillna(0))"
   ]
  },
  {
   "cell_type": "code",
   "execution_count": 49,
   "id": "551fc354",
   "metadata": {},
   "outputs": [
    {
     "data": {
      "image/png": "[encoded data removed]",
      "text/plain": [
       "<Figure size 800x500 with 1 Axes>"
      ]
     },
     "metadata": {},
     "output_type": "display_data"
    }
   ],
   "source": [
    "# Let's plot the distribution of tokens per MB z-scores to visualize the outliers\n",
    "import matplotlib.pyplot as plt\n",
    "import seaborn as sns\n",
    "\n",
    "plt.figure(figsize=(8, 5))\n",
    "sns.histplot(\n",
    "    df['tokens_per_mb_z'].dropna(),\n",
    "    bins=10,\n",
    "    color=sns.color_palette(\"crest\", as_cmap=True)(0.6),\n",
    "    edgecolor='k',\n",
    "    alpha=1  # Make bars fully opaque\n",
    ")\n",
    "plt.xlabel('Tokens per MB (z-score)')\n",
    "plt.ylabel('Number of PDFs')\n",
    "plt.title('Distribution of Tokens per MB z-scores')\n",
    "sns.despine()\n",
    "#plt.grid(False)\n",
    "plt.show()"
   ]
  },
  {
   "cell_type": "markdown",
   "id": "15d8df81",
   "metadata": {},
   "source": [
    "The histogram of tokens per MB z-scores shows how each PDF’s token density compares to the average across the corpus. Most PDFs cluster around a z-score of 0, indicating their tokens-per-megabyte values are close to the mean, which suggests consistent OCR and text extraction quality for the majority of files. \n",
    "\n",
    "A few PDFs may fall into the tails of the distribution (z-scores below -1.5 or above 1.5), marking them as potential outliers. Low outliers could indicate missing or incomplete text extraction, while high outliers might suggest unusually dense text, duplicated content, or OCR artifacts. \n",
    "\n",
    "Overall, a roughly normal distribution centered near zero with few outliers implies that the extraction process was generally reliable, but the flagged outliers warrant further review to ensure data quality."
   ]
  },
  {
   "cell_type": "code",
   "execution_count": 51,
   "id": "d1c7e4e4",
   "metadata": {},
   "outputs": [
    {
     "name": "stdout",
     "output_type": "stream",
     "text": [
      "\n",
      "High outliers (z > 1.5): 2\n",
      "               pdf_filename  pdf_size_mb  output_tokens  tokens_per_mb  \\\n",
      "9    163122_1-1964-06-B.pdf        37.59          44374    1180.473530   \n",
      "11  163122_1-1964-09-01.pdf         3.25           5913    1819.384615   \n",
      "\n",
      "    tokens_per_mb_z  \n",
      "9          1.546297  \n",
      "11         4.674061  \n",
      "\n",
      "High outliers (z > 1.3): 3\n",
      "               pdf_filename  pdf_size_mb  output_tokens  tokens_per_mb  \\\n",
      "9    163122_1-1964-06-B.pdf        37.59          44374    1180.473530   \n",
      "11  163122_1-1964-09-01.pdf         3.25           5913    1819.384615   \n",
      "12     163122_1-1964-09.pdf        40.92          47752    1166.959922   \n",
      "\n",
      "    tokens_per_mb_z  \n",
      "9          1.546297  \n",
      "11         4.674061  \n",
      "12         1.480142  \n",
      "\n",
      "High outliers (z > 1): 6\n",
      "               pdf_filename  pdf_size_mb  output_tokens  tokens_per_mb  \\\n",
      "3      163122_1-1964-01.pdf        35.80          38662    1079.944134   \n",
      "9    163122_1-1964-06-B.pdf        37.59          44374    1180.473530   \n",
      "11  163122_1-1964-09-01.pdf         3.25           5913    1819.384615   \n",
      "12     163122_1-1964-09.pdf        40.92          47752    1166.959922   \n",
      "28   163122_1-1965-10-B.pdf        27.29          29230    1071.088311   \n",
      "37   163122_2-1966-05-B.pdf        22.84          24729    1082.705779   \n",
      "\n",
      "    tokens_per_mb_z  \n",
      "3          1.054160  \n",
      "9          1.546297  \n",
      "11         4.674061  \n",
      "12         1.480142  \n",
      "28         1.010806  \n",
      "37         1.067679  \n",
      "\n",
      "Low outliers (z < -1): 6\n",
      "              pdf_filename  pdf_size_mb  output_tokens  tokens_per_mb  \\\n",
      "32  163122_2-1966-02-A.pdf        25.67          14925     581.417998   \n",
      "38    163122_2-1966-06.pdf         0.58             33      56.896552   \n",
      "40  163122_2-1966-09-B.pdf        48.58          30598     629.847674   \n",
      "46  163122_2-1967-03-A.pdf        35.92          23324     649.331849   \n",
      "53    163122_2-1967-09.pdf        51.48          31176     605.594406   \n",
      "65  163122_2-1968-05-C.pdf        21.13          11695     553.478467   \n",
      "\n",
      "    tokens_per_mb_z  \n",
      "32        -1.386355  \n",
      "38        -3.954129  \n",
      "40        -1.149270  \n",
      "46        -1.053886  \n",
      "53        -1.268001  \n",
      "65        -1.523132  \n",
      "\n",
      "Low outliers (z < -1.3): 3\n",
      "              pdf_filename  pdf_size_mb  output_tokens  tokens_per_mb  \\\n",
      "32  163122_2-1966-02-A.pdf        25.67          14925     581.417998   \n",
      "38    163122_2-1966-06.pdf         0.58             33      56.896552   \n",
      "65  163122_2-1968-05-C.pdf        21.13          11695     553.478467   \n",
      "\n",
      "    tokens_per_mb_z  \n",
      "32        -1.386355  \n",
      "38        -3.954129  \n",
      "65        -1.523132  \n",
      "\n",
      "Low outliers (z < -1.5): 2\n",
      "              pdf_filename  pdf_size_mb  output_tokens  tokens_per_mb  \\\n",
      "38    163122_2-1966-06.pdf         0.58             33      56.896552   \n",
      "65  163122_2-1968-05-C.pdf        21.13          11695     553.478467   \n",
      "\n",
      "    tokens_per_mb_z  \n",
      "38        -3.954129  \n",
      "65        -1.523132  \n"
     ]
    }
   ],
   "source": [
    "# Let's look at the z-score thresholds for outliers\n",
    "# We can define thresholds for low and high outliers based on z-scores \n",
    "# and evaluate the potential outliers\n",
    "\n",
    "thresholds = [1.5, 1.3, 1, -1, -1.3, -1.5]\n",
    "\n",
    "for threshold in thresholds:\n",
    "    if threshold > 0:\n",
    "        outliers = df[df['tokens_per_mb_z'] > threshold]\n",
    "        print(f\"\\nHigh outliers (z > {threshold}): {len(outliers)}\")\n",
    "    else:\n",
    "        outliers = df[df['tokens_per_mb_z'] < threshold]\n",
    "        print(f\"\\nLow outliers (z < {threshold}): {len(outliers)}\")\n",
    "    print(outliers[['pdf_filename', 'pdf_size_mb', 'output_tokens', 'tokens_per_mb', 'tokens_per_mb_z']])"
   ]
  },
  {
   "cell_type": "code",
   "execution_count": 56,
   "id": "3cd76669",
   "metadata": {},
   "outputs": [
    {
     "data": {
      "image/png": "[encoded data removed]",
      "text/plain": [
       "<Figure size 1000x600 with 1 Axes>"
      ]
     },
     "metadata": {},
     "output_type": "display_data"
    }
   ],
   "source": [
    "# Another way to visualize the outliers is a scatter plot\n",
    "\n",
    "low_outliers = df[df['tokens_per_mb_z'] < -1]\n",
    "high_outliers = df[df['tokens_per_mb_z'] > 1]\n",
    "\n",
    "plt.figure(figsize=(10, 6))\n",
    "palette = sns.color_palette(\"crest\", 3)\n",
    "sns.scatterplot(\n",
    "    data=df, x='pdf_size_mb', y='tokens_per_mb',\n",
    "    color=palette[1], alpha=0.4, label='Normal'\n",
    ")\n",
    "sns.scatterplot(\n",
    "    data=low_outliers, x='pdf_size_mb', y='tokens_per_mb',\n",
    "    color=palette[0], label='Low Outliers', edgecolor='k'\n",
    ")\n",
    "sns.scatterplot(\n",
    "    data=high_outliers, x='pdf_size_mb', y='tokens_per_mb',\n",
    "    color=palette[2], label='High Outliers', edgecolor='k'\n",
    ")\n",
    "plt.xlabel('PDF Size (MB)')\n",
    "plt.ylabel('Tokens per MB')\n",
    "plt.title('Tokens per MB vs PDF Size (Outliers Highlighted)')\n",
    "sns.despine()\n",
    "plt.legend()\n",
    "plt.grid(False)\n",
    "plt.show()"
   ]
  },
  {
   "cell_type": "markdown",
   "id": "c8b704fd",
   "metadata": {},
   "source": [
    "The code identifies outlier PDFs based on their tokens-per-MB z-scores, printing both high and low outliers for several thresholds. \n",
    "\n",
    "Let's look at an high outlier: '163122_1-1964-06-B.pdf'\n",
    "\n",
    "From the pdf filename, we know that this is one of the PDFs that were split manually. Since it is a -B, it is the second part of the PDF. Upon closer investigation, we can see that this PDF is incredibly dense with text. It does not have the title page and the table of contents, which were left in the '163122_1-1964-06-A.pdf'. On top of that, the original 163122_1-1964-06.pdf was split into 3 parts, so the advertisements and subscription information usually at the end of each issue is in the 3rd part '163122_1-1964-06-C.pdf'. This means that '163122_1-1964-06-B.pdf' is just filled with double column text. This is the case for some other high outliers with z-scores larger than 1. They happen to be the middle parts of 3-way split PDFs.\n",
    "\n",
    "Similarly, in the case of '163122_1-1964-09.pdf' the high z-score is because this is a longer issue with 76 pages (most issues are around 60 pages) but the PDF size is still small due to the scan quality and resolution. \n",
    "\n",
    "Let's look at a low outlier: '163122_2-1968-05-C.pdf'\n",
    "\n",
    "This is the last part of a 3-way split PDF, meaning that the last few pages are devoted to advertisement, which our model is not transcribing. Also, there are more images in the issues from late 1967 and 1968 than in the previous years, including this one. But more importantly this part of the issue is filled with poetry, which takes up a lot more space due to its layout despite having fewer words than continious prose.\n",
    "\n",
    "This analysis indeed revealed issue with three PDFs: '163122_2-1966-02-A.pdf', 163122_2-1966-09-B.pdf, and 163122_2-1967-09.pdf\n",
    "\n",
    "All three are missing one or more articles entirely, with 163122_2-1966-09-B.pdf showing signs of degeneration and shuffling of the order of the articles. 163122_2-1967-09.pdf additionally has layout-related problems. This issue is the beginning of a new layout and more image-laden style for Parti Pris. Some of the short snippets between longer articles look like advertisements. There are several full-page images. \n",
    "\n",
    "All this shows that looking into outliers is a useful approach to identifying potential issues in a larger dataset. This might not reveal all the problems but being able to identify 3 PDFs with actual important OCR mistakes is rather useful."
   ]
  },
  {
   "cell_type": "markdown",
   "id": "34e6d9bd",
   "metadata": {},
   "source": [
    "## Table of Contents\n"
   ]
  },
  {
   "cell_type": "markdown",
   "id": "b833092f",
   "metadata": {},
   "source": [
    "One other way to check for completeness is looking at the table of contents for each issue. Luckily, the order of pages remained consistent across the entire print run. The ToC is always on the 3rd page of the PDF. We can automatically extract the 3rd page and extract ToC and metadata."
   ]
  },
  {
   "cell_type": "code",
   "execution_count": null,
   "id": "d49f1176",
   "metadata": {},
   "outputs": [],
   "source": [
    "# Let's extract the table of contents (ToC) from each PDF file\n",
    "\n",
    "from pypdf import PdfReader, PdfWriter\n",
    "\n",
    "input_folder = \"your_path_here/pdfs\"\n",
    "output_folder = \"your_path_here/toc_pdfs\"\n",
    "\n",
    "os.makedirs(output_folder, exist_ok=True)\n",
    "\n",
    "for filename in os.listdir(input_folder):\n",
    "    if filename.lower().endswith(\".pdf\"):\n",
    "        input_path = os.path.join(input_folder, filename)\n",
    "        output_path = os.path.join(output_folder, f\"toc_{filename}\")\n",
    "\n",
    "        reader = PdfReader(input_path)\n",
    "        writer = PdfWriter()\n",
    "\n",
    "        # Extract only page 3 (index 2)\n",
    "        if len(reader.pages) >= 3:\n",
    "            writer.add_page(reader.pages[2])\n",
    "\n",
    "            with open(output_path, \"wb\") as out_file:\n",
    "                writer.write(out_file)"
   ]
  },
  {
   "cell_type": "markdown",
   "id": "2581b5d3",
   "metadata": {},
   "source": [
    "We carefully studied the ToC and metadata to understand its structure and translate it into the JSON schema.\n",
    "\n",
    "<div style=\"display: flex; gap: 20px;\">\n",
    "  <img src=\"../img/toc_early_issues.png\" alt=\"ToC example from an earlier issue\" width=\"45%\">\n",
    "  <img src=\"../img/toc_later_issues.png\" alt=\"ToC example from a later issue\" width=\"45%\">\n",
    "</div>"
   ]
  },
  {
   "cell_type": "code",
   "execution_count": null,
   "id": "ba905fcd",
   "metadata": {},
   "outputs": [],
   "source": [
    "# We use the same approach as the text extraction code to extract the ToC from each PDF file\n",
    "# again this code won't run here, but you can use it as a template for your own corpus\n",
    "\n",
    "class TOCMetadata(typing.TypedDict):\n",
    "    issue_number: str                # e.g., \"vol. 5 nos 2-3\"\n",
    "    season_or_month: str             # e.g., \"été or oct.-nov.\"\n",
    "    year: str                        # e.g., \"1967\"\n",
    "    director: str                    # e.g., \"philippe bernard\"\n",
    "    description: str                 # e.g., \"revue politique et culturelle\"\n",
    "    price: str                       # e.g., \"75¢\", \"$6.00\"\n",
    "    editors: list[str]               # e.g., [\"philippe bernard\", \"gilles bourque\", ...]\n",
    "    collaborators: list[str]         # e.g., [\"jacques allard\", \"denis arcand\", ...]\n",
    "    administration: list[str]        # e.g., [\"gilles bourque\", \"gilles dostaler\", ...]\n",
    "    publisher: str                   # e.g., \"La revue PARTI PRIS, inc.\"\n",
    "    distributor: str                 # e.g., \"agence de distribution populaire, 1130 Lagauchetière est, Montréal\"\n",
    "\n",
    "class TOCEntry(typing.TypedDict):\n",
    "    section: str                     # e.g., \"CHRONIQUES\" or \"\"\n",
    "    title: str                       # e.g., \"le quèbec en mots dit\"\n",
    "    authors: list[str]               # e.g., [\"gilles dostaler\", \"gaston miron\", ...]\n",
    "    page: str                        # e.g., \"3\"\n",
    "\n",
    "class TOCExtraction(typing.TypedDict):\n",
    "    metadata: TOCMetadata\n",
    "    toc: list[TOCEntry]\n",
    "\n",
    "pdf_folder = pathlib.Path('your_path_here/toc_pdfs')\n",
    "output_folder = pathlib.Path('your_path_here/toc_transcriptions')\n",
    "output_folder.mkdir(exist_ok=True)\n",
    "csv_path = output_folder / 'transcription_usage.csv'\n",
    "\n",
    "csv_fields = ['pdf_filename', 'json_filename', 'prompt_tokens', 'thoughts_tokens', 'output_tokens', 'total_tokens', 'note']\n",
    "\n",
    "# Read already processed PDFs from CSV\n",
    "processed_pdfs = set()\n",
    "if csv_path.exists():\n",
    "    with open(csv_path, 'r', encoding='utf-8') as csvfile:\n",
    "        reader = csv.DictReader(csvfile)\n",
    "        for row in reader:\n",
    "            if row['json_filename']:  # Only consider as processed if JSON was created\n",
    "                processed_pdfs.add(row['pdf_filename'])\n",
    "\n",
    "prompt = \"\"\"\n",
    "You are an expert in French language journals. \n",
    "You will extract the metadata and the table of contents from a journal from the 1960s. \n",
    "Transcribe it as accurately as possible, keeping the original words.\n",
    "If a field is missing, use an empty string or empty list.\n",
    "\n",
    "Return ONLY the JSON object, with no extra text or explanation.\n",
    "\"\"\"\n",
    "\n",
    "for pdf_path in pdf_folder.glob('*.pdf'):\n",
    "    if pdf_path.name in processed_pdfs:\n",
    "        print(f\"Already processed: {pdf_path.name}\")\n",
    "        continue\n",
    "\n",
    "    filename = pdf_path.stem\n",
    "    json_filename = filename + '.json'\n",
    "    json_path = output_folder / json_filename\n",
    "\n",
    "    try:\n",
    "        file_upload = client.files.upload(file=pdf_path)\n",
    "        response = client.models.generate_content(\n",
    "            model=MODEL_ID,\n",
    "            contents=[file_upload, prompt],\n",
    "            config={\n",
    "                'response_mime_type': 'application/json',\n",
    "                'response_schema': TOCExtraction,\n",
    "                'thinking_config': types.ThinkingConfig(thinking_budget=3000)\n",
    "            },\n",
    "        )\n",
    "\n",
    "        if response.text is None:\n",
    "            raise ValueError(\"API returned no text.\")\n",
    "\n",
    "        data = json.loads(response.text)\n",
    "        with open(json_path, 'w', encoding='utf-8') as f:\n",
    "            json.dump(data, f, ensure_ascii=False, indent=2)\n",
    "\n",
    "        info = {\n",
    "            'pdf_filename': pdf_path.name,\n",
    "            'json_filename': json_filename,\n",
    "            'prompt_tokens': response.usage_metadata.prompt_token_count,\n",
    "            'thoughts_tokens': response.usage_metadata.thoughts_token_count,\n",
    "            'output_tokens': response.usage_metadata.candidates_token_count,\n",
    "            'total_tokens': response.usage_metadata.total_token_count,\n",
    "            'note': ''\n",
    "        }\n",
    "\n",
    "        write_header = not csv_path.exists()\n",
    "        with open(csv_path, 'a', newline='', encoding='utf-8') as csvfile:\n",
    "            writer = csv.DictWriter(csvfile, fieldnames=csv_fields)\n",
    "            if write_header:\n",
    "                writer.writeheader()\n",
    "            writer.writerow(info)\n",
    "\n",
    "        print(f\"Processed: {json_filename}\")\n",
    "        print(f\"Prompt tokens: {info['prompt_tokens']}\")\n",
    "        print(f\"Thoughts tokens: {info['thoughts_tokens']}\")\n",
    "        print(f\"Output tokens: {info['output_tokens']}\")\n",
    "        print(f\"Total tokens: {info['total_tokens']}\\n\")\n",
    "\n",
    "        time.sleep(30)\n",
    "\n",
    "    except Exception as e:\n",
    "        print(f\"Error processing {pdf_path.name}: {e}\")\n",
    "        info = {\n",
    "            'pdf_filename': pdf_path.name,\n",
    "            'json_filename': '',\n",
    "            'prompt_tokens': '',\n",
    "            'thoughts_tokens': '',\n",
    "            'output_tokens': '',\n",
    "            'total_tokens': '',\n",
    "            'note': f'ERROR: {e}'\n",
    "        }\n",
    "        write_header = not csv_path.exists()\n",
    "        with open(csv_path, 'a', newline='', encoding='utf-8') as csvfile:\n",
    "            writer = csv.DictWriter(csvfile, fieldnames=csv_fields)\n",
    "            if write_header:\n",
    "                writer.writeheader()\n",
    "            writer.writerow(info)\n",
    "        continue"
   ]
  },
  {
   "cell_type": "code",
   "execution_count": 82,
   "id": "fc5ea2bc",
   "metadata": {},
   "outputs": [
    {
     "data": {
      "text/plain": [
       "['présentation',\n",
       " 'de la révolte à la révolution',\n",
       " 'du duplessisme au F.L.Q.',\n",
       " 'vers une révolution totale',\n",
       " \"poème de l'antérévolution\",\n",
       " 'un enfant du pays',\n",
       " 'blancheur de moi-même',\n",
       " \"salutations d'usage\",\n",
       " \"chronique d'une révolution\",\n",
       " 'chronique du R.I.N.',\n",
       " 'les divertissements',\n",
       " 'paul morin',\n",
       " 'pour riches seulement',\n",
       " \"chronique de l'éducation\",\n",
       " 'vulgarités']"
      ]
     },
     "execution_count": 82,
     "metadata": {},
     "output_type": "execute_result"
    }
   ],
   "source": [
    "# The ToC transcriptions are saved in the data folder\n",
    "# Let's load one and take a look at it\n",
    "\n",
    "toc_example_path = '../data/toc_transcriptions/toc_163122_1-1963-10.json'\n",
    "with open(toc_example_path, 'r', encoding='utf-8') as f:\n",
    "    toc_example = json.load(f)\n",
    "\n",
    "#print(toc_example)\n",
    "articles_toc = toc_example['toc']\n",
    "titles_toc = [article['title'] for article in articles_toc]\n",
    "titles_toc"
   ]
  },
  {
   "cell_type": "markdown",
   "id": "8324cae8",
   "metadata": {},
   "source": [
    "Neat! We can now compare the article titles and authors from the ToC and the full text extraction of the same issue"
   ]
  },
  {
   "cell_type": "code",
   "execution_count": 81,
   "id": "602a71c8",
   "metadata": {},
   "outputs": [
    {
     "data": {
      "text/plain": [
       "['Présentation',\n",
       " 'De la révolte à la révolution',\n",
       " 'Du duplessisme au F.L.Q.',\n",
       " 'Vers une révolution totale',\n",
       " \"Poème de l'antérévolution\",\n",
       " 'Un enfant du pays',\n",
       " 'Blancheur de moi-même',\n",
       " \"Salutations d'usage\",\n",
       " \"Chronique d'une révolution\",\n",
       " 'Chronique du R.I.N.',\n",
       " 'Les divertissements',\n",
       " 'Paul Morin',\n",
       " 'Pour riches seulement',\n",
       " \"Chronique de l'éducation\",\n",
       " 'Vulgarités']"
      ]
     },
     "execution_count": 81,
     "metadata": {},
     "output_type": "execute_result"
    }
   ],
   "source": [
    "# Now with the full text file\n",
    "\n",
    "with open(\"../data/transcriptions/163122_1-1963-10.json\", \"r\", encoding=\"utf-8\") as f:\n",
    "    articles_fulltext = json.load(f)\n",
    "\n",
    "titles_fulltext = [article[\"title\"] for article in articles_fulltext]\n",
    "titles_fulltext"
   ]
  },
  {
   "cell_type": "markdown",
   "id": "7bef09d3",
   "metadata": {},
   "source": [
    "The first issue seems fine to me! We can scale this up to the entire corpus to see if and where have missing articles."
   ]
  },
  {
   "cell_type": "code",
   "execution_count": 92,
   "id": "380fb5a2",
   "metadata": {},
   "outputs": [
    {
     "name": "stdout",
     "output_type": "stream",
     "text": [
      "Issue: toc_163122_2-1967-09.json\n",
      "  Missing in fulltext: ['editorial', 'québec politique.', 'littérature québécoise.', 'temps modernes.', 'interprétation de la vie quotidienne.']\n",
      "  Extra in fulltext: ['un nouveau parti pris', 'editorial: vive le québec libre!', 'i- des tentatives pour cerner notre alliénation', 'ii- de la contestation.', 'iii- la poussée indépendantiste.', 'iv- les revendications de 1960 à 1967', 'v- les groupes de pression', \"vii- une volonté d'enracinement.\", 'viii- internationalisation du québec', 'un carcan pour un autre', 'petit échantillonnage de lubricité', 'ceux qui pourrissent dans nos prisons depuis 1963.', 'notice necrologique pour notables et politiciens vereux.', 'québec politique. bougez pas, m. johnson!', 'littérature québécoise. david sterne: le pathétique de la misère ou la gloire de la finitude.', 'temps modernes. les moyens de communication', 'interprétation de la vie quotidienne. collage - “informations”', \"qu'est-ce que le centrentenaire?\"]\n",
      "Issue: toc_163122_2-1966-04.json\n",
      "  Missing in fulltext: ['entretien avec claude gauvreau', 'entretien avec claude péloquin', 'poèmes, manifestes', 'la contestation morale']\n",
      "  Extra in fulltext: ['\"papa boss\", de jacques ferron', \"de l'amour fou à vénus-3: entretien avec claude gauvreau\", 'faire le voyage entretien avec claude péloquin', 'poèmes', \"notes à propos de l'écrivain politique et la contestation morale\", 'elio vittorini', 'en vérité, en vérité...', \"les enfants n'amusent plus les prostituées ?\", 'le pouvoir et la politisation']\n",
      "Issue: toc_163122_1-1964-01.json\n",
      "  Missing in fulltext: ['gilles vigneault', 'nina bruneau', 'luc racine', 'michel van schendel', 'i camille limoges', 'ii jacques brault', 'les cercles du mal', 'ce bordel de pays (2)']\n",
      "  Extra in fulltext: [\"l'acheteur\", 'variations sur un vieux thème', 'mademoiselle sommeil', '1 brisure', \"2 l'autre pays\", 'poème au vent indien', 'midi', 'estuaire au temps meilleur', \"chronique de l'éducation (1) le bill 60 ou les démocrates s'amusent à l'heure de l'histoire\", \"chronique de l'éducation (ii) une logique de la souillure\", 'chronique du livre amadou ou: les cercles du mal', 'ce bordel de pays (ii) la brèche']\n",
      "Issue: toc_163122_2-1967-05.json\n",
      "  Missing in fulltext: ['éditorial', 'présentation', 'production culturelle', \"l'insurrection 1837-38\", 'culture, décolonisation', 'politique culturelle', 'les indiens du québec', 'politique internationale', 'le québec politique', 'le québec syndical', 'la laïcité', 'les essais', 'littérature québécoise', 'interprétation de la vie quotidienne', 'marginales']\n",
      "  Extra in fulltext: ['éditorial que faire?', 'présentation dépossession et domination', 'production culturelle et classes sociales au québec', \"les classes sociales au québec et l'insurrection de 1837-38\", 'méthode de travail', 'facteurs culturels et décolonisation', 'production, diffusion et enseignement des arts: pour une politique culturelle', 'les indiens du québec: désagrégation culturelle et prolétarisation', 'québécois ou américains?', 'syndicalisme et nationalisme', \"inventer l'homme (notes)\", 'productions romanesques de la bourgeoisie québécoise', 'la violence créatrice de varèse ouie par ouellette', '2 plus 2 font 5', 'merci, o colonisateurs!', 'un coup bas', 'shampoo rides again', 'on vous le fait pas dire', 'signe des temps?', 'toujours la sérénité', 'les cons se suivent et se ressemblent', 'johnny walker, le préféré des anglais', 'les détentions préventives', 'le tunnel à ti-jean']\n",
      "Issue: toc_163122_1-1963-12.json\n",
      "  Missing in fulltext: ['ce bordel de pays, 1-', \"chronique de l'éducation\"]\n",
      "  Extra in fulltext: ['ce bordel de pays, 1- import - export', \"l'université: une institution de la classe bourgeoise\"]\n",
      "Issue: toc_163122_1-1965-01.json\n",
      "  Missing in fulltext: ['présentation', 'considérations contradictoires', 'ainsi soit-il', 'le joual et nous', 'comme tout le monde ou le post-scriptum', 'un long chemin', 'dire ce que je suis', 'notes sur le littéraire et le politique', \"l'état associé: une idéologie de colonisés\"]\n",
      "  Extra in fulltext: [\"la thèse de l'état associé: une idéologie de colonisés\"]\n",
      "Issue: toc_163122_2-1966-05.json\n",
      "  Missing in fulltext: ['chronique des partis', 'chronique du laïcisme', 'chronique du colonialisme quotidien', '\"crise à parti pris!\"', '(sur) vivre aux u.s.a.', 'interprétations de la vie quotidienne', 'marginales']\n",
      "  Extra in fulltext: ['littérature engagée', \"mots d'ordre et tâches concrètes\", 'au mouvement laïque: virage à gauche', 'la folie bilinguale', '“crise à parti pris!”', '(sur)vivre aux u.s.a.:', 'pourriture & cie (suite)', \"l'âge d'or des chanoines\", 'le thème de la parade', 'on a notre voyage', \"gerda à l'expo ? (suite)\", 'les fondements scientifiques de la colonisation', 'courrier des lecteurs']\n",
      "Issue: toc_163122_2-1968-01.json\n",
      "  Missing in fulltext: ['éditorial', 'québec politique', 'québec syndical', 'québec économique', 'politique internationale']\n",
      "  Extra in fulltext: ['dans le prochain numero (février) - n.b.', 'éditorial: politique internationale: bilan et perspective', \"l'inévitable indépendance du québec: pour qui et au profit de qui?\", 'les commerçants anglophones de montréal, les etats généraux et le général', 'pour un hebdomadaire de gauche', 'le colloque laberge', 'encore radio-canada', 'de la souveraineté-association au \"socialisme à la suédoise\"', \"mesures d'austérité en espagne\", \"les pays arabes et l'expansionnisme\", \"la société d'habitation du québec\", 'les états-unis: état militariste?', 'lettre à chamberland', 'aider les saltimbanques', 'les \"zarts zartisque\"', \"de deux choses l'une\", \"ce qu'on lit et rature ?\", 'leur dire dans leur langue', 'de la télévision télévisuelle', \"interprétations de la vie quotidienne et je n'ai miroir à ce qui m'habite que toi\", 'm.r.2', \"en d'autres paysages\"]\n",
      "Issue: toc_163122_2-1966-09.json\n",
      "  Missing in fulltext: ['le québec politique et syndical', 'le colonialisme quotidien', 'luc racine', 'au québec: le parti unique', 'marginales']\n",
      "  Extra in fulltext: ['derniere heure: parti pris avait un ennemi!', \"l'initiative politique appartient de plus en plus aux syndicats\", 'le colonialisme quotidien portrait du colonisateur', 'actualité laïque', 'le r.i.n., le néo-capitalisme et le (néo-)colonialisme au québec', 'littérature québécoise 2. les éditions esterel', 'mon petit monde à trois pattes de robert lorrain', '2. au québec : le parti unique', 'éphémérides bleues', 'les idées et les $$$$$', 'les citations néo-vulgaires', 'clairvoyance vs globalisme', 'affaires culturelles', 'culture de droite', \"l'amour au drug\"]\n",
      "Issue: toc_163122_1-1965-10.json\n",
      "  Missing in fulltext: ['la mission de m. wagner.', 'chroniques', 'marginales.']\n",
      "  Extra in fulltext: ['la grande mission de m. wagner', 'divorce à la \"canadian\"', \"l'affaire roch denis.\", \"de la foi... et de l'argent\", 'la guyane britannique: une autre victime du colonialisme', 'les livres (1) à propos de \"l\\'incubation”', 'les livres (2) des romans? lesquels? pourquoi?', 'il faudra se remettre à lire des romans. lesquels?', \"sur l'autre...tous les aspects de la vie personnelle\", 'les livres (3) le manuscrit trouvé à même la terre québec', 'ma canadien, je souligne: \"la neige a fondu sur la manicouagan\"', 'pour etre ecoute', 'a propos de strategie', 'a propos des taches des intellectuels']\n",
      "Issue: toc_163122_2-1966-02.json\n",
      "  Missing in fulltext: ['une arme à deux tranchants', 'les machines électorales', 'partis traditionnels — partis révolutionnaires', 'nous ne sommes pas au monde: giguère, péloquin', 'marginales']\n",
      "  Extra in fulltext: ['une arme à deux tranchants éditorial', 'la machine électorale', 'partis de cadres – partis de masse', 'nous ne sommes pas au monde: giguère, péloquin, paul chamberland', 'les lettres de la religieuse irlandaise', 'aveu troublant', 'heureux de vivre en amérique du nord, mais...', 'marchandage ou liberté ?', 'lester b. personne', 'le spaghetti fédéral', 'la croyance de peter & cie', 'mcluhan à la chaise électrique ?', 'mes propriétés', 'en pays rhinocéros', \"donnez-nous aujourd'hui notre pain quotidien...\", 'une question horriblement pendante', 'change pour change', 'devinettes et réalité quotidienne', 'paranoïa au service des terroristes', 'santa lucien']\n",
      "Issue: toc_163122_1-1965-06.json\n",
      "  Missing in fulltext: [\"jean lesage et l'état-béquille éditorial\", 'la manifestation du 24 mai déclaration', 'aventuriers ou responsables, exposé', 'le non-poème et le poème', 'la crotte au nez, extrait de roman']\n",
      "  Extra in fulltext: [\"jean lesage et l'état-béquille\", 'la manifestation du 24 mai', 'aventuriers ou responsables', 'notes sur le non-poème et le poème', 'la crotte au nez', 'cours de formation politique']\n",
      "Issue: toc_163122_1-1964-11.json\n",
      "  Missing in fulltext: ['le samedi de la matraque éditorial']\n",
      "  Extra in fulltext: ['le samedi de la matraque']\n",
      "Issue: toc_163122_2-1967-03.json\n",
      "  Missing in fulltext: ['éditorial', 'le québec politique', 'le québec syndical', 'politique internationale', 'colonialisme quotidien', 'les essais', 'littérature québécoise', 'interprétations de la vie quotidienne', 'marginales']\n",
      "  Extra in fulltext: [\"qu'est-ce que le centrentenaire?\", 'que doit-on attendre du syndicalisme étudiant?', \"au delà du bill 25: l'autogestion dans l'éducation?\", \"l'europe: de l'atlantique à l'oural\", 'la manie du laisser-pourrir', 'investissements américains, nationalisme économique et fédéralisme', '1. berthio: les cent (un) dessins du centenaire', 'préface à livre des comptes', 'retour à la cuisine', 'hihan marchand, prenez garde!', 'les avalés', 'tchou-tchou...', \"merci, monsieur trou d'eau !\", 'pet chez les colonisés', 'à la parade, petit avocat mystique !', 'petits pères, à la parade !', \"à bas l'obsénité\", \"heureusement qu'on les a\"]\n",
      "Issue: toc_163122_1-1964-10.json\n",
      "  Extra in fulltext: ['note éditoriale 1', 'note éditoriale 2']\n",
      "Issue: toc_163122_1-1964-06.json\n",
      "  Missing in fulltext: [\"de l'homo politicus à nous\", 'éditorial', \"l'érotisme dans les romans...\", 'que faire? (3)', 'sur gérard pelletier', 'sur pierre elliott trudeau', 'les livres: le taxi, métier de crève-faim', 'les 32 positions du fédéralisme coopératif', 'vulgarités']\n",
      "  Extra in fulltext: [\"de l'homopoliticus à nous\", \"l'érotisme dans les romans, contes et nouvelles entre 1900 et 1940\", \"l'évolution de cet érotisme\", 'extrait du dossier lapérade (1730)', 'lettres de charles gill à louis-joseph doucet', \"extrait de lamento d'albert laberge\", \"chronique d'une révolution que faire? (3)\", 'action et pensée', \"aspects d'un fédéralisme (1) sur gérard pelletier\", \"aspects d'un fédéraliste (2) sur pierre elliott-trudeau\", 'le taxi: métier de crèvre-faim', \"les 32 positions du fédéralisme coopératif ou le kâmasoûtra de l'hon. lamontagne\", \"l'honorable lamontagne\", \"l'automne des formules mortes\"]\n",
      "Issue: toc_163122_2-1966-03.json\n",
      "  Missing in fulltext: ['marginales']\n",
      "Issue: toc_163122_2-1967-01.json\n",
      "  Missing in fulltext: ['le québec politique', 'le québec syndical', 'politique internationale', 'colonialisme quotidien', 'la laïcité', 'les essais', 'littérature québécoise', 'interprétations de la vie quotidienne', 'marginales']\n",
      "  Extra in fulltext: ['le p.s.q. et le pouvoir des travailleurs', 'autonomiste à québec, hypocrite à ottawa, quêteux à toronto', '\"le travailleur québécois et le syndicalisme\"', 'les élections aux états-unis', 'pour un véritable bilan du cléricalisme', 'politique et théorie:', 'gérald godin ou du langage aliéné bourgeois au langage aliéné prolétaire', 'long distance call minuit vrai', 'un député en maudit...', \"lachez pas c'est pour betôt!\", 'national-socialisme... ou colonial-socialisme?', 'les sacrements sont bien administrés', \"c.r.'s boy...\", 'daniel dans la fausse aux millions', \"c'est genant d'être gouverneur...\", 'y a toujours un bout!', \"la bêtise n'a pas de limites\", 'pourquoi ne pas préciser', \"un conseil n'est jamais perdu\", 'un devoir spellmaniaque', \"proclamation d'une virilité\", 'les émissaires de de gaulle', \"qu'on en finisse vite\", 'ont participé à la rédaction des marginales:']\n",
      "Issue: toc_163122_1-1964-05.json\n",
      "  Missing in fulltext: ['le problème de la colonisation', \"j'en arrache pas - poème\", \"l'a.g.e.u.m.\"]\n",
      "  Extra in fulltext: ['le problème de la colonisation: qui est coupable?', \"j'en arrache pas\", \"l'a.g.e.u.m.: parti unique et démocratie\"]\n",
      "Issue: toc_163122_1-1965-04.json\n",
      "  All titles match.\n",
      "Issue: toc_163122_1-1965-12.json\n",
      "  Missing in fulltext: ['textes poétiques', 'les corps étrangers', 'marginales']\n",
      "  Extra in fulltext: [\"l'ivre morte\", 'les moyens du bord.', 'croire sur formule', \"l'gars d'saint-germain\", 'les corps étrangers (1): une littérature de la parole', 'mise au point.', 'pas de discrimination, pas de monopoles, pas de grands profiteurs.', \"et que l'autodafe soit!\", 'un grand exile parmi nous: robert roussil, sculpteur.', 'une sentence impartiale....', 'delire semantique', 'les perles de mr. camp.', 'anglicisation', 'p.e.t.', 'les noix de co co']\n",
      "Issue: toc_163122_1-1964-09.json\n",
      "  Missing in fulltext: ['manifeste', 'le conflit de \"la presse\"']\n",
      "  Extra in fulltext: ['manifeste 64-65', 'le travail de parti pris', 'le conflit de la presse et la réaction']\n",
      "Issue: toc_163122_1-1965-08.json\n",
      "  Extra in fulltext: [\"1- le m.l.p. doit s'étendre\"]\n",
      "Issue: toc_163122_2-1968-04.json\n",
      "  Missing in fulltext: ['éditorial', 'québec politiqua', 'québec politiqua', 'québec syndical', 'politique internationale', 'reportage', 'hasta la victoria siempre !', 'phrase i de serge garant', 'le québec en mots dit', 'arts artistiques', 'critique parallèle ii', \"d'exil fragment\"]\n",
      "  Extra in fulltext: ['parti pris, le r.i.n. et le m.s.a. éditorial', 'québec politique une tentative de diversion', '1964-1968: appui tactique à la bourgeoisie ? (notes préliminaires)', 'québec syndical les étudiants et la révolution culturelle', 'politique internationale le défi américain', \"reportage les negres blancs d'amerique\", 'ano del guerrillero heroico hasta la victoria siempre!', 'on peut compter sur moi...', 'propos recueillis par andrée paul', 'le québec en mots dit un tabou vaincu', 'les \"zarts-zartistique\" du spectaculaire au spectacle ou ... du rejet d\\'une totalité illusoire à la réalisation.', \"d'exil fragment (extrait de le cactus-ookpik, écriture 4 de blues clair.)\"]\n",
      "Issue: toc_163122_2-1968-05.json\n",
      "  Missing in fulltext: ['', '', '', '', '', '', '', '', '', 'folk-rock mirabellenwasser', '', 'quelques réflexions', '', '', '']\n",
      "  Extra in fulltext: ['la contestation étudiante', \"nègres blancs d'amérique\", \"rené lévesque n'est pas lumumba!\", 'le m.s.a. à droite ou à gauche?', 'galbraith:: prophète ou fumiste?', \"l'avenir du syndicalisme québécois ou quand le c.t.c. fait l'autruche\", 'révolution culturelle en tchécoslovaquie', 'black power: rejoindre la révolution noire mondiale', 'présentation', \"françois aquin: il n'y a pas d'ersatz de la liberté - propos recueilli par jan depocas\", 'les étudiants et la question nationale', 'a la santé de rudi dutschke et quelques autres folk-rock mirabellenwasser', 'le québec en mots dit', 'la poésie en 1968: quelques réflexions', 'objecteur de conscience', 'poèmes inédits', 'trois mois après', 'débat-forum', 'étudiant', \"le m.s.a. et l'ambiguïté de la gauche\", 'questions en réponse à des questions', 'question 1', 'question 2', 'question 3', 'sociologue', 'écrivain cinéaste', 'cinéaste', 'question 1', 'question 2', 'question 3', 'professeur', 'politicologue', 'politicologue', 'journaliste', 'avant-propos', 'portrait du colonisé québécois', \"l'état: du régime présidentiel à la nation\", 'augestion', \"le syndicalisme : une sorte d'anti-état\", \"changer l'homme\", 'définition nationale des etudiants', 'à la santé de rudi dutschke et quelques autres folk-rock mirabellenwasser', 'on est beaux, stie!', 'la poésie en 1968: quelques réflexions', 'objecteur de conscience', 'à bout portant', 'les signes de notre vie', \"le salut d'entre les jours\", 'trois mois après']\n",
      "Issue: toc_163122_2-1966-01.json\n",
      "  Missing in fulltext: ['éditorial', 'campus libre/j.e.']\n",
      "  Extra in fulltext: ['notre politique rédactionnelle', \"sur l'affaire du quartier latin\"]\n",
      "Issue: toc_163122_1-1965-05.json\n",
      "  All titles match.\n",
      "Issue: toc_163122_1-1964-04.json\n",
      "  Missing in fulltext: ['du zâr nilotique...', \"godard: une difficulté d'être...\"]\n",
      "  Extra in fulltext: ['du zâr nilotique à notre bizarre colonie', \"godard: une difficulté d'être exemplaire\"]\n",
      "Issue: toc_163122_1-1964-12.json\n",
      "  Missing in fulltext: ['pas une goutte de sang...', \"l'afficheur hurle — poème\"]\n",
      "  Extra in fulltext: ['éditorial', \"l'afficheur hurle\"]\n",
      "Issue: toc_163122_2-1968-02.json\n",
      "  Missing in fulltext: ['éditorial', 'québec politique', 'québec économique', 'politique internationale', 'discours de andrée ferreti', 'le québec en mots dit', 'les arts artistiques', 'levac . . . loranger . . .']\n",
      "  Extra in fulltext: ['grouille pas, daniel, ça serait obscène!', \"on n'est pas le congo\", 'la baisse des investissements au québec', 'la dévaluation du sterling', 'nous sommes doublement colonisés et exploités en tant que québécois et en tant que travailleurs', 'engueulez miron!', 'les \"zarts zartistique\"', 'levac loranger théâtre... événement vécu par la collectivité']\n",
      "Issue: toc_163122_1-1963-11.json\n",
      "  All titles match.\n",
      "Issue: toc_163122_1-1964-03.json\n",
      "  Missing in fulltext: ['éditorial', 'du p.s.q. 1', 'du p.s.q. 2', \"de l'information\", \"de l'éducation\", 'ce bordel de pays 4', 'contre polyeucte', 'de jacques berque', \"sur l'information\"]\n",
      "  Extra in fulltext: ['lettre de jacques berque', 'la fondation du p.s.q. est-elle encore possible?', 'le p.s.q. à la croisée des chemins', 'm. jean-charles harvey, un \"mystique de la race\" (1)', 'phillippaubert', 'la neige flambe', 'vulgarité: contre polyeucte']\n",
      "Issue: toc_163122_1-1965-02.json\n",
      "  All titles match.\n",
      "Issue: toc_163122_2-1966-11.json\n",
      "  Missing in fulltext: ['le f.l.q. et nous', 'luc racine', 'pierre maheu', 'gaëtan tremblay', 'le f.l.q. et nous lettre de valères et gagnon', 'de paris, un texte de michel bernard sur hubert aquin', 'le québec politique et syndical, i et ii', 'colonialisme quotidien p.p.', 'politique internationale', 'la laïcité', 'les essais', 'littérature québécoise', 'interprétations de la vie quotidienne', 'marginales']\n",
      "  Extra in fulltext: ['le f. l. q. et nous', 'le clergé et les classes sociales: pour une stratégie de la gauche', \"l'âge d'or du cléricalisme morceaux choisis\", 'les ambiguïtés du néo-cléricalisme', \"document prochain épisode ou l'autocritique d'une impuissance\", 'document grève de la fain pour la reconnaissance “du crime politique” au québec (canada) et du statut de “prisonniers politiques” pour tous les partisans du f. l. q.', 'le québec politique et syndical (1) le r. i. n. et le socialisme', 'le québec politique et syndical (2) le mémoire f.t.q.-c.s.n.-u.c.c. sur la constitution', 'le colonialisme quotidien le strip-tease de la confédé : un spectacle permanent', \"politique internationale les leçons de l'amérique latine\", \"la laïcité le laïcisme et l'école\", \"les essais le m. l. f. et la laïcisation de l'éducation\", \"littérature québécoise l'avalée des avalés ou l'avaleuse des avaleurs!\", 'interprétations de la vie quotidienne gadgets et actualités', 'marginales dialogue, sérénité...', 'marginales une cuite mémorable', 'français, je vous ai compris', 'foutre! la \"pilule\" gratuite aux épouses des militaires américains', \"babel, le joual anglais, hennit à l'hôtel...\", 'secrétariat à la rédaction ?', 'les crisse de traducteurs !']\n",
      "Issue: toc_163122_1-1965-03.json\n",
      "  All titles match.\n",
      "Issue: toc_163122_2-1967-10.json\n",
      "  Missing in fulltext: ['entrevue avec rené lévesque', 'québec politique', 'québec syndical', 'québec économique', 'les arts artistiques', 'littérature québécoise', 'interprétation de la vie quotidienne']\n",
      "  Extra in fulltext: ['une entrevue avec m. rené lévesque', \"-créer deux, trois... de nombreux vietnam, voilà le mot d'ordre!\", \"remaniement ministériel à l'u.n.\", \"l'unilinguisme au québec\", 'sur deux grèves.', 'les autobus', \"les radiologistes ou du mauvais usage de l'autogestion\", 'ugeq', 'la pauvreté, la misère et le chômage...', 'il est né le divin enfant ... raoul duguay', 'intelligence quand tu nous tiens...', \"un verbal qui n'est pas verbeux\", 'un bordi borda révolutionnaire', 'ni saint ni lépreux', \"galarneau: moi j'aime les saucisses. jonathan: moi j'aime les pénis.\", 'québec...?', 'vertigo', 'un film de réflexion', 'vertigo', \"montréal '68\"]\n",
      "Issue: toc_163122_1-1964-02.json\n",
      "  Missing in fulltext: ['gérald godin', 'andré major', \"chronique d'une révolution\", 'chronique du r.i.n.', 'les livres', 'ce bordel de pays', 'les divertissements', \"l'information\"]\n",
      "  Extra in fulltext: ['nouvelles - alberts (1), ou la vengeance', 'nouvelles - comme une petite boue humaine', \"chronique d'une révolution 1 - une commission de propagande\", \"chronique d'une révolution 2 - que faire?\", \"chronique d'une révolution 3 - les colons et le fric\", 'chronique du rin - le programme du rin', \"chronique de l'éducation 2 - le chameau et l'oasis\", \"les livres 1 - poésie-poetry '64\", 'les livres 2 - les essais de pierre vadeboncoeur', 'ce bordel de pays 3 - de la contrebande à la liberté', 'les divertissements 1 - quand le père claus cherche à nous passer un sapin...', \"les divertissements 2 - bergman l'ingrat\", 'les divertissements 3 - jazz dans la vie quotidienne', \"l'information - pour une information globale\"]\n",
      "Issue: toc_163122_1-1963-10.json\n",
      "  All titles match.\n",
      "Issue: toc_163122_2-1968-03.json\n",
      "  Missing in fulltext: ['', '', '', '', '', \"les noirs d'ici\", \"l'option lévesque\", 'manifeste parti pris 1964-1965', 'avec marcel pépin']\n",
      "  Extra in fulltext: ['éditorial', 'québec politique', 'québec syndical', 'québec économique', 'politique internationale', \"reportage: les noirs d'ici\", \"table ronde: l'option lévesque\", 'manifeste 1964-1965', 'la politisation des syndicats est inévitable']\n"
     ]
    }
   ],
   "source": [
    "import re\n",
    "from collections import defaultdict\n",
    "from rapidfuzz import process, fuzz\n",
    "\n",
    "FUZZY_THRESHOLD = 90  # You can adjust this value\n",
    "\n",
    "def fuzzy_in_list(title, candidates, threshold=FUZZY_THRESHOLD):\n",
    "    match, score, _ = process.extractOne(title, candidates, scorer=fuzz.token_sort_ratio)\n",
    "    return score >= threshold\n",
    "\n",
    "toc_dir = \"../data/toc_transcriptions\"\n",
    "fulltext_dir = \"../data/transcriptions\"\n",
    "\n",
    "# Helper: group fulltext files by base issue name (strip -A, -B, etc.)\n",
    "def get_issue_base(filename):\n",
    "    return re.sub(r\"(-[A-Z])?\\.json$\", \".json\", filename)\n",
    "\n",
    "# Build a mapping from base issue name to all its split parts\n",
    "fulltext_files = defaultdict(list)\n",
    "for fname in os.listdir(fulltext_dir):\n",
    "    if fname.endswith(\".json\"):\n",
    "        base = get_issue_base(fname)\n",
    "        fulltext_files[base].append(fname)\n",
    "\n",
    "results = []\n",
    "\n",
    "for toc_file in os.listdir(toc_dir):\n",
    "    if not toc_file.endswith(\".json\"):\n",
    "        continue\n",
    "    toc_path = os.path.join(toc_dir, toc_file)\n",
    "    # Remove 'toc_' prefix for matching\n",
    "    base_issue = toc_file.replace(\"toc_\", \"\")\n",
    "    if base_issue not in fulltext_files:\n",
    "        print(f\"Missing fulltext for {toc_file}\")\n",
    "        continue\n",
    "\n",
    "    # Load ToC titles\n",
    "    with open(toc_path, \"r\", encoding=\"utf-8\") as f:\n",
    "        toc_data = json.load(f)\n",
    "        toc_titles = [entry[\"title\"].strip().lower() for entry in toc_data[\"toc\"]]\n",
    "\n",
    "    # Merge all split fulltext parts for this issue\n",
    "    merged_articles = []\n",
    "    for part_file in sorted(fulltext_files[base_issue]):\n",
    "        with open(os.path.join(fulltext_dir, part_file), \"r\", encoding=\"utf-8\") as f:\n",
    "            merged_articles.extend(json.load(f))\n",
    "\n",
    "    fulltext_titles = [entry[\"title\"].strip().lower() for entry in merged_articles]\n",
    "\n",
    "    # Compare\n",
    "    missing_in_fulltext = [title for title in toc_titles if not fuzzy_in_list(title, fulltext_titles)]\n",
    "    extra_in_fulltext = [title for title in fulltext_titles if not fuzzy_in_list(title, toc_titles)]\n",
    "\n",
    "    results.append({\n",
    "        \"issue\": toc_file,\n",
    "        \"missing_in_fulltext\": missing_in_fulltext,\n",
    "        \"extra_in_fulltext\": extra_in_fulltext\n",
    "    })\n",
    "\n",
    "# Print summary\n",
    "for r in results:\n",
    "    print(f\"Issue: {r['issue']}\")\n",
    "    if r[\"missing_in_fulltext\"]:\n",
    "        print(\"  Missing in fulltext:\", r[\"missing_in_fulltext\"])\n",
    "    if r[\"extra_in_fulltext\"]:\n",
    "        print(\"  Extra in fulltext:\", r[\"extra_in_fulltext\"])\n",
    "    if not r[\"missing_in_fulltext\"] and not r[\"extra_in_fulltext\"]:\n",
    "        print(\"  All titles match.\")"
   ]
  },
  {
   "cell_type": "code",
   "execution_count": 93,
   "id": "91e194d0",
   "metadata": {},
   "outputs": [
    {
     "data": {
      "application/vnd.microsoft.datawrangler.viewer.v0+json": {
       "columns": [
        {
         "name": "index",
         "rawType": "int64",
         "type": "integer"
        },
        {
         "name": "issue",
         "rawType": "object",
         "type": "string"
        },
        {
         "name": "missing_count",
         "rawType": "int64",
         "type": "integer"
        },
        {
         "name": "extra_count",
         "rawType": "int64",
         "type": "integer"
        },
        {
         "name": "missing_titles",
         "rawType": "object",
         "type": "string"
        },
        {
         "name": "extra_titles",
         "rawType": "object",
         "type": "string"
        },
        {
         "name": "status",
         "rawType": "object",
         "type": "string"
        }
       ],
       "ref": "91d238cb-7afe-418d-9faf-33da7e6bf42f",
       "rows": [
        [
         "0",
         "toc_163122_2-1967-09.json",
         "5",
         "18",
         "editorial; québec politique.; littérature québécoise.; temps modernes.; interprétation de la vie quotidienne.",
         "un nouveau parti pris; editorial: vive le québec libre!; i- des tentatives pour cerner notre alliénation; ii- de la contestation.; iii- la poussée indépendantiste.; iv- les revendications de 1960 à 1967; v- les groupes de pression; vii- une volonté d'enracinement.; viii- internationalisation du québec; un carcan pour un autre; petit échantillonnage de lubricité; ceux qui pourrissent dans nos prisons depuis 1963.; notice necrologique pour notables et politiciens vereux.; québec politique. bougez pas, m. johnson!; littérature québécoise. david sterne: le pathétique de la misère ou la gloire de la finitude.; temps modernes. les moyens de communication; interprétation de la vie quotidienne. collage - “informations”; qu'est-ce que le centrentenaire?",
         "both"
        ],
        [
         "1",
         "toc_163122_2-1966-04.json",
         "4",
         "9",
         "entretien avec claude gauvreau; entretien avec claude péloquin; poèmes, manifestes; la contestation morale",
         "\"papa boss\", de jacques ferron; de l'amour fou à vénus-3: entretien avec claude gauvreau; faire le voyage entretien avec claude péloquin; poèmes; notes à propos de l'écrivain politique et la contestation morale; elio vittorini; en vérité, en vérité...; les enfants n'amusent plus les prostituées ?; le pouvoir et la politisation",
         "both"
        ],
        [
         "2",
         "toc_163122_1-1964-01.json",
         "8",
         "12",
         "gilles vigneault; nina bruneau; luc racine; michel van schendel; i camille limoges; ii jacques brault; les cercles du mal; ce bordel de pays (2)",
         "l'acheteur; variations sur un vieux thème; mademoiselle sommeil; 1 brisure; 2 l'autre pays; poème au vent indien; midi; estuaire au temps meilleur; chronique de l'éducation (1) le bill 60 ou les démocrates s'amusent à l'heure de l'histoire; chronique de l'éducation (ii) une logique de la souillure; chronique du livre amadou ou: les cercles du mal; ce bordel de pays (ii) la brèche",
         "both"
        ],
        [
         "3",
         "toc_163122_2-1967-05.json",
         "15",
         "24",
         "éditorial; présentation; production culturelle; l'insurrection 1837-38; culture, décolonisation; politique culturelle; les indiens du québec; politique internationale; le québec politique; le québec syndical; la laïcité; les essais; littérature québécoise; interprétation de la vie quotidienne; marginales",
         "éditorial que faire?; présentation dépossession et domination; production culturelle et classes sociales au québec; les classes sociales au québec et l'insurrection de 1837-38; méthode de travail; facteurs culturels et décolonisation; production, diffusion et enseignement des arts: pour une politique culturelle; les indiens du québec: désagrégation culturelle et prolétarisation; québécois ou américains?; syndicalisme et nationalisme; inventer l'homme (notes); productions romanesques de la bourgeoisie québécoise; la violence créatrice de varèse ouie par ouellette; 2 plus 2 font 5; merci, o colonisateurs!; un coup bas; shampoo rides again; on vous le fait pas dire; signe des temps?; toujours la sérénité; les cons se suivent et se ressemblent; johnny walker, le préféré des anglais; les détentions préventives; le tunnel à ti-jean",
         "both"
        ],
        [
         "4",
         "toc_163122_1-1963-12.json",
         "2",
         "2",
         "ce bordel de pays, 1-; chronique de l'éducation",
         "ce bordel de pays, 1- import - export; l'université: une institution de la classe bourgeoise",
         "both"
        ]
       ],
       "shape": {
        "columns": 6,
        "rows": 5
       }
      },
      "text/html": [
       "<div>\n",
       "<style scoped>\n",
       "    .dataframe tbody tr th:only-of-type {\n",
       "        vertical-align: middle;\n",
       "    }\n",
       "\n",
       "    .dataframe tbody tr th {\n",
       "        vertical-align: top;\n",
       "    }\n",
       "\n",
       "    .dataframe thead th {\n",
       "        text-align: right;\n",
       "    }\n",
       "</style>\n",
       "<table border=\"1\" class=\"dataframe\">\n",
       "  <thead>\n",
       "    <tr style=\"text-align: right;\">\n",
       "      <th></th>\n",
       "      <th>issue</th>\n",
       "      <th>missing_count</th>\n",
       "      <th>extra_count</th>\n",
       "      <th>missing_titles</th>\n",
       "      <th>extra_titles</th>\n",
       "      <th>status</th>\n",
       "    </tr>\n",
       "  </thead>\n",
       "  <tbody>\n",
       "    <tr>\n",
       "      <th>0</th>\n",
       "      <td>toc_163122_2-1967-09.json</td>\n",
       "      <td>5</td>\n",
       "      <td>18</td>\n",
       "      <td>editorial; québec politique.; littérature québ...</td>\n",
       "      <td>un nouveau parti pris; editorial: vive le québ...</td>\n",
       "      <td>both</td>\n",
       "    </tr>\n",
       "    <tr>\n",
       "      <th>1</th>\n",
       "      <td>toc_163122_2-1966-04.json</td>\n",
       "      <td>4</td>\n",
       "      <td>9</td>\n",
       "      <td>entretien avec claude gauvreau; entretien avec...</td>\n",
       "      <td>\"papa boss\", de jacques ferron; de l'amour fou...</td>\n",
       "      <td>both</td>\n",
       "    </tr>\n",
       "    <tr>\n",
       "      <th>2</th>\n",
       "      <td>toc_163122_1-1964-01.json</td>\n",
       "      <td>8</td>\n",
       "      <td>12</td>\n",
       "      <td>gilles vigneault; nina bruneau; luc racine; mi...</td>\n",
       "      <td>l'acheteur; variations sur un vieux thème; mad...</td>\n",
       "      <td>both</td>\n",
       "    </tr>\n",
       "    <tr>\n",
       "      <th>3</th>\n",
       "      <td>toc_163122_2-1967-05.json</td>\n",
       "      <td>15</td>\n",
       "      <td>24</td>\n",
       "      <td>éditorial; présentation; production culturelle...</td>\n",
       "      <td>éditorial que faire?; présentation dépossessio...</td>\n",
       "      <td>both</td>\n",
       "    </tr>\n",
       "    <tr>\n",
       "      <th>4</th>\n",
       "      <td>toc_163122_1-1963-12.json</td>\n",
       "      <td>2</td>\n",
       "      <td>2</td>\n",
       "      <td>ce bordel de pays, 1-; chronique de l'éducation</td>\n",
       "      <td>ce bordel de pays, 1- import - export; l'unive...</td>\n",
       "      <td>both</td>\n",
       "    </tr>\n",
       "  </tbody>\n",
       "</table>\n",
       "</div>"
      ],
      "text/plain": [
       "                       issue  missing_count  extra_count  \\\n",
       "0  toc_163122_2-1967-09.json              5           18   \n",
       "1  toc_163122_2-1966-04.json              4            9   \n",
       "2  toc_163122_1-1964-01.json              8           12   \n",
       "3  toc_163122_2-1967-05.json             15           24   \n",
       "4  toc_163122_1-1963-12.json              2            2   \n",
       "\n",
       "                                      missing_titles  \\\n",
       "0  editorial; québec politique.; littérature québ...   \n",
       "1  entretien avec claude gauvreau; entretien avec...   \n",
       "2  gilles vigneault; nina bruneau; luc racine; mi...   \n",
       "3  éditorial; présentation; production culturelle...   \n",
       "4    ce bordel de pays, 1-; chronique de l'éducation   \n",
       "\n",
       "                                        extra_titles status  \n",
       "0  un nouveau parti pris; editorial: vive le québ...   both  \n",
       "1  \"papa boss\", de jacques ferron; de l'amour fou...   both  \n",
       "2  l'acheteur; variations sur un vieux thème; mad...   both  \n",
       "3  éditorial que faire?; présentation dépossessio...   both  \n",
       "4  ce bordel de pays, 1- import - export; l'unive...   both  "
      ]
     },
     "execution_count": 93,
     "metadata": {},
     "output_type": "execute_result"
    }
   ],
   "source": [
    "overview = []\n",
    "for r in results:\n",
    "    overview.append({\n",
    "        \"issue\": r[\"issue\"],\n",
    "        \"missing_count\": len(r[\"missing_in_fulltext\"]),\n",
    "        \"extra_count\": len(r[\"extra_in_fulltext\"]),\n",
    "        \"missing_titles\": \"; \".join(r[\"missing_in_fulltext\"]),\n",
    "        \"extra_titles\": \"; \".join(r[\"extra_in_fulltext\"]),\n",
    "        \"status\": (\n",
    "            \"all_match\"\n",
    "            if not r[\"missing_in_fulltext\"] and not r[\"extra_in_fulltext\"]\n",
    "            else \"missing\" if r[\"missing_in_fulltext\"] and not r[\"extra_in_fulltext\"]\n",
    "            else \"extra\" if r[\"extra_in_fulltext\"] and not r[\"missing_in_fulltext\"]\n",
    "            else \"both\"\n",
    "        ),\n",
    "    })\n",
    "\n",
    "df_overview = pd.DataFrame(overview)\n",
    "df_overview.head()"
   ]
  },
  {
   "cell_type": "code",
   "execution_count": null,
   "id": "74b3eadf",
   "metadata": {},
   "outputs": [],
   "source": []
  }
 ],
 "metadata": {
  "kernelspec": {
   "display_name": "cesta",
   "language": "python",
   "name": "cesta"
  },
  "language_info": {
   "codemirror_mode": {
    "name": "ipython",
    "version": 3
   },
   "file_extension": ".py",
   "mimetype": "text/x-python",
   "name": "python",
   "nbconvert_exporter": "python",
   "pygments_lexer": "ipython3",
   "version": "3.12.2"
  }
 },
 "nbformat": 4,
 "nbformat_minor": 5
}
